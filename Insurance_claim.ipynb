{
  "nbformat": 4,
  "nbformat_minor": 0,
  "metadata": {
    "colab": {
      "name": "Insurance claim.ipynb",
      "provenance": [],
      "authorship_tag": "ABX9TyPmqzotK1enSRsgZ3Uu2pYl",
      "include_colab_link": true
    },
    "kernelspec": {
      "name": "python3",
      "display_name": "Python 3"
    },
    "language_info": {
      "name": "python"
    },
    "accelerator": "GPU"
  },
  "cells": [
    {
      "cell_type": "markdown",
      "metadata": {
        "id": "view-in-github",
        "colab_type": "text"
      },
      "source": [
        "<a href=\"https://colab.research.google.com/github/Mmbsaksd/Insurance-Claim/blob/main/Insurance_claim.ipynb\" target=\"_parent\"><img src=\"https://colab.research.google.com/assets/colab-badge.svg\" alt=\"Open In Colab\"/></a>"
      ]
    },
    {
      "cell_type": "code",
      "source": [
        "pip install scikit-optimize"
      ],
      "metadata": {
        "colab": {
          "base_uri": "https://localhost:8080/"
        },
        "id": "dtjV_gDWVNrd",
        "outputId": "fccb405c-b019-4611-8905-cc3a64d386b7"
      },
      "execution_count": 6,
      "outputs": [
        {
          "output_type": "stream",
          "name": "stdout",
          "text": [
            "Collecting scikit-optimize\n",
            "  Downloading scikit_optimize-0.9.0-py2.py3-none-any.whl (100 kB)\n",
            "\u001b[?25l\r\u001b[K     |███▎                            | 10 kB 18.8 MB/s eta 0:00:01\r\u001b[K     |██████▌                         | 20 kB 20.8 MB/s eta 0:00:01\r\u001b[K     |█████████▉                      | 30 kB 10.7 MB/s eta 0:00:01\r\u001b[K     |█████████████                   | 40 kB 8.6 MB/s eta 0:00:01\r\u001b[K     |████████████████▍               | 51 kB 4.7 MB/s eta 0:00:01\r\u001b[K     |███████████████████▋            | 61 kB 5.6 MB/s eta 0:00:01\r\u001b[K     |██████████████████████▉         | 71 kB 5.6 MB/s eta 0:00:01\r\u001b[K     |██████████████████████████▏     | 81 kB 5.5 MB/s eta 0:00:01\r\u001b[K     |█████████████████████████████▍  | 92 kB 6.2 MB/s eta 0:00:01\r\u001b[K     |████████████████████████████████| 100 kB 4.1 MB/s \n",
            "\u001b[?25hRequirement already satisfied: scikit-learn>=0.20.0 in /usr/local/lib/python3.7/dist-packages (from scikit-optimize) (1.0.2)\n",
            "Requirement already satisfied: joblib>=0.11 in /usr/local/lib/python3.7/dist-packages (from scikit-optimize) (1.1.0)\n",
            "Collecting pyaml>=16.9\n",
            "  Downloading pyaml-21.10.1-py2.py3-none-any.whl (24 kB)\n",
            "Requirement already satisfied: numpy>=1.13.3 in /usr/local/lib/python3.7/dist-packages (from scikit-optimize) (1.21.6)\n",
            "Requirement already satisfied: scipy>=0.19.1 in /usr/local/lib/python3.7/dist-packages (from scikit-optimize) (1.4.1)\n",
            "Requirement already satisfied: PyYAML in /usr/local/lib/python3.7/dist-packages (from pyaml>=16.9->scikit-optimize) (3.13)\n",
            "Requirement already satisfied: threadpoolctl>=2.0.0 in /usr/local/lib/python3.7/dist-packages (from scikit-learn>=0.20.0->scikit-optimize) (3.1.0)\n",
            "Installing collected packages: pyaml, scikit-optimize\n",
            "Successfully installed pyaml-21.10.1 scikit-optimize-0.9.0\n"
          ]
        }
      ]
    },
    {
      "cell_type": "code",
      "execution_count": 7,
      "metadata": {
        "id": "csaDYMAIynSF"
      },
      "outputs": [],
      "source": [
        "#Importing required libraries\n",
        "import pandas as pd\n",
        "import numpy as np\n",
        "import matplotlib.pyplot as plt\n",
        "import seaborn as sns\n",
        "\n",
        "from sklearn.model_selection import train_test_split\n",
        "from sklearn.preprocessing import OneHotEncoder\n",
        "from sklearn.model_selection import RandomizedSearchCV\n",
        "from sklearn.model_selection import GridSearchCV\n",
        "from sklearn.preprocessing import OneHotEncoder\n",
        "from skopt import BayesSearchCV\n",
        "from skopt.space import Real, Categorical, Integer\n",
        "from sklearn import ensemble"
      ]
    },
    {
      "cell_type": "markdown",
      "source": [
        "#**Data Preprocessing**"
      ],
      "metadata": {
        "id": "GceyF-JOunnV"
      }
    },
    {
      "cell_type": "code",
      "source": [
        "#Loading Datasets\n",
        "df = pd.read_csv('/content/train.csv')\n",
        "df.head()"
      ],
      "metadata": {
        "colab": {
          "base_uri": "https://localhost:8080/",
          "height": 300
        },
        "id": "dQCp4LZY01Wi",
        "outputId": "00ab8f95-0df5-4008-d921-e9f4f4c038eb"
      },
      "execution_count": 12,
      "outputs": [
        {
          "output_type": "execute_result",
          "data": {
            "text/plain": [
              "   Id  Product_Info_1 Product_Info_2  Product_Info_3  Product_Info_4  \\\n",
              "0   2               1             D3              10        0.076923   \n",
              "1   5               1             A1              26        0.076923   \n",
              "2   6               1             E1              26        0.076923   \n",
              "3   7               1             D4              10        0.487179   \n",
              "4   8               1             D2              26        0.230769   \n",
              "\n",
              "   Product_Info_5  Product_Info_6  Product_Info_7   Ins_Age        Ht  ...  \\\n",
              "0               2               1               1  0.641791  0.581818  ...   \n",
              "1               2               3               1  0.059701  0.600000  ...   \n",
              "2               2               3               1  0.029851  0.745455  ...   \n",
              "3               2               3               1  0.164179  0.672727  ...   \n",
              "4               2               3               1  0.417910  0.654545  ...   \n",
              "\n",
              "   Medical_Keyword_40  Medical_Keyword_41  Medical_Keyword_42  \\\n",
              "0                 0.0                 0.0                 0.0   \n",
              "1                 0.0                 0.0                 0.0   \n",
              "2                 0.0                 0.0                 0.0   \n",
              "3                 0.0                 0.0                 0.0   \n",
              "4                 0.0                 0.0                 0.0   \n",
              "\n",
              "   Medical_Keyword_43  Medical_Keyword_44  Medical_Keyword_45  \\\n",
              "0                 0.0                 0.0                 0.0   \n",
              "1                 0.0                 0.0                 0.0   \n",
              "2                 0.0                 0.0                 0.0   \n",
              "3                 0.0                 0.0                 0.0   \n",
              "4                 0.0                 0.0                 0.0   \n",
              "\n",
              "   Medical_Keyword_46  Medical_Keyword_47  Medical_Keyword_48  Response  \n",
              "0                 0.0                 0.0                 0.0       8.0  \n",
              "1                 0.0                 0.0                 0.0       4.0  \n",
              "2                 0.0                 0.0                 0.0       8.0  \n",
              "3                 0.0                 0.0                 0.0       8.0  \n",
              "4                 0.0                 0.0                 0.0       8.0  \n",
              "\n",
              "[5 rows x 128 columns]"
            ],
            "text/html": [
              "\n",
              "  <div id=\"df-67c14893-92cc-4246-a76d-b1812a7d6d2e\">\n",
              "    <div class=\"colab-df-container\">\n",
              "      <div>\n",
              "<style scoped>\n",
              "    .dataframe tbody tr th:only-of-type {\n",
              "        vertical-align: middle;\n",
              "    }\n",
              "\n",
              "    .dataframe tbody tr th {\n",
              "        vertical-align: top;\n",
              "    }\n",
              "\n",
              "    .dataframe thead th {\n",
              "        text-align: right;\n",
              "    }\n",
              "</style>\n",
              "<table border=\"1\" class=\"dataframe\">\n",
              "  <thead>\n",
              "    <tr style=\"text-align: right;\">\n",
              "      <th></th>\n",
              "      <th>Id</th>\n",
              "      <th>Product_Info_1</th>\n",
              "      <th>Product_Info_2</th>\n",
              "      <th>Product_Info_3</th>\n",
              "      <th>Product_Info_4</th>\n",
              "      <th>Product_Info_5</th>\n",
              "      <th>Product_Info_6</th>\n",
              "      <th>Product_Info_7</th>\n",
              "      <th>Ins_Age</th>\n",
              "      <th>Ht</th>\n",
              "      <th>...</th>\n",
              "      <th>Medical_Keyword_40</th>\n",
              "      <th>Medical_Keyword_41</th>\n",
              "      <th>Medical_Keyword_42</th>\n",
              "      <th>Medical_Keyword_43</th>\n",
              "      <th>Medical_Keyword_44</th>\n",
              "      <th>Medical_Keyword_45</th>\n",
              "      <th>Medical_Keyword_46</th>\n",
              "      <th>Medical_Keyword_47</th>\n",
              "      <th>Medical_Keyword_48</th>\n",
              "      <th>Response</th>\n",
              "    </tr>\n",
              "  </thead>\n",
              "  <tbody>\n",
              "    <tr>\n",
              "      <th>0</th>\n",
              "      <td>2</td>\n",
              "      <td>1</td>\n",
              "      <td>D3</td>\n",
              "      <td>10</td>\n",
              "      <td>0.076923</td>\n",
              "      <td>2</td>\n",
              "      <td>1</td>\n",
              "      <td>1</td>\n",
              "      <td>0.641791</td>\n",
              "      <td>0.581818</td>\n",
              "      <td>...</td>\n",
              "      <td>0.0</td>\n",
              "      <td>0.0</td>\n",
              "      <td>0.0</td>\n",
              "      <td>0.0</td>\n",
              "      <td>0.0</td>\n",
              "      <td>0.0</td>\n",
              "      <td>0.0</td>\n",
              "      <td>0.0</td>\n",
              "      <td>0.0</td>\n",
              "      <td>8.0</td>\n",
              "    </tr>\n",
              "    <tr>\n",
              "      <th>1</th>\n",
              "      <td>5</td>\n",
              "      <td>1</td>\n",
              "      <td>A1</td>\n",
              "      <td>26</td>\n",
              "      <td>0.076923</td>\n",
              "      <td>2</td>\n",
              "      <td>3</td>\n",
              "      <td>1</td>\n",
              "      <td>0.059701</td>\n",
              "      <td>0.600000</td>\n",
              "      <td>...</td>\n",
              "      <td>0.0</td>\n",
              "      <td>0.0</td>\n",
              "      <td>0.0</td>\n",
              "      <td>0.0</td>\n",
              "      <td>0.0</td>\n",
              "      <td>0.0</td>\n",
              "      <td>0.0</td>\n",
              "      <td>0.0</td>\n",
              "      <td>0.0</td>\n",
              "      <td>4.0</td>\n",
              "    </tr>\n",
              "    <tr>\n",
              "      <th>2</th>\n",
              "      <td>6</td>\n",
              "      <td>1</td>\n",
              "      <td>E1</td>\n",
              "      <td>26</td>\n",
              "      <td>0.076923</td>\n",
              "      <td>2</td>\n",
              "      <td>3</td>\n",
              "      <td>1</td>\n",
              "      <td>0.029851</td>\n",
              "      <td>0.745455</td>\n",
              "      <td>...</td>\n",
              "      <td>0.0</td>\n",
              "      <td>0.0</td>\n",
              "      <td>0.0</td>\n",
              "      <td>0.0</td>\n",
              "      <td>0.0</td>\n",
              "      <td>0.0</td>\n",
              "      <td>0.0</td>\n",
              "      <td>0.0</td>\n",
              "      <td>0.0</td>\n",
              "      <td>8.0</td>\n",
              "    </tr>\n",
              "    <tr>\n",
              "      <th>3</th>\n",
              "      <td>7</td>\n",
              "      <td>1</td>\n",
              "      <td>D4</td>\n",
              "      <td>10</td>\n",
              "      <td>0.487179</td>\n",
              "      <td>2</td>\n",
              "      <td>3</td>\n",
              "      <td>1</td>\n",
              "      <td>0.164179</td>\n",
              "      <td>0.672727</td>\n",
              "      <td>...</td>\n",
              "      <td>0.0</td>\n",
              "      <td>0.0</td>\n",
              "      <td>0.0</td>\n",
              "      <td>0.0</td>\n",
              "      <td>0.0</td>\n",
              "      <td>0.0</td>\n",
              "      <td>0.0</td>\n",
              "      <td>0.0</td>\n",
              "      <td>0.0</td>\n",
              "      <td>8.0</td>\n",
              "    </tr>\n",
              "    <tr>\n",
              "      <th>4</th>\n",
              "      <td>8</td>\n",
              "      <td>1</td>\n",
              "      <td>D2</td>\n",
              "      <td>26</td>\n",
              "      <td>0.230769</td>\n",
              "      <td>2</td>\n",
              "      <td>3</td>\n",
              "      <td>1</td>\n",
              "      <td>0.417910</td>\n",
              "      <td>0.654545</td>\n",
              "      <td>...</td>\n",
              "      <td>0.0</td>\n",
              "      <td>0.0</td>\n",
              "      <td>0.0</td>\n",
              "      <td>0.0</td>\n",
              "      <td>0.0</td>\n",
              "      <td>0.0</td>\n",
              "      <td>0.0</td>\n",
              "      <td>0.0</td>\n",
              "      <td>0.0</td>\n",
              "      <td>8.0</td>\n",
              "    </tr>\n",
              "  </tbody>\n",
              "</table>\n",
              "<p>5 rows × 128 columns</p>\n",
              "</div>\n",
              "      <button class=\"colab-df-convert\" onclick=\"convertToInteractive('df-67c14893-92cc-4246-a76d-b1812a7d6d2e')\"\n",
              "              title=\"Convert this dataframe to an interactive table.\"\n",
              "              style=\"display:none;\">\n",
              "        \n",
              "  <svg xmlns=\"http://www.w3.org/2000/svg\" height=\"24px\"viewBox=\"0 0 24 24\"\n",
              "       width=\"24px\">\n",
              "    <path d=\"M0 0h24v24H0V0z\" fill=\"none\"/>\n",
              "    <path d=\"M18.56 5.44l.94 2.06.94-2.06 2.06-.94-2.06-.94-.94-2.06-.94 2.06-2.06.94zm-11 1L8.5 8.5l.94-2.06 2.06-.94-2.06-.94L8.5 2.5l-.94 2.06-2.06.94zm10 10l.94 2.06.94-2.06 2.06-.94-2.06-.94-.94-2.06-.94 2.06-2.06.94z\"/><path d=\"M17.41 7.96l-1.37-1.37c-.4-.4-.92-.59-1.43-.59-.52 0-1.04.2-1.43.59L10.3 9.45l-7.72 7.72c-.78.78-.78 2.05 0 2.83L4 21.41c.39.39.9.59 1.41.59.51 0 1.02-.2 1.41-.59l7.78-7.78 2.81-2.81c.8-.78.8-2.07 0-2.86zM5.41 20L4 18.59l7.72-7.72 1.47 1.35L5.41 20z\"/>\n",
              "  </svg>\n",
              "      </button>\n",
              "      \n",
              "  <style>\n",
              "    .colab-df-container {\n",
              "      display:flex;\n",
              "      flex-wrap:wrap;\n",
              "      gap: 12px;\n",
              "    }\n",
              "\n",
              "    .colab-df-convert {\n",
              "      background-color: #E8F0FE;\n",
              "      border: none;\n",
              "      border-radius: 50%;\n",
              "      cursor: pointer;\n",
              "      display: none;\n",
              "      fill: #1967D2;\n",
              "      height: 32px;\n",
              "      padding: 0 0 0 0;\n",
              "      width: 32px;\n",
              "    }\n",
              "\n",
              "    .colab-df-convert:hover {\n",
              "      background-color: #E2EBFA;\n",
              "      box-shadow: 0px 1px 2px rgba(60, 64, 67, 0.3), 0px 1px 3px 1px rgba(60, 64, 67, 0.15);\n",
              "      fill: #174EA6;\n",
              "    }\n",
              "\n",
              "    [theme=dark] .colab-df-convert {\n",
              "      background-color: #3B4455;\n",
              "      fill: #D2E3FC;\n",
              "    }\n",
              "\n",
              "    [theme=dark] .colab-df-convert:hover {\n",
              "      background-color: #434B5C;\n",
              "      box-shadow: 0px 1px 3px 1px rgba(0, 0, 0, 0.15);\n",
              "      filter: drop-shadow(0px 1px 2px rgba(0, 0, 0, 0.3));\n",
              "      fill: #FFFFFF;\n",
              "    }\n",
              "  </style>\n",
              "\n",
              "      <script>\n",
              "        const buttonEl =\n",
              "          document.querySelector('#df-67c14893-92cc-4246-a76d-b1812a7d6d2e button.colab-df-convert');\n",
              "        buttonEl.style.display =\n",
              "          google.colab.kernel.accessAllowed ? 'block' : 'none';\n",
              "\n",
              "        async function convertToInteractive(key) {\n",
              "          const element = document.querySelector('#df-67c14893-92cc-4246-a76d-b1812a7d6d2e');\n",
              "          const dataTable =\n",
              "            await google.colab.kernel.invokeFunction('convertToInteractive',\n",
              "                                                     [key], {});\n",
              "          if (!dataTable) return;\n",
              "\n",
              "          const docLinkHtml = 'Like what you see? Visit the ' +\n",
              "            '<a target=\"_blank\" href=https://colab.research.google.com/notebooks/data_table.ipynb>data table notebook</a>'\n",
              "            + ' to learn more about interactive tables.';\n",
              "          element.innerHTML = '';\n",
              "          dataTable['output_type'] = 'display_data';\n",
              "          await google.colab.output.renderOutput(dataTable, element);\n",
              "          const docLink = document.createElement('div');\n",
              "          docLink.innerHTML = docLinkHtml;\n",
              "          element.appendChild(docLink);\n",
              "        }\n",
              "      </script>\n",
              "    </div>\n",
              "  </div>\n",
              "  "
            ]
          },
          "metadata": {},
          "execution_count": 12
        }
      ]
    },
    {
      "cell_type": "code",
      "source": [
        "df.shape"
      ],
      "metadata": {
        "colab": {
          "base_uri": "https://localhost:8080/"
        },
        "id": "jaOE-HaH1GNV",
        "outputId": "e1c3d481-b6fa-4b13-8f58-28ee20f6a0e2"
      },
      "execution_count": 13,
      "outputs": [
        {
          "output_type": "execute_result",
          "data": {
            "text/plain": [
              "(52910, 128)"
            ]
          },
          "metadata": {},
          "execution_count": 13
        }
      ]
    },
    {
      "cell_type": "code",
      "source": [
        "df = df.drop('Id', axis=1)"
      ],
      "metadata": {
        "id": "l-Lyis7Ls_36"
      },
      "execution_count": 14,
      "outputs": []
    },
    {
      "cell_type": "code",
      "source": [
        "df.info()"
      ],
      "metadata": {
        "colab": {
          "base_uri": "https://localhost:8080/"
        },
        "id": "3J0iiPHy1VFi",
        "outputId": "6adaf9eb-83b4-4cc5-da2b-39e6cecafb24"
      },
      "execution_count": 15,
      "outputs": [
        {
          "output_type": "stream",
          "name": "stdout",
          "text": [
            "<class 'pandas.core.frame.DataFrame'>\n",
            "RangeIndex: 52910 entries, 0 to 52909\n",
            "Columns: 127 entries, Product_Info_1 to Response\n",
            "dtypes: float64(101), int64(25), object(1)\n",
            "memory usage: 51.3+ MB\n"
          ]
        }
      ]
    },
    {
      "cell_type": "code",
      "source": [
        "df.columns"
      ],
      "metadata": {
        "colab": {
          "base_uri": "https://localhost:8080/"
        },
        "id": "6TbCDnpY1pek",
        "outputId": "61ee9e55-a6da-47d4-fd59-0bf8e15efe7b"
      },
      "execution_count": 16,
      "outputs": [
        {
          "output_type": "execute_result",
          "data": {
            "text/plain": [
              "Index(['Product_Info_1', 'Product_Info_2', 'Product_Info_3', 'Product_Info_4',\n",
              "       'Product_Info_5', 'Product_Info_6', 'Product_Info_7', 'Ins_Age', 'Ht',\n",
              "       'Wt',\n",
              "       ...\n",
              "       'Medical_Keyword_40', 'Medical_Keyword_41', 'Medical_Keyword_42',\n",
              "       'Medical_Keyword_43', 'Medical_Keyword_44', 'Medical_Keyword_45',\n",
              "       'Medical_Keyword_46', 'Medical_Keyword_47', 'Medical_Keyword_48',\n",
              "       'Response'],\n",
              "      dtype='object', length=127)"
            ]
          },
          "metadata": {},
          "execution_count": 16
        }
      ]
    },
    {
      "cell_type": "code",
      "source": [
        "#Checking the columns which have above 40% null value with Decending order\n",
        "missing_value = df.isnull().mean()\n",
        "missing_value[missing_value>0.4].sort_values(ascending=False)"
      ],
      "metadata": {
        "colab": {
          "base_uri": "https://localhost:8080/"
        },
        "id": "wNThWwnA2WNO",
        "outputId": "b10cde7b-7f69-4e74-be80-f83e61f959cc"
      },
      "execution_count": 17,
      "outputs": [
        {
          "output_type": "execute_result",
          "data": {
            "text/plain": [
              "Medical_History_10     0.990455\n",
              "Medical_History_32     0.981308\n",
              "Medical_History_24     0.936061\n",
              "Medical_History_15     0.750728\n",
              "Family_Hist_5          0.703742\n",
              "Family_Hist_3          0.576583\n",
              "Family_Hist_2          0.482404\n",
              "Insurance_History_5    0.427783\n",
              "dtype: float64"
            ]
          },
          "metadata": {},
          "execution_count": 17
        }
      ]
    },
    {
      "cell_type": "code",
      "source": [
        "#Droping the columns which have null value above 40%\n",
        "df = df.dropna(thresh = 0.4*df.shape[0],axis=1)"
      ],
      "metadata": {
        "id": "wrJCnhpt2o5L"
      },
      "execution_count": 18,
      "outputs": []
    },
    {
      "cell_type": "code",
      "source": [
        "df.isnull().mean()[df.isnull().mean()>0]"
      ],
      "metadata": {
        "colab": {
          "base_uri": "https://localhost:8080/"
        },
        "id": "27apCj0Wx6eZ",
        "outputId": "9cc2869b-28eb-4f47-973b-e001d1c62481"
      },
      "execution_count": 19,
      "outputs": [
        {
          "output_type": "execute_result",
          "data": {
            "text/plain": [
              "Employment_Info_1      0.000340\n",
              "Employment_Info_4      0.114288\n",
              "Employment_Info_6      0.181988\n",
              "Insurance_History_5    0.427783\n",
              "Family_Hist_2          0.482404\n",
              "                         ...   \n",
              "Medical_Keyword_45     0.000019\n",
              "Medical_Keyword_46     0.000019\n",
              "Medical_Keyword_47     0.000019\n",
              "Medical_Keyword_48     0.000019\n",
              "Response               0.000019\n",
              "Length: 91, dtype: float64"
            ]
          },
          "metadata": {},
          "execution_count": 19
        }
      ]
    },
    {
      "cell_type": "code",
      "source": [
        "df.head()"
      ],
      "metadata": {
        "colab": {
          "base_uri": "https://localhost:8080/",
          "height": 300
        },
        "id": "uT5-ggx7x6ST",
        "outputId": "9e0475c2-6d59-42ee-892c-af1119ba459e"
      },
      "execution_count": 20,
      "outputs": [
        {
          "output_type": "execute_result",
          "data": {
            "text/plain": [
              "   Product_Info_1 Product_Info_2  Product_Info_3  Product_Info_4  \\\n",
              "0               1             D3              10        0.076923   \n",
              "1               1             A1              26        0.076923   \n",
              "2               1             E1              26        0.076923   \n",
              "3               1             D4              10        0.487179   \n",
              "4               1             D2              26        0.230769   \n",
              "\n",
              "   Product_Info_5  Product_Info_6  Product_Info_7   Ins_Age        Ht  \\\n",
              "0               2               1               1  0.641791  0.581818   \n",
              "1               2               3               1  0.059701  0.600000   \n",
              "2               2               3               1  0.029851  0.745455   \n",
              "3               2               3               1  0.164179  0.672727   \n",
              "4               2               3               1  0.417910  0.654545   \n",
              "\n",
              "         Wt  ...  Medical_Keyword_40  Medical_Keyword_41  Medical_Keyword_42  \\\n",
              "0  0.148536  ...                 0.0                 0.0                 0.0   \n",
              "1  0.131799  ...                 0.0                 0.0                 0.0   \n",
              "2  0.288703  ...                 0.0                 0.0                 0.0   \n",
              "3  0.205021  ...                 0.0                 0.0                 0.0   \n",
              "4  0.234310  ...                 0.0                 0.0                 0.0   \n",
              "\n",
              "   Medical_Keyword_43  Medical_Keyword_44  Medical_Keyword_45  \\\n",
              "0                 0.0                 0.0                 0.0   \n",
              "1                 0.0                 0.0                 0.0   \n",
              "2                 0.0                 0.0                 0.0   \n",
              "3                 0.0                 0.0                 0.0   \n",
              "4                 0.0                 0.0                 0.0   \n",
              "\n",
              "   Medical_Keyword_46  Medical_Keyword_47  Medical_Keyword_48  Response  \n",
              "0                 0.0                 0.0                 0.0       8.0  \n",
              "1                 0.0                 0.0                 0.0       4.0  \n",
              "2                 0.0                 0.0                 0.0       8.0  \n",
              "3                 0.0                 0.0                 0.0       8.0  \n",
              "4                 0.0                 0.0                 0.0       8.0  \n",
              "\n",
              "[5 rows x 122 columns]"
            ],
            "text/html": [
              "\n",
              "  <div id=\"df-96c6943a-887b-41c8-9c57-fe1584bcafce\">\n",
              "    <div class=\"colab-df-container\">\n",
              "      <div>\n",
              "<style scoped>\n",
              "    .dataframe tbody tr th:only-of-type {\n",
              "        vertical-align: middle;\n",
              "    }\n",
              "\n",
              "    .dataframe tbody tr th {\n",
              "        vertical-align: top;\n",
              "    }\n",
              "\n",
              "    .dataframe thead th {\n",
              "        text-align: right;\n",
              "    }\n",
              "</style>\n",
              "<table border=\"1\" class=\"dataframe\">\n",
              "  <thead>\n",
              "    <tr style=\"text-align: right;\">\n",
              "      <th></th>\n",
              "      <th>Product_Info_1</th>\n",
              "      <th>Product_Info_2</th>\n",
              "      <th>Product_Info_3</th>\n",
              "      <th>Product_Info_4</th>\n",
              "      <th>Product_Info_5</th>\n",
              "      <th>Product_Info_6</th>\n",
              "      <th>Product_Info_7</th>\n",
              "      <th>Ins_Age</th>\n",
              "      <th>Ht</th>\n",
              "      <th>Wt</th>\n",
              "      <th>...</th>\n",
              "      <th>Medical_Keyword_40</th>\n",
              "      <th>Medical_Keyword_41</th>\n",
              "      <th>Medical_Keyword_42</th>\n",
              "      <th>Medical_Keyword_43</th>\n",
              "      <th>Medical_Keyword_44</th>\n",
              "      <th>Medical_Keyword_45</th>\n",
              "      <th>Medical_Keyword_46</th>\n",
              "      <th>Medical_Keyword_47</th>\n",
              "      <th>Medical_Keyword_48</th>\n",
              "      <th>Response</th>\n",
              "    </tr>\n",
              "  </thead>\n",
              "  <tbody>\n",
              "    <tr>\n",
              "      <th>0</th>\n",
              "      <td>1</td>\n",
              "      <td>D3</td>\n",
              "      <td>10</td>\n",
              "      <td>0.076923</td>\n",
              "      <td>2</td>\n",
              "      <td>1</td>\n",
              "      <td>1</td>\n",
              "      <td>0.641791</td>\n",
              "      <td>0.581818</td>\n",
              "      <td>0.148536</td>\n",
              "      <td>...</td>\n",
              "      <td>0.0</td>\n",
              "      <td>0.0</td>\n",
              "      <td>0.0</td>\n",
              "      <td>0.0</td>\n",
              "      <td>0.0</td>\n",
              "      <td>0.0</td>\n",
              "      <td>0.0</td>\n",
              "      <td>0.0</td>\n",
              "      <td>0.0</td>\n",
              "      <td>8.0</td>\n",
              "    </tr>\n",
              "    <tr>\n",
              "      <th>1</th>\n",
              "      <td>1</td>\n",
              "      <td>A1</td>\n",
              "      <td>26</td>\n",
              "      <td>0.076923</td>\n",
              "      <td>2</td>\n",
              "      <td>3</td>\n",
              "      <td>1</td>\n",
              "      <td>0.059701</td>\n",
              "      <td>0.600000</td>\n",
              "      <td>0.131799</td>\n",
              "      <td>...</td>\n",
              "      <td>0.0</td>\n",
              "      <td>0.0</td>\n",
              "      <td>0.0</td>\n",
              "      <td>0.0</td>\n",
              "      <td>0.0</td>\n",
              "      <td>0.0</td>\n",
              "      <td>0.0</td>\n",
              "      <td>0.0</td>\n",
              "      <td>0.0</td>\n",
              "      <td>4.0</td>\n",
              "    </tr>\n",
              "    <tr>\n",
              "      <th>2</th>\n",
              "      <td>1</td>\n",
              "      <td>E1</td>\n",
              "      <td>26</td>\n",
              "      <td>0.076923</td>\n",
              "      <td>2</td>\n",
              "      <td>3</td>\n",
              "      <td>1</td>\n",
              "      <td>0.029851</td>\n",
              "      <td>0.745455</td>\n",
              "      <td>0.288703</td>\n",
              "      <td>...</td>\n",
              "      <td>0.0</td>\n",
              "      <td>0.0</td>\n",
              "      <td>0.0</td>\n",
              "      <td>0.0</td>\n",
              "      <td>0.0</td>\n",
              "      <td>0.0</td>\n",
              "      <td>0.0</td>\n",
              "      <td>0.0</td>\n",
              "      <td>0.0</td>\n",
              "      <td>8.0</td>\n",
              "    </tr>\n",
              "    <tr>\n",
              "      <th>3</th>\n",
              "      <td>1</td>\n",
              "      <td>D4</td>\n",
              "      <td>10</td>\n",
              "      <td>0.487179</td>\n",
              "      <td>2</td>\n",
              "      <td>3</td>\n",
              "      <td>1</td>\n",
              "      <td>0.164179</td>\n",
              "      <td>0.672727</td>\n",
              "      <td>0.205021</td>\n",
              "      <td>...</td>\n",
              "      <td>0.0</td>\n",
              "      <td>0.0</td>\n",
              "      <td>0.0</td>\n",
              "      <td>0.0</td>\n",
              "      <td>0.0</td>\n",
              "      <td>0.0</td>\n",
              "      <td>0.0</td>\n",
              "      <td>0.0</td>\n",
              "      <td>0.0</td>\n",
              "      <td>8.0</td>\n",
              "    </tr>\n",
              "    <tr>\n",
              "      <th>4</th>\n",
              "      <td>1</td>\n",
              "      <td>D2</td>\n",
              "      <td>26</td>\n",
              "      <td>0.230769</td>\n",
              "      <td>2</td>\n",
              "      <td>3</td>\n",
              "      <td>1</td>\n",
              "      <td>0.417910</td>\n",
              "      <td>0.654545</td>\n",
              "      <td>0.234310</td>\n",
              "      <td>...</td>\n",
              "      <td>0.0</td>\n",
              "      <td>0.0</td>\n",
              "      <td>0.0</td>\n",
              "      <td>0.0</td>\n",
              "      <td>0.0</td>\n",
              "      <td>0.0</td>\n",
              "      <td>0.0</td>\n",
              "      <td>0.0</td>\n",
              "      <td>0.0</td>\n",
              "      <td>8.0</td>\n",
              "    </tr>\n",
              "  </tbody>\n",
              "</table>\n",
              "<p>5 rows × 122 columns</p>\n",
              "</div>\n",
              "      <button class=\"colab-df-convert\" onclick=\"convertToInteractive('df-96c6943a-887b-41c8-9c57-fe1584bcafce')\"\n",
              "              title=\"Convert this dataframe to an interactive table.\"\n",
              "              style=\"display:none;\">\n",
              "        \n",
              "  <svg xmlns=\"http://www.w3.org/2000/svg\" height=\"24px\"viewBox=\"0 0 24 24\"\n",
              "       width=\"24px\">\n",
              "    <path d=\"M0 0h24v24H0V0z\" fill=\"none\"/>\n",
              "    <path d=\"M18.56 5.44l.94 2.06.94-2.06 2.06-.94-2.06-.94-.94-2.06-.94 2.06-2.06.94zm-11 1L8.5 8.5l.94-2.06 2.06-.94-2.06-.94L8.5 2.5l-.94 2.06-2.06.94zm10 10l.94 2.06.94-2.06 2.06-.94-2.06-.94-.94-2.06-.94 2.06-2.06.94z\"/><path d=\"M17.41 7.96l-1.37-1.37c-.4-.4-.92-.59-1.43-.59-.52 0-1.04.2-1.43.59L10.3 9.45l-7.72 7.72c-.78.78-.78 2.05 0 2.83L4 21.41c.39.39.9.59 1.41.59.51 0 1.02-.2 1.41-.59l7.78-7.78 2.81-2.81c.8-.78.8-2.07 0-2.86zM5.41 20L4 18.59l7.72-7.72 1.47 1.35L5.41 20z\"/>\n",
              "  </svg>\n",
              "      </button>\n",
              "      \n",
              "  <style>\n",
              "    .colab-df-container {\n",
              "      display:flex;\n",
              "      flex-wrap:wrap;\n",
              "      gap: 12px;\n",
              "    }\n",
              "\n",
              "    .colab-df-convert {\n",
              "      background-color: #E8F0FE;\n",
              "      border: none;\n",
              "      border-radius: 50%;\n",
              "      cursor: pointer;\n",
              "      display: none;\n",
              "      fill: #1967D2;\n",
              "      height: 32px;\n",
              "      padding: 0 0 0 0;\n",
              "      width: 32px;\n",
              "    }\n",
              "\n",
              "    .colab-df-convert:hover {\n",
              "      background-color: #E2EBFA;\n",
              "      box-shadow: 0px 1px 2px rgba(60, 64, 67, 0.3), 0px 1px 3px 1px rgba(60, 64, 67, 0.15);\n",
              "      fill: #174EA6;\n",
              "    }\n",
              "\n",
              "    [theme=dark] .colab-df-convert {\n",
              "      background-color: #3B4455;\n",
              "      fill: #D2E3FC;\n",
              "    }\n",
              "\n",
              "    [theme=dark] .colab-df-convert:hover {\n",
              "      background-color: #434B5C;\n",
              "      box-shadow: 0px 1px 3px 1px rgba(0, 0, 0, 0.15);\n",
              "      filter: drop-shadow(0px 1px 2px rgba(0, 0, 0, 0.3));\n",
              "      fill: #FFFFFF;\n",
              "    }\n",
              "  </style>\n",
              "\n",
              "      <script>\n",
              "        const buttonEl =\n",
              "          document.querySelector('#df-96c6943a-887b-41c8-9c57-fe1584bcafce button.colab-df-convert');\n",
              "        buttonEl.style.display =\n",
              "          google.colab.kernel.accessAllowed ? 'block' : 'none';\n",
              "\n",
              "        async function convertToInteractive(key) {\n",
              "          const element = document.querySelector('#df-96c6943a-887b-41c8-9c57-fe1584bcafce');\n",
              "          const dataTable =\n",
              "            await google.colab.kernel.invokeFunction('convertToInteractive',\n",
              "                                                     [key], {});\n",
              "          if (!dataTable) return;\n",
              "\n",
              "          const docLinkHtml = 'Like what you see? Visit the ' +\n",
              "            '<a target=\"_blank\" href=https://colab.research.google.com/notebooks/data_table.ipynb>data table notebook</a>'\n",
              "            + ' to learn more about interactive tables.';\n",
              "          element.innerHTML = '';\n",
              "          dataTable['output_type'] = 'display_data';\n",
              "          await google.colab.output.renderOutput(dataTable, element);\n",
              "          const docLink = document.createElement('div');\n",
              "          docLink.innerHTML = docLinkHtml;\n",
              "          element.appendChild(docLink);\n",
              "        }\n",
              "      </script>\n",
              "    </div>\n",
              "  </div>\n",
              "  "
            ]
          },
          "metadata": {},
          "execution_count": 20
        }
      ]
    },
    {
      "cell_type": "code",
      "source": [
        "#Dropint three columns due to irrelevent\n",
        "df.drop(['Insurance_History_5','Family_Hist_2','Family_Hist_3'],axis=1, inplace=True)"
      ],
      "metadata": {
        "id": "-wmmdiEnx5_O"
      },
      "execution_count": 21,
      "outputs": []
    },
    {
      "cell_type": "code",
      "source": [
        "df.isnull().mean()[df.isnull().mean()>0].sort_values(ascending=False)"
      ],
      "metadata": {
        "colab": {
          "base_uri": "https://localhost:8080/"
        },
        "id": "f177HGhmWX2g",
        "outputId": "c88673dc-8f94-4e86-984d-c4fdaed07960"
      },
      "execution_count": 22,
      "outputs": [
        {
          "output_type": "execute_result",
          "data": {
            "text/plain": [
              "Family_Hist_4         0.323266\n",
              "Employment_Info_6     0.181988\n",
              "Medical_History_1     0.149499\n",
              "Employment_Info_4     0.114288\n",
              "Employment_Info_1     0.000340\n",
              "                        ...   \n",
              "Medical_History_31    0.000019\n",
              "Medical_History_30    0.000019\n",
              "Medical_History_29    0.000019\n",
              "Medical_History_28    0.000019\n",
              "Response              0.000019\n",
              "Length: 88, dtype: float64"
            ]
          },
          "metadata": {},
          "execution_count": 22
        }
      ]
    },
    {
      "cell_type": "code",
      "source": [
        "#Checking the distribution and finging outliers\n",
        "fig, axes = plt.subplots(1,2,figsize = (10,5))\n",
        "sns.distplot(df['Employment_Info_6'], ax = axes[0])\n",
        "sns.boxplot(df['Employment_Info_6'], ax = axes[1])"
      ],
      "metadata": {
        "colab": {
          "base_uri": "https://localhost:8080/",
          "height": 442
        },
        "id": "gZmORPx3Yr0L",
        "outputId": "4df4e5a3-60d1-4ddb-a8fd-d390ec91f201"
      },
      "execution_count": 23,
      "outputs": [
        {
          "output_type": "stream",
          "name": "stderr",
          "text": [
            "/usr/local/lib/python3.7/dist-packages/seaborn/distributions.py:2619: FutureWarning: `distplot` is a deprecated function and will be removed in a future version. Please adapt your code to use either `displot` (a figure-level function with similar flexibility) or `histplot` (an axes-level function for histograms).\n",
            "  warnings.warn(msg, FutureWarning)\n",
            "/usr/local/lib/python3.7/dist-packages/seaborn/_decorators.py:43: FutureWarning: Pass the following variable as a keyword arg: x. From version 0.12, the only valid positional argument will be `data`, and passing other arguments without an explicit keyword will result in an error or misinterpretation.\n",
            "  FutureWarning\n"
          ]
        },
        {
          "output_type": "execute_result",
          "data": {
            "text/plain": [
              "<matplotlib.axes._subplots.AxesSubplot at 0x7f4cc801b4d0>"
            ]
          },
          "metadata": {},
          "execution_count": 23
        },
        {
          "output_type": "display_data",
          "data": {
            "text/plain": [
              "<Figure size 720x360 with 2 Axes>"
            ],
            "image/png": "[encoded data removed]"
          },
          "metadata": {
            "needs_background": "light"
          }
        }
      ]
    },
    {
      "cell_type": "code",
      "source": [
        "#Checking the distribution and finging outliers\n",
        "fig, axes = plt.subplots(1,2,figsize=(10,5))\n",
        "sns.distplot(df['Employment_Info_4'], ax= axes[0])\n",
        "sns.boxplot(df['Employment_Info_4'], ax= axes[1])"
      ],
      "metadata": {
        "colab": {
          "base_uri": "https://localhost:8080/",
          "height": 442
        },
        "id": "N0B-wuy3anJb",
        "outputId": "22c74927-c933-4d97-cb1d-85ea11a2c5e8"
      },
      "execution_count": 24,
      "outputs": [
        {
          "output_type": "stream",
          "name": "stderr",
          "text": [
            "/usr/local/lib/python3.7/dist-packages/seaborn/distributions.py:2619: FutureWarning: `distplot` is a deprecated function and will be removed in a future version. Please adapt your code to use either `displot` (a figure-level function with similar flexibility) or `histplot` (an axes-level function for histograms).\n",
            "  warnings.warn(msg, FutureWarning)\n",
            "/usr/local/lib/python3.7/dist-packages/seaborn/_decorators.py:43: FutureWarning: Pass the following variable as a keyword arg: x. From version 0.12, the only valid positional argument will be `data`, and passing other arguments without an explicit keyword will result in an error or misinterpretation.\n",
            "  FutureWarning\n"
          ]
        },
        {
          "output_type": "execute_result",
          "data": {
            "text/plain": [
              "<matplotlib.axes._subplots.AxesSubplot at 0x7f4cc5a2a890>"
            ]
          },
          "metadata": {},
          "execution_count": 24
        },
        {
          "output_type": "display_data",
          "data": {
            "text/plain": [
              "<Figure size 720x360 with 2 Axes>"
            ],
            "image/png": "[encoded data removed]"
          },
          "metadata": {
            "needs_background": "light"
          }
        }
      ]
    },
    {
      "cell_type": "code",
      "source": [
        "#Checking the distribution and finging outliers\n",
        "fig, axes = plt.subplots(1,2,figsize=(10,5))\n",
        "sns.distplot(df['Family_Hist_4'],ax=axes[0])\n",
        "sns.boxplot(df['Family_Hist_4'],ax=axes[1])"
      ],
      "metadata": {
        "colab": {
          "base_uri": "https://localhost:8080/",
          "height": 442
        },
        "id": "YhXwr9K6am7H",
        "outputId": "55e9ea40-50df-430e-b3a3-5f8dd866043d"
      },
      "execution_count": 25,
      "outputs": [
        {
          "output_type": "stream",
          "name": "stderr",
          "text": [
            "/usr/local/lib/python3.7/dist-packages/seaborn/distributions.py:2619: FutureWarning: `distplot` is a deprecated function and will be removed in a future version. Please adapt your code to use either `displot` (a figure-level function with similar flexibility) or `histplot` (an axes-level function for histograms).\n",
            "  warnings.warn(msg, FutureWarning)\n",
            "/usr/local/lib/python3.7/dist-packages/seaborn/_decorators.py:43: FutureWarning: Pass the following variable as a keyword arg: x. From version 0.12, the only valid positional argument will be `data`, and passing other arguments without an explicit keyword will result in an error or misinterpretation.\n",
            "  FutureWarning\n"
          ]
        },
        {
          "output_type": "execute_result",
          "data": {
            "text/plain": [
              "<matplotlib.axes._subplots.AxesSubplot at 0x7f4cc58ab110>"
            ]
          },
          "metadata": {},
          "execution_count": 25
        },
        {
          "output_type": "display_data",
          "data": {
            "text/plain": [
              "<Figure size 720x360 with 2 Axes>"
            ],
            "image/png": "[encoded data removed]"
          },
          "metadata": {
            "needs_background": "light"
          }
        }
      ]
    },
    {
      "cell_type": "code",
      "source": [
        "#Checking the distribution and finging outliers\n",
        "fig,axes = plt.subplots(1,2,figsize=(10,5))\n",
        "sns.distplot(df['Medical_History_1'],ax=axes[0])\n",
        "sns.boxplot(df['Medical_History_1'],ax=axes[1])"
      ],
      "metadata": {
        "colab": {
          "base_uri": "https://localhost:8080/",
          "height": 442
        },
        "id": "Lqpf32vLam2p",
        "outputId": "ae68aff5-6a8e-44ad-876f-86b2b414f29b"
      },
      "execution_count": 26,
      "outputs": [
        {
          "output_type": "stream",
          "name": "stderr",
          "text": [
            "/usr/local/lib/python3.7/dist-packages/seaborn/distributions.py:2619: FutureWarning: `distplot` is a deprecated function and will be removed in a future version. Please adapt your code to use either `displot` (a figure-level function with similar flexibility) or `histplot` (an axes-level function for histograms).\n",
            "  warnings.warn(msg, FutureWarning)\n",
            "/usr/local/lib/python3.7/dist-packages/seaborn/_decorators.py:43: FutureWarning: Pass the following variable as a keyword arg: x. From version 0.12, the only valid positional argument will be `data`, and passing other arguments without an explicit keyword will result in an error or misinterpretation.\n",
            "  FutureWarning\n"
          ]
        },
        {
          "output_type": "execute_result",
          "data": {
            "text/plain": [
              "<matplotlib.axes._subplots.AxesSubplot at 0x7f4cc571aed0>"
            ]
          },
          "metadata": {},
          "execution_count": 26
        },
        {
          "output_type": "display_data",
          "data": {
            "text/plain": [
              "<Figure size 720x360 with 2 Axes>"
            ],
            "image/png": "[encoded data removed]"
          },
          "metadata": {
            "needs_background": "light"
          }
        }
      ]
    },
    {
      "cell_type": "code",
      "source": [
        "#Checking the distribution and finging outliers\n",
        "fig, axes = plt.subplots(1,2,figsize=(10,5))\n",
        "sns.distplot(df['Employment_Info_1'],ax=axes[0])\n",
        "sns.boxplot(df['Employment_Info_1'],ax=axes[1])"
      ],
      "metadata": {
        "colab": {
          "base_uri": "https://localhost:8080/",
          "height": 442
        },
        "id": "XXrKiiJcamyo",
        "outputId": "59d36ccf-4307-42a0-a863-80956e330a2b"
      },
      "execution_count": 27,
      "outputs": [
        {
          "output_type": "stream",
          "name": "stderr",
          "text": [
            "/usr/local/lib/python3.7/dist-packages/seaborn/distributions.py:2619: FutureWarning: `distplot` is a deprecated function and will be removed in a future version. Please adapt your code to use either `displot` (a figure-level function with similar flexibility) or `histplot` (an axes-level function for histograms).\n",
            "  warnings.warn(msg, FutureWarning)\n",
            "/usr/local/lib/python3.7/dist-packages/seaborn/_decorators.py:43: FutureWarning: Pass the following variable as a keyword arg: x. From version 0.12, the only valid positional argument will be `data`, and passing other arguments without an explicit keyword will result in an error or misinterpretation.\n",
            "  FutureWarning\n"
          ]
        },
        {
          "output_type": "execute_result",
          "data": {
            "text/plain": [
              "<matplotlib.axes._subplots.AxesSubplot at 0x7f4cc5693850>"
            ]
          },
          "metadata": {},
          "execution_count": 27
        },
        {
          "output_type": "display_data",
          "data": {
            "text/plain": [
              "<Figure size 720x360 with 2 Axes>"
            ],
            "image/png": "[encoded data removed]"
          },
          "metadata": {
            "needs_background": "light"
          }
        }
      ]
    },
    {
      "cell_type": "code",
      "source": [
        ""
      ],
      "metadata": {
        "id": "vVg4tOkTamqy"
      },
      "execution_count": 27,
      "outputs": []
    },
    {
      "cell_type": "code",
      "source": [
        "df.isnull().sum()[df.isnull().mean()>0].sort_values(ascending=False)"
      ],
      "metadata": {
        "colab": {
          "base_uri": "https://localhost:8080/"
        },
        "id": "mdul7j4LamZB",
        "outputId": "b25a2d56-abd0-4ec0-8978-c5ef17921b12"
      },
      "execution_count": 28,
      "outputs": [
        {
          "output_type": "execute_result",
          "data": {
            "text/plain": [
              "Family_Hist_4         17104\n",
              "Employment_Info_6      9629\n",
              "Medical_History_1      7910\n",
              "Employment_Info_4      6047\n",
              "Employment_Info_1        18\n",
              "                      ...  \n",
              "Medical_History_31        1\n",
              "Medical_History_30        1\n",
              "Medical_History_29        1\n",
              "Medical_History_28        1\n",
              "Response                  1\n",
              "Length: 88, dtype: int64"
            ]
          },
          "metadata": {},
          "execution_count": 28
        }
      ]
    },
    {
      "cell_type": "code",
      "source": [
        "#Filling the na value with mean values\n",
        "df['Family_Hist_1'] = df['Family_Hist_1'].fillna(df['Family_Hist_4'].mean())\n",
        "df['Employment_Info_6'] = df['Employment_Info_6'].fillna(df['Employment_Info_6'].mean())\n",
        "df['Medical_History_1'] = df['Medical_History_1'].fillna(df['Medical_History_1'].mean())\n",
        "df['Employment_Info_4'] = df['Employment_Info_4'].fillna(df['Employment_Info_4'].mean())\n",
        "df['Employment_Info_1'] = df['Employment_Info_1'].fillna(df['Employment_Info_1'].mean())\n",
        "df['Family_Hist_4'] = df['Family_Hist_4'].fillna(df['Family_Hist_4'].mean())\n"
      ],
      "metadata": {
        "id": "FkEJu_NlYDFJ"
      },
      "execution_count": 29,
      "outputs": []
    },
    {
      "cell_type": "code",
      "source": [
        "#Converting categorical values into numeric\n",
        "dummies = pd.get_dummies(df['Product_Info_2'])\n",
        "\n",
        "#Concatinating derived dummies into df\n",
        "df = pd.concat([df, dummies], axis=1)\n",
        "\n",
        "#Droping the columns, inwhich its dummies variable are derived\n",
        "df.drop('Product_Info_2',axis=1, inplace=True)\n",
        "df"
      ],
      "metadata": {
        "id": "7_GSjuv8TfgN",
        "outputId": "626ff907-c4ca-4b9c-8cb8-75f2877ffb39",
        "colab": {
          "base_uri": "https://localhost:8080/",
          "height": 488
        }
      },
      "execution_count": 30,
      "outputs": [
        {
          "output_type": "execute_result",
          "data": {
            "text/plain": [
              "       Product_Info_1  Product_Info_3  Product_Info_4  Product_Info_5  \\\n",
              "0                   1              10        0.076923               2   \n",
              "1                   1              26        0.076923               2   \n",
              "2                   1              26        0.076923               2   \n",
              "3                   1              10        0.487179               2   \n",
              "4                   1              26        0.230769               2   \n",
              "...               ...             ...             ...             ...   \n",
              "52905               1              26        1.000000               2   \n",
              "52906               1              26        0.128205               2   \n",
              "52907               1              26        0.076923               2   \n",
              "52908               1              26        0.230769               2   \n",
              "52909               1              29        0.487179               2   \n",
              "\n",
              "       Product_Info_6  Product_Info_7   Ins_Age        Ht        Wt       BMI  \\\n",
              "0                   1               1  0.641791  0.581818  0.148536  0.323008   \n",
              "1                   3               1  0.059701  0.600000  0.131799  0.272288   \n",
              "2                   3               1  0.029851  0.745455  0.288703  0.428780   \n",
              "3                   3               1  0.164179  0.672727  0.205021  0.352438   \n",
              "4                   3               1  0.417910  0.654545  0.234310  0.424046   \n",
              "...               ...             ...       ...       ...       ...       ...   \n",
              "52905               1               1  0.462687  0.800000  0.326360  0.435766   \n",
              "52906               3               1  0.313433  0.672727  0.236402  0.409648   \n",
              "52907               3               1  0.686567  0.636364  0.142259  0.264648   \n",
              "52908               1               1  0.432836  0.727273  0.372385  0.586182   \n",
              "52909               1               1  0.208955  0.800000  0.309623  0.410825   \n",
              "\n",
              "       ...  B2  C1  C2  C3  C4  D1  D2  D3  D4  E1  \n",
              "0      ...   0   0   0   0   0   0   0   1   0   0  \n",
              "1      ...   0   0   0   0   0   0   0   0   0   0  \n",
              "2      ...   0   0   0   0   0   0   0   0   0   1  \n",
              "3      ...   0   0   0   0   0   0   0   0   1   0  \n",
              "4      ...   0   0   0   0   0   0   1   0   0   0  \n",
              "...    ...  ..  ..  ..  ..  ..  ..  ..  ..  ..  ..  \n",
              "52905  ...   0   0   0   0   0   0   0   1   0   0  \n",
              "52906  ...   0   0   0   0   0   0   0   0   0   0  \n",
              "52907  ...   0   0   0   0   0   0   1   0   0   0  \n",
              "52908  ...   0   0   0   0   0   0   0   1   0   0  \n",
              "52909  ...   0   0   0   0   0   0   0   0   0   0  \n",
              "\n",
              "[52910 rows x 137 columns]"
            ],
            "text/html": [
              "\n",
              "  <div id=\"df-85bfa6dd-78c3-402c-818a-3e0b9dcbdbfe\">\n",
              "    <div class=\"colab-df-container\">\n",
              "      <div>\n",
              "<style scoped>\n",
              "    .dataframe tbody tr th:only-of-type {\n",
              "        vertical-align: middle;\n",
              "    }\n",
              "\n",
              "    .dataframe tbody tr th {\n",
              "        vertical-align: top;\n",
              "    }\n",
              "\n",
              "    .dataframe thead th {\n",
              "        text-align: right;\n",
              "    }\n",
              "</style>\n",
              "<table border=\"1\" class=\"dataframe\">\n",
              "  <thead>\n",
              "    <tr style=\"text-align: right;\">\n",
              "      <th></th>\n",
              "      <th>Product_Info_1</th>\n",
              "      <th>Product_Info_3</th>\n",
              "      <th>Product_Info_4</th>\n",
              "      <th>Product_Info_5</th>\n",
              "      <th>Product_Info_6</th>\n",
              "      <th>Product_Info_7</th>\n",
              "      <th>Ins_Age</th>\n",
              "      <th>Ht</th>\n",
              "      <th>Wt</th>\n",
              "      <th>BMI</th>\n",
              "      <th>...</th>\n",
              "      <th>B2</th>\n",
              "      <th>C1</th>\n",
              "      <th>C2</th>\n",
              "      <th>C3</th>\n",
              "      <th>C4</th>\n",
              "      <th>D1</th>\n",
              "      <th>D2</th>\n",
              "      <th>D3</th>\n",
              "      <th>D4</th>\n",
              "      <th>E1</th>\n",
              "    </tr>\n",
              "  </thead>\n",
              "  <tbody>\n",
              "    <tr>\n",
              "      <th>0</th>\n",
              "      <td>1</td>\n",
              "      <td>10</td>\n",
              "      <td>0.076923</td>\n",
              "      <td>2</td>\n",
              "      <td>1</td>\n",
              "      <td>1</td>\n",
              "      <td>0.641791</td>\n",
              "      <td>0.581818</td>\n",
              "      <td>0.148536</td>\n",
              "      <td>0.323008</td>\n",
              "      <td>...</td>\n",
              "      <td>0</td>\n",
              "      <td>0</td>\n",
              "      <td>0</td>\n",
              "      <td>0</td>\n",
              "      <td>0</td>\n",
              "      <td>0</td>\n",
              "      <td>0</td>\n",
              "      <td>1</td>\n",
              "      <td>0</td>\n",
              "      <td>0</td>\n",
              "    </tr>\n",
              "    <tr>\n",
              "      <th>1</th>\n",
              "      <td>1</td>\n",
              "      <td>26</td>\n",
              "      <td>0.076923</td>\n",
              "      <td>2</td>\n",
              "      <td>3</td>\n",
              "      <td>1</td>\n",
              "      <td>0.059701</td>\n",
              "      <td>0.600000</td>\n",
              "      <td>0.131799</td>\n",
              "      <td>0.272288</td>\n",
              "      <td>...</td>\n",
              "      <td>0</td>\n",
              "      <td>0</td>\n",
              "      <td>0</td>\n",
              "      <td>0</td>\n",
              "      <td>0</td>\n",
              "      <td>0</td>\n",
              "      <td>0</td>\n",
              "      <td>0</td>\n",
              "      <td>0</td>\n",
              "      <td>0</td>\n",
              "    </tr>\n",
              "    <tr>\n",
              "      <th>2</th>\n",
              "      <td>1</td>\n",
              "      <td>26</td>\n",
              "      <td>0.076923</td>\n",
              "      <td>2</td>\n",
              "      <td>3</td>\n",
              "      <td>1</td>\n",
              "      <td>0.029851</td>\n",
              "      <td>0.745455</td>\n",
              "      <td>0.288703</td>\n",
              "      <td>0.428780</td>\n",
              "      <td>...</td>\n",
              "      <td>0</td>\n",
              "      <td>0</td>\n",
              "      <td>0</td>\n",
              "      <td>0</td>\n",
              "      <td>0</td>\n",
              "      <td>0</td>\n",
              "      <td>0</td>\n",
              "      <td>0</td>\n",
              "      <td>0</td>\n",
              "      <td>1</td>\n",
              "    </tr>\n",
              "    <tr>\n",
              "      <th>3</th>\n",
              "      <td>1</td>\n",
              "      <td>10</td>\n",
              "      <td>0.487179</td>\n",
              "      <td>2</td>\n",
              "      <td>3</td>\n",
              "      <td>1</td>\n",
              "      <td>0.164179</td>\n",
              "      <td>0.672727</td>\n",
              "      <td>0.205021</td>\n",
              "      <td>0.352438</td>\n",
              "      <td>...</td>\n",
              "      <td>0</td>\n",
              "      <td>0</td>\n",
              "      <td>0</td>\n",
              "      <td>0</td>\n",
              "      <td>0</td>\n",
              "      <td>0</td>\n",
              "      <td>0</td>\n",
              "      <td>0</td>\n",
              "      <td>1</td>\n",
              "      <td>0</td>\n",
              "    </tr>\n",
              "    <tr>\n",
              "      <th>4</th>\n",
              "      <td>1</td>\n",
              "      <td>26</td>\n",
              "      <td>0.230769</td>\n",
              "      <td>2</td>\n",
              "      <td>3</td>\n",
              "      <td>1</td>\n",
              "      <td>0.417910</td>\n",
              "      <td>0.654545</td>\n",
              "      <td>0.234310</td>\n",
              "      <td>0.424046</td>\n",
              "      <td>...</td>\n",
              "      <td>0</td>\n",
              "      <td>0</td>\n",
              "      <td>0</td>\n",
              "      <td>0</td>\n",
              "      <td>0</td>\n",
              "      <td>0</td>\n",
              "      <td>1</td>\n",
              "      <td>0</td>\n",
              "      <td>0</td>\n",
              "      <td>0</td>\n",
              "    </tr>\n",
              "    <tr>\n",
              "      <th>...</th>\n",
              "      <td>...</td>\n",
              "      <td>...</td>\n",
              "      <td>...</td>\n",
              "      <td>...</td>\n",
              "      <td>...</td>\n",
              "      <td>...</td>\n",
              "      <td>...</td>\n",
              "      <td>...</td>\n",
              "      <td>...</td>\n",
              "      <td>...</td>\n",
              "      <td>...</td>\n",
              "      <td>...</td>\n",
              "      <td>...</td>\n",
              "      <td>...</td>\n",
              "      <td>...</td>\n",
              "      <td>...</td>\n",
              "      <td>...</td>\n",
              "      <td>...</td>\n",
              "      <td>...</td>\n",
              "      <td>...</td>\n",
              "      <td>...</td>\n",
              "    </tr>\n",
              "    <tr>\n",
              "      <th>52905</th>\n",
              "      <td>1</td>\n",
              "      <td>26</td>\n",
              "      <td>1.000000</td>\n",
              "      <td>2</td>\n",
              "      <td>1</td>\n",
              "      <td>1</td>\n",
              "      <td>0.462687</td>\n",
              "      <td>0.800000</td>\n",
              "      <td>0.326360</td>\n",
              "      <td>0.435766</td>\n",
              "      <td>...</td>\n",
              "      <td>0</td>\n",
              "      <td>0</td>\n",
              "      <td>0</td>\n",
              "      <td>0</td>\n",
              "      <td>0</td>\n",
              "      <td>0</td>\n",
              "      <td>0</td>\n",
              "      <td>1</td>\n",
              "      <td>0</td>\n",
              "      <td>0</td>\n",
              "    </tr>\n",
              "    <tr>\n",
              "      <th>52906</th>\n",
              "      <td>1</td>\n",
              "      <td>26</td>\n",
              "      <td>0.128205</td>\n",
              "      <td>2</td>\n",
              "      <td>3</td>\n",
              "      <td>1</td>\n",
              "      <td>0.313433</td>\n",
              "      <td>0.672727</td>\n",
              "      <td>0.236402</td>\n",
              "      <td>0.409648</td>\n",
              "      <td>...</td>\n",
              "      <td>0</td>\n",
              "      <td>0</td>\n",
              "      <td>0</td>\n",
              "      <td>0</td>\n",
              "      <td>0</td>\n",
              "      <td>0</td>\n",
              "      <td>0</td>\n",
              "      <td>0</td>\n",
              "      <td>0</td>\n",
              "      <td>0</td>\n",
              "    </tr>\n",
              "    <tr>\n",
              "      <th>52907</th>\n",
              "      <td>1</td>\n",
              "      <td>26</td>\n",
              "      <td>0.076923</td>\n",
              "      <td>2</td>\n",
              "      <td>3</td>\n",
              "      <td>1</td>\n",
              "      <td>0.686567</td>\n",
              "      <td>0.636364</td>\n",
              "      <td>0.142259</td>\n",
              "      <td>0.264648</td>\n",
              "      <td>...</td>\n",
              "      <td>0</td>\n",
              "      <td>0</td>\n",
              "      <td>0</td>\n",
              "      <td>0</td>\n",
              "      <td>0</td>\n",
              "      <td>0</td>\n",
              "      <td>1</td>\n",
              "      <td>0</td>\n",
              "      <td>0</td>\n",
              "      <td>0</td>\n",
              "    </tr>\n",
              "    <tr>\n",
              "      <th>52908</th>\n",
              "      <td>1</td>\n",
              "      <td>26</td>\n",
              "      <td>0.230769</td>\n",
              "      <td>2</td>\n",
              "      <td>1</td>\n",
              "      <td>1</td>\n",
              "      <td>0.432836</td>\n",
              "      <td>0.727273</td>\n",
              "      <td>0.372385</td>\n",
              "      <td>0.586182</td>\n",
              "      <td>...</td>\n",
              "      <td>0</td>\n",
              "      <td>0</td>\n",
              "      <td>0</td>\n",
              "      <td>0</td>\n",
              "      <td>0</td>\n",
              "      <td>0</td>\n",
              "      <td>0</td>\n",
              "      <td>1</td>\n",
              "      <td>0</td>\n",
              "      <td>0</td>\n",
              "    </tr>\n",
              "    <tr>\n",
              "      <th>52909</th>\n",
              "      <td>1</td>\n",
              "      <td>29</td>\n",
              "      <td>0.487179</td>\n",
              "      <td>2</td>\n",
              "      <td>1</td>\n",
              "      <td>1</td>\n",
              "      <td>0.208955</td>\n",
              "      <td>0.800000</td>\n",
              "      <td>0.309623</td>\n",
              "      <td>0.410825</td>\n",
              "      <td>...</td>\n",
              "      <td>0</td>\n",
              "      <td>0</td>\n",
              "      <td>0</td>\n",
              "      <td>0</td>\n",
              "      <td>0</td>\n",
              "      <td>0</td>\n",
              "      <td>0</td>\n",
              "      <td>0</td>\n",
              "      <td>0</td>\n",
              "      <td>0</td>\n",
              "    </tr>\n",
              "  </tbody>\n",
              "</table>\n",
              "<p>52910 rows × 137 columns</p>\n",
              "</div>\n",
              "      <button class=\"colab-df-convert\" onclick=\"convertToInteractive('df-85bfa6dd-78c3-402c-818a-3e0b9dcbdbfe')\"\n",
              "              title=\"Convert this dataframe to an interactive table.\"\n",
              "              style=\"display:none;\">\n",
              "        \n",
              "  <svg xmlns=\"http://www.w3.org/2000/svg\" height=\"24px\"viewBox=\"0 0 24 24\"\n",
              "       width=\"24px\">\n",
              "    <path d=\"M0 0h24v24H0V0z\" fill=\"none\"/>\n",
              "    <path d=\"M18.56 5.44l.94 2.06.94-2.06 2.06-.94-2.06-.94-.94-2.06-.94 2.06-2.06.94zm-11 1L8.5 8.5l.94-2.06 2.06-.94-2.06-.94L8.5 2.5l-.94 2.06-2.06.94zm10 10l.94 2.06.94-2.06 2.06-.94-2.06-.94-.94-2.06-.94 2.06-2.06.94z\"/><path d=\"M17.41 7.96l-1.37-1.37c-.4-.4-.92-.59-1.43-.59-.52 0-1.04.2-1.43.59L10.3 9.45l-7.72 7.72c-.78.78-.78 2.05 0 2.83L4 21.41c.39.39.9.59 1.41.59.51 0 1.02-.2 1.41-.59l7.78-7.78 2.81-2.81c.8-.78.8-2.07 0-2.86zM5.41 20L4 18.59l7.72-7.72 1.47 1.35L5.41 20z\"/>\n",
              "  </svg>\n",
              "      </button>\n",
              "      \n",
              "  <style>\n",
              "    .colab-df-container {\n",
              "      display:flex;\n",
              "      flex-wrap:wrap;\n",
              "      gap: 12px;\n",
              "    }\n",
              "\n",
              "    .colab-df-convert {\n",
              "      background-color: #E8F0FE;\n",
              "      border: none;\n",
              "      border-radius: 50%;\n",
              "      cursor: pointer;\n",
              "      display: none;\n",
              "      fill: #1967D2;\n",
              "      height: 32px;\n",
              "      padding: 0 0 0 0;\n",
              "      width: 32px;\n",
              "    }\n",
              "\n",
              "    .colab-df-convert:hover {\n",
              "      background-color: #E2EBFA;\n",
              "      box-shadow: 0px 1px 2px rgba(60, 64, 67, 0.3), 0px 1px 3px 1px rgba(60, 64, 67, 0.15);\n",
              "      fill: #174EA6;\n",
              "    }\n",
              "\n",
              "    [theme=dark] .colab-df-convert {\n",
              "      background-color: #3B4455;\n",
              "      fill: #D2E3FC;\n",
              "    }\n",
              "\n",
              "    [theme=dark] .colab-df-convert:hover {\n",
              "      background-color: #434B5C;\n",
              "      box-shadow: 0px 1px 3px 1px rgba(0, 0, 0, 0.15);\n",
              "      filter: drop-shadow(0px 1px 2px rgba(0, 0, 0, 0.3));\n",
              "      fill: #FFFFFF;\n",
              "    }\n",
              "  </style>\n",
              "\n",
              "      <script>\n",
              "        const buttonEl =\n",
              "          document.querySelector('#df-85bfa6dd-78c3-402c-818a-3e0b9dcbdbfe button.colab-df-convert');\n",
              "        buttonEl.style.display =\n",
              "          google.colab.kernel.accessAllowed ? 'block' : 'none';\n",
              "\n",
              "        async function convertToInteractive(key) {\n",
              "          const element = document.querySelector('#df-85bfa6dd-78c3-402c-818a-3e0b9dcbdbfe');\n",
              "          const dataTable =\n",
              "            await google.colab.kernel.invokeFunction('convertToInteractive',\n",
              "                                                     [key], {});\n",
              "          if (!dataTable) return;\n",
              "\n",
              "          const docLinkHtml = 'Like what you see? Visit the ' +\n",
              "            '<a target=\"_blank\" href=https://colab.research.google.com/notebooks/data_table.ipynb>data table notebook</a>'\n",
              "            + ' to learn more about interactive tables.';\n",
              "          element.innerHTML = '';\n",
              "          dataTable['output_type'] = 'display_data';\n",
              "          await google.colab.output.renderOutput(dataTable, element);\n",
              "          const docLink = document.createElement('div');\n",
              "          docLink.innerHTML = docLinkHtml;\n",
              "          element.appendChild(docLink);\n",
              "        }\n",
              "      </script>\n",
              "    </div>\n",
              "  </div>\n",
              "  "
            ]
          },
          "metadata": {},
          "execution_count": 30
        }
      ]
    },
    {
      "cell_type": "code",
      "source": [
        "#Graphical representation of the distribution of response\n",
        "sns.countplot(x = df.Response)"
      ],
      "metadata": {
        "colab": {
          "base_uri": "https://localhost:8080/",
          "height": 296
        },
        "id": "kwCjltiA7a2z",
        "outputId": "f139f911-b195-4caf-fcd9-76a54fe1fbc3"
      },
      "execution_count": 31,
      "outputs": [
        {
          "output_type": "execute_result",
          "data": {
            "text/plain": [
              "<matplotlib.axes._subplots.AxesSubplot at 0x7f4cc5eb9810>"
            ]
          },
          "metadata": {},
          "execution_count": 31
        },
        {
          "output_type": "display_data",
          "data": {
            "text/plain": [
              "<Figure size 432x288 with 1 Axes>"
            ],
            "image/png": "[encoded data removed]"
          },
          "metadata": {
            "needs_background": "light"
          }
        }
      ]
    },
    {
      "cell_type": "markdown",
      "source": [
        "###**Data Preprocessing Summery**\n",
        "\n",
        "\n",
        "*   One of the columns in dataframe is object type\n",
        "*   There is no null value in dataset\n",
        "\n"
      ],
      "metadata": {
        "id": "5VTl1ssh58JK"
      }
    },
    {
      "cell_type": "code",
      "source": [
        "#Defining the function for converting Target Columns into binary variable\n",
        "def binary_classification(row):\n",
        "  if ((row['Response']<= 7) & (row['Response']>0)):\n",
        "    val = 0\n",
        "  \n",
        "  elif (row['Response']==8):\n",
        "    val = 1\n",
        "\n",
        "  else:\n",
        "    val = -1\n",
        "\n",
        "  return val"
      ],
      "metadata": {
        "id": "G-us6Igd3uwk"
      },
      "execution_count": 32,
      "outputs": []
    },
    {
      "cell_type": "code",
      "source": [
        "#Implimenting the defined function into Target columns\n",
        "df['Modified_Response'] = df.apply(binary_classification, axis=1)\n",
        "\n",
        "\n",
        "#Counting the modified response\n",
        "df['Modified_Response'].value_counts()"
      ],
      "metadata": {
        "id": "_QXnzu6E_FiQ",
        "colab": {
          "base_uri": "https://localhost:8080/"
        },
        "outputId": "272fdb12-fe06-4fe0-d200-fed78476ae11"
      },
      "execution_count": 33,
      "outputs": [
        {
          "output_type": "execute_result",
          "data": {
            "text/plain": [
              " 0    35496\n",
              " 1    17413\n",
              "-1        1\n",
              "Name: Modified_Response, dtype: int64"
            ]
          },
          "metadata": {},
          "execution_count": 33
        }
      ]
    },
    {
      "cell_type": "code",
      "source": [
        "#Graphical Representation of modified response\n",
        "sns.countplot(x= df['Modified_Response'])"
      ],
      "metadata": {
        "colab": {
          "base_uri": "https://localhost:8080/",
          "height": 297
        },
        "id": "Gzl6Uhg6ao-7",
        "outputId": "319a9a8f-709c-4b90-dedd-cba678d71b71"
      },
      "execution_count": 34,
      "outputs": [
        {
          "output_type": "execute_result",
          "data": {
            "text/plain": [
              "<matplotlib.axes._subplots.AxesSubplot at 0x7f4cc5496950>"
            ]
          },
          "metadata": {},
          "execution_count": 34
        },
        {
          "output_type": "display_data",
          "data": {
            "text/plain": [
              "<Figure size 432x288 with 1 Axes>"
            ],
            "image/png": "[encoded data removed]"
          },
          "metadata": {
            "needs_background": "light"
          }
        }
      ]
    },
    {
      "cell_type": "code",
      "source": [
        "#Droping columns of response\n",
        "df.drop('Response',axis=1, inplace=True)\n",
        "\n",
        "df.head()"
      ],
      "metadata": {
        "colab": {
          "base_uri": "https://localhost:8080/",
          "height": 300
        },
        "id": "OYWlzX6eYHHd",
        "outputId": "43f62136-d94b-431b-9adc-214ee0f48d93"
      },
      "execution_count": 35,
      "outputs": [
        {
          "output_type": "execute_result",
          "data": {
            "text/plain": [
              "   Product_Info_1  Product_Info_3  Product_Info_4  Product_Info_5  \\\n",
              "0               1              10        0.076923               2   \n",
              "1               1              26        0.076923               2   \n",
              "2               1              26        0.076923               2   \n",
              "3               1              10        0.487179               2   \n",
              "4               1              26        0.230769               2   \n",
              "\n",
              "   Product_Info_6  Product_Info_7   Ins_Age        Ht        Wt       BMI  \\\n",
              "0               1               1  0.641791  0.581818  0.148536  0.323008   \n",
              "1               3               1  0.059701  0.600000  0.131799  0.272288   \n",
              "2               3               1  0.029851  0.745455  0.288703  0.428780   \n",
              "3               3               1  0.164179  0.672727  0.205021  0.352438   \n",
              "4               3               1  0.417910  0.654545  0.234310  0.424046   \n",
              "\n",
              "   ...  C1  C2  C3  C4  D1  D2  D3  D4  E1  Modified_Response  \n",
              "0  ...   0   0   0   0   0   0   1   0   0                  1  \n",
              "1  ...   0   0   0   0   0   0   0   0   0                  0  \n",
              "2  ...   0   0   0   0   0   0   0   0   1                  1  \n",
              "3  ...   0   0   0   0   0   0   0   1   0                  1  \n",
              "4  ...   0   0   0   0   0   1   0   0   0                  1  \n",
              "\n",
              "[5 rows x 137 columns]"
            ],
            "text/html": [
              "\n",
              "  <div id=\"df-a0f10d9a-8cfa-4af4-9a91-4ac9ff2613ce\">\n",
              "    <div class=\"colab-df-container\">\n",
              "      <div>\n",
              "<style scoped>\n",
              "    .dataframe tbody tr th:only-of-type {\n",
              "        vertical-align: middle;\n",
              "    }\n",
              "\n",
              "    .dataframe tbody tr th {\n",
              "        vertical-align: top;\n",
              "    }\n",
              "\n",
              "    .dataframe thead th {\n",
              "        text-align: right;\n",
              "    }\n",
              "</style>\n",
              "<table border=\"1\" class=\"dataframe\">\n",
              "  <thead>\n",
              "    <tr style=\"text-align: right;\">\n",
              "      <th></th>\n",
              "      <th>Product_Info_1</th>\n",
              "      <th>Product_Info_3</th>\n",
              "      <th>Product_Info_4</th>\n",
              "      <th>Product_Info_5</th>\n",
              "      <th>Product_Info_6</th>\n",
              "      <th>Product_Info_7</th>\n",
              "      <th>Ins_Age</th>\n",
              "      <th>Ht</th>\n",
              "      <th>Wt</th>\n",
              "      <th>BMI</th>\n",
              "      <th>...</th>\n",
              "      <th>C1</th>\n",
              "      <th>C2</th>\n",
              "      <th>C3</th>\n",
              "      <th>C4</th>\n",
              "      <th>D1</th>\n",
              "      <th>D2</th>\n",
              "      <th>D3</th>\n",
              "      <th>D4</th>\n",
              "      <th>E1</th>\n",
              "      <th>Modified_Response</th>\n",
              "    </tr>\n",
              "  </thead>\n",
              "  <tbody>\n",
              "    <tr>\n",
              "      <th>0</th>\n",
              "      <td>1</td>\n",
              "      <td>10</td>\n",
              "      <td>0.076923</td>\n",
              "      <td>2</td>\n",
              "      <td>1</td>\n",
              "      <td>1</td>\n",
              "      <td>0.641791</td>\n",
              "      <td>0.581818</td>\n",
              "      <td>0.148536</td>\n",
              "      <td>0.323008</td>\n",
              "      <td>...</td>\n",
              "      <td>0</td>\n",
              "      <td>0</td>\n",
              "      <td>0</td>\n",
              "      <td>0</td>\n",
              "      <td>0</td>\n",
              "      <td>0</td>\n",
              "      <td>1</td>\n",
              "      <td>0</td>\n",
              "      <td>0</td>\n",
              "      <td>1</td>\n",
              "    </tr>\n",
              "    <tr>\n",
              "      <th>1</th>\n",
              "      <td>1</td>\n",
              "      <td>26</td>\n",
              "      <td>0.076923</td>\n",
              "      <td>2</td>\n",
              "      <td>3</td>\n",
              "      <td>1</td>\n",
              "      <td>0.059701</td>\n",
              "      <td>0.600000</td>\n",
              "      <td>0.131799</td>\n",
              "      <td>0.272288</td>\n",
              "      <td>...</td>\n",
              "      <td>0</td>\n",
              "      <td>0</td>\n",
              "      <td>0</td>\n",
              "      <td>0</td>\n",
              "      <td>0</td>\n",
              "      <td>0</td>\n",
              "      <td>0</td>\n",
              "      <td>0</td>\n",
              "      <td>0</td>\n",
              "      <td>0</td>\n",
              "    </tr>\n",
              "    <tr>\n",
              "      <th>2</th>\n",
              "      <td>1</td>\n",
              "      <td>26</td>\n",
              "      <td>0.076923</td>\n",
              "      <td>2</td>\n",
              "      <td>3</td>\n",
              "      <td>1</td>\n",
              "      <td>0.029851</td>\n",
              "      <td>0.745455</td>\n",
              "      <td>0.288703</td>\n",
              "      <td>0.428780</td>\n",
              "      <td>...</td>\n",
              "      <td>0</td>\n",
              "      <td>0</td>\n",
              "      <td>0</td>\n",
              "      <td>0</td>\n",
              "      <td>0</td>\n",
              "      <td>0</td>\n",
              "      <td>0</td>\n",
              "      <td>0</td>\n",
              "      <td>1</td>\n",
              "      <td>1</td>\n",
              "    </tr>\n",
              "    <tr>\n",
              "      <th>3</th>\n",
              "      <td>1</td>\n",
              "      <td>10</td>\n",
              "      <td>0.487179</td>\n",
              "      <td>2</td>\n",
              "      <td>3</td>\n",
              "      <td>1</td>\n",
              "      <td>0.164179</td>\n",
              "      <td>0.672727</td>\n",
              "      <td>0.205021</td>\n",
              "      <td>0.352438</td>\n",
              "      <td>...</td>\n",
              "      <td>0</td>\n",
              "      <td>0</td>\n",
              "      <td>0</td>\n",
              "      <td>0</td>\n",
              "      <td>0</td>\n",
              "      <td>0</td>\n",
              "      <td>0</td>\n",
              "      <td>1</td>\n",
              "      <td>0</td>\n",
              "      <td>1</td>\n",
              "    </tr>\n",
              "    <tr>\n",
              "      <th>4</th>\n",
              "      <td>1</td>\n",
              "      <td>26</td>\n",
              "      <td>0.230769</td>\n",
              "      <td>2</td>\n",
              "      <td>3</td>\n",
              "      <td>1</td>\n",
              "      <td>0.417910</td>\n",
              "      <td>0.654545</td>\n",
              "      <td>0.234310</td>\n",
              "      <td>0.424046</td>\n",
              "      <td>...</td>\n",
              "      <td>0</td>\n",
              "      <td>0</td>\n",
              "      <td>0</td>\n",
              "      <td>0</td>\n",
              "      <td>0</td>\n",
              "      <td>1</td>\n",
              "      <td>0</td>\n",
              "      <td>0</td>\n",
              "      <td>0</td>\n",
              "      <td>1</td>\n",
              "    </tr>\n",
              "  </tbody>\n",
              "</table>\n",
              "<p>5 rows × 137 columns</p>\n",
              "</div>\n",
              "      <button class=\"colab-df-convert\" onclick=\"convertToInteractive('df-a0f10d9a-8cfa-4af4-9a91-4ac9ff2613ce')\"\n",
              "              title=\"Convert this dataframe to an interactive table.\"\n",
              "              style=\"display:none;\">\n",
              "        \n",
              "  <svg xmlns=\"http://www.w3.org/2000/svg\" height=\"24px\"viewBox=\"0 0 24 24\"\n",
              "       width=\"24px\">\n",
              "    <path d=\"M0 0h24v24H0V0z\" fill=\"none\"/>\n",
              "    <path d=\"M18.56 5.44l.94 2.06.94-2.06 2.06-.94-2.06-.94-.94-2.06-.94 2.06-2.06.94zm-11 1L8.5 8.5l.94-2.06 2.06-.94-2.06-.94L8.5 2.5l-.94 2.06-2.06.94zm10 10l.94 2.06.94-2.06 2.06-.94-2.06-.94-.94-2.06-.94 2.06-2.06.94z\"/><path d=\"M17.41 7.96l-1.37-1.37c-.4-.4-.92-.59-1.43-.59-.52 0-1.04.2-1.43.59L10.3 9.45l-7.72 7.72c-.78.78-.78 2.05 0 2.83L4 21.41c.39.39.9.59 1.41.59.51 0 1.02-.2 1.41-.59l7.78-7.78 2.81-2.81c.8-.78.8-2.07 0-2.86zM5.41 20L4 18.59l7.72-7.72 1.47 1.35L5.41 20z\"/>\n",
              "  </svg>\n",
              "      </button>\n",
              "      \n",
              "  <style>\n",
              "    .colab-df-container {\n",
              "      display:flex;\n",
              "      flex-wrap:wrap;\n",
              "      gap: 12px;\n",
              "    }\n",
              "\n",
              "    .colab-df-convert {\n",
              "      background-color: #E8F0FE;\n",
              "      border: none;\n",
              "      border-radius: 50%;\n",
              "      cursor: pointer;\n",
              "      display: none;\n",
              "      fill: #1967D2;\n",
              "      height: 32px;\n",
              "      padding: 0 0 0 0;\n",
              "      width: 32px;\n",
              "    }\n",
              "\n",
              "    .colab-df-convert:hover {\n",
              "      background-color: #E2EBFA;\n",
              "      box-shadow: 0px 1px 2px rgba(60, 64, 67, 0.3), 0px 1px 3px 1px rgba(60, 64, 67, 0.15);\n",
              "      fill: #174EA6;\n",
              "    }\n",
              "\n",
              "    [theme=dark] .colab-df-convert {\n",
              "      background-color: #3B4455;\n",
              "      fill: #D2E3FC;\n",
              "    }\n",
              "\n",
              "    [theme=dark] .colab-df-convert:hover {\n",
              "      background-color: #434B5C;\n",
              "      box-shadow: 0px 1px 3px 1px rgba(0, 0, 0, 0.15);\n",
              "      filter: drop-shadow(0px 1px 2px rgba(0, 0, 0, 0.3));\n",
              "      fill: #FFFFFF;\n",
              "    }\n",
              "  </style>\n",
              "\n",
              "      <script>\n",
              "        const buttonEl =\n",
              "          document.querySelector('#df-a0f10d9a-8cfa-4af4-9a91-4ac9ff2613ce button.colab-df-convert');\n",
              "        buttonEl.style.display =\n",
              "          google.colab.kernel.accessAllowed ? 'block' : 'none';\n",
              "\n",
              "        async function convertToInteractive(key) {\n",
              "          const element = document.querySelector('#df-a0f10d9a-8cfa-4af4-9a91-4ac9ff2613ce');\n",
              "          const dataTable =\n",
              "            await google.colab.kernel.invokeFunction('convertToInteractive',\n",
              "                                                     [key], {});\n",
              "          if (!dataTable) return;\n",
              "\n",
              "          const docLinkHtml = 'Like what you see? Visit the ' +\n",
              "            '<a target=\"_blank\" href=https://colab.research.google.com/notebooks/data_table.ipynb>data table notebook</a>'\n",
              "            + ' to learn more about interactive tables.';\n",
              "          element.innerHTML = '';\n",
              "          dataTable['output_type'] = 'display_data';\n",
              "          await google.colab.output.renderOutput(dataTable, element);\n",
              "          const docLink = document.createElement('div');\n",
              "          docLink.innerHTML = docLinkHtml;\n",
              "          element.appendChild(docLink);\n",
              "        }\n",
              "      </script>\n",
              "    </div>\n",
              "  </div>\n",
              "  "
            ]
          },
          "metadata": {},
          "execution_count": 35
        }
      ]
    },
    {
      "cell_type": "code",
      "source": [
        "#Descriptin on datasets\n",
        "df.describe()"
      ],
      "metadata": {
        "colab": {
          "base_uri": "https://localhost:8080/",
          "height": 394
        },
        "id": "24sg-dC9ZazR",
        "outputId": "378a6520-4a77-4200-9718-49d95c5643c5"
      },
      "execution_count": 36,
      "outputs": [
        {
          "output_type": "execute_result",
          "data": {
            "text/plain": [
              "       Product_Info_1  Product_Info_3  Product_Info_4  Product_Info_5  \\\n",
              "count    52910.000000    52910.000000    52910.000000    52910.000000   \n",
              "mean         1.026479       24.415404        0.329318        2.006899   \n",
              "std          0.160556        5.070183        0.282821        0.082771   \n",
              "min          1.000000        1.000000        0.000000        2.000000   \n",
              "25%          1.000000       26.000000        0.076923        2.000000   \n",
              "50%          1.000000       26.000000        0.230769        2.000000   \n",
              "75%          1.000000       26.000000        0.487179        2.000000   \n",
              "max          2.000000       38.000000        1.000000        3.000000   \n",
              "\n",
              "       Product_Info_6  Product_Info_7       Ins_Age            Ht  \\\n",
              "count    52910.000000    52910.000000  52910.000000  52910.000000   \n",
              "mean         2.672614        1.043130      0.405735      0.707279   \n",
              "std          0.740001        0.290454      0.197138      0.074329   \n",
              "min          1.000000        1.000000      0.000000      0.000000   \n",
              "25%          3.000000        1.000000      0.238806      0.654545   \n",
              "50%          3.000000        1.000000      0.402985      0.709091   \n",
              "75%          3.000000        1.000000      0.567164      0.763636   \n",
              "max          3.000000        3.000000      0.970149      1.000000   \n",
              "\n",
              "                 Wt           BMI  ...            C1            C2  \\\n",
              "count  52910.000000  52910.000000  ...  52910.000000  52910.000000   \n",
              "mean       0.292564      0.469417  ...      0.004631      0.002722   \n",
              "std        0.089013      0.122192  ...      0.067891      0.052098   \n",
              "min        0.000000      0.000000  ...      0.000000      0.000000   \n",
              "25%        0.225941      0.385517  ...      0.000000      0.000000   \n",
              "50%        0.288703      0.451275  ...      0.000000      0.000000   \n",
              "75%        0.346757      0.532772  ...      0.000000      0.000000   \n",
              "max        1.000000      1.000000  ...      1.000000      1.000000   \n",
              "\n",
              "                 C3            C4            D1            D2            D3  \\\n",
              "count  52910.000000  52910.000000  52910.000000  52910.000000  52910.000000   \n",
              "mean       0.005198      0.003761      0.111737      0.105802      0.240654   \n",
              "std        0.071907      0.061213      0.315045      0.307587      0.427485   \n",
              "min        0.000000      0.000000      0.000000      0.000000      0.000000   \n",
              "25%        0.000000      0.000000      0.000000      0.000000      0.000000   \n",
              "50%        0.000000      0.000000      0.000000      0.000000      0.000000   \n",
              "75%        0.000000      0.000000      0.000000      0.000000      0.000000   \n",
              "max        1.000000      1.000000      1.000000      1.000000      1.000000   \n",
              "\n",
              "                 D4            E1  Modified_Response  \n",
              "count  52910.000000  52910.000000       52910.000000  \n",
              "mean       0.180911      0.044472           0.329087  \n",
              "std        0.384948      0.206143           0.469926  \n",
              "min        0.000000      0.000000          -1.000000  \n",
              "25%        0.000000      0.000000           0.000000  \n",
              "50%        0.000000      0.000000           0.000000  \n",
              "75%        0.000000      0.000000           1.000000  \n",
              "max        1.000000      1.000000           1.000000  \n",
              "\n",
              "[8 rows x 137 columns]"
            ],
            "text/html": [
              "\n",
              "  <div id=\"df-e51b6f29-7e12-44ee-af2e-3e54ad57e827\">\n",
              "    <div class=\"colab-df-container\">\n",
              "      <div>\n",
              "<style scoped>\n",
              "    .dataframe tbody tr th:only-of-type {\n",
              "        vertical-align: middle;\n",
              "    }\n",
              "\n",
              "    .dataframe tbody tr th {\n",
              "        vertical-align: top;\n",
              "    }\n",
              "\n",
              "    .dataframe thead th {\n",
              "        text-align: right;\n",
              "    }\n",
              "</style>\n",
              "<table border=\"1\" class=\"dataframe\">\n",
              "  <thead>\n",
              "    <tr style=\"text-align: right;\">\n",
              "      <th></th>\n",
              "      <th>Product_Info_1</th>\n",
              "      <th>Product_Info_3</th>\n",
              "      <th>Product_Info_4</th>\n",
              "      <th>Product_Info_5</th>\n",
              "      <th>Product_Info_6</th>\n",
              "      <th>Product_Info_7</th>\n",
              "      <th>Ins_Age</th>\n",
              "      <th>Ht</th>\n",
              "      <th>Wt</th>\n",
              "      <th>BMI</th>\n",
              "      <th>...</th>\n",
              "      <th>C1</th>\n",
              "      <th>C2</th>\n",
              "      <th>C3</th>\n",
              "      <th>C4</th>\n",
              "      <th>D1</th>\n",
              "      <th>D2</th>\n",
              "      <th>D3</th>\n",
              "      <th>D4</th>\n",
              "      <th>E1</th>\n",
              "      <th>Modified_Response</th>\n",
              "    </tr>\n",
              "  </thead>\n",
              "  <tbody>\n",
              "    <tr>\n",
              "      <th>count</th>\n",
              "      <td>52910.000000</td>\n",
              "      <td>52910.000000</td>\n",
              "      <td>52910.000000</td>\n",
              "      <td>52910.000000</td>\n",
              "      <td>52910.000000</td>\n",
              "      <td>52910.000000</td>\n",
              "      <td>52910.000000</td>\n",
              "      <td>52910.000000</td>\n",
              "      <td>52910.000000</td>\n",
              "      <td>52910.000000</td>\n",
              "      <td>...</td>\n",
              "      <td>52910.000000</td>\n",
              "      <td>52910.000000</td>\n",
              "      <td>52910.000000</td>\n",
              "      <td>52910.000000</td>\n",
              "      <td>52910.000000</td>\n",
              "      <td>52910.000000</td>\n",
              "      <td>52910.000000</td>\n",
              "      <td>52910.000000</td>\n",
              "      <td>52910.000000</td>\n",
              "      <td>52910.000000</td>\n",
              "    </tr>\n",
              "    <tr>\n",
              "      <th>mean</th>\n",
              "      <td>1.026479</td>\n",
              "      <td>24.415404</td>\n",
              "      <td>0.329318</td>\n",
              "      <td>2.006899</td>\n",
              "      <td>2.672614</td>\n",
              "      <td>1.043130</td>\n",
              "      <td>0.405735</td>\n",
              "      <td>0.707279</td>\n",
              "      <td>0.292564</td>\n",
              "      <td>0.469417</td>\n",
              "      <td>...</td>\n",
              "      <td>0.004631</td>\n",
              "      <td>0.002722</td>\n",
              "      <td>0.005198</td>\n",
              "      <td>0.003761</td>\n",
              "      <td>0.111737</td>\n",
              "      <td>0.105802</td>\n",
              "      <td>0.240654</td>\n",
              "      <td>0.180911</td>\n",
              "      <td>0.044472</td>\n",
              "      <td>0.329087</td>\n",
              "    </tr>\n",
              "    <tr>\n",
              "      <th>std</th>\n",
              "      <td>0.160556</td>\n",
              "      <td>5.070183</td>\n",
              "      <td>0.282821</td>\n",
              "      <td>0.082771</td>\n",
              "      <td>0.740001</td>\n",
              "      <td>0.290454</td>\n",
              "      <td>0.197138</td>\n",
              "      <td>0.074329</td>\n",
              "      <td>0.089013</td>\n",
              "      <td>0.122192</td>\n",
              "      <td>...</td>\n",
              "      <td>0.067891</td>\n",
              "      <td>0.052098</td>\n",
              "      <td>0.071907</td>\n",
              "      <td>0.061213</td>\n",
              "      <td>0.315045</td>\n",
              "      <td>0.307587</td>\n",
              "      <td>0.427485</td>\n",
              "      <td>0.384948</td>\n",
              "      <td>0.206143</td>\n",
              "      <td>0.469926</td>\n",
              "    </tr>\n",
              "    <tr>\n",
              "      <th>min</th>\n",
              "      <td>1.000000</td>\n",
              "      <td>1.000000</td>\n",
              "      <td>0.000000</td>\n",
              "      <td>2.000000</td>\n",
              "      <td>1.000000</td>\n",
              "      <td>1.000000</td>\n",
              "      <td>0.000000</td>\n",
              "      <td>0.000000</td>\n",
              "      <td>0.000000</td>\n",
              "      <td>0.000000</td>\n",
              "      <td>...</td>\n",
              "      <td>0.000000</td>\n",
              "      <td>0.000000</td>\n",
              "      <td>0.000000</td>\n",
              "      <td>0.000000</td>\n",
              "      <td>0.000000</td>\n",
              "      <td>0.000000</td>\n",
              "      <td>0.000000</td>\n",
              "      <td>0.000000</td>\n",
              "      <td>0.000000</td>\n",
              "      <td>-1.000000</td>\n",
              "    </tr>\n",
              "    <tr>\n",
              "      <th>25%</th>\n",
              "      <td>1.000000</td>\n",
              "      <td>26.000000</td>\n",
              "      <td>0.076923</td>\n",
              "      <td>2.000000</td>\n",
              "      <td>3.000000</td>\n",
              "      <td>1.000000</td>\n",
              "      <td>0.238806</td>\n",
              "      <td>0.654545</td>\n",
              "      <td>0.225941</td>\n",
              "      <td>0.385517</td>\n",
              "      <td>...</td>\n",
              "      <td>0.000000</td>\n",
              "      <td>0.000000</td>\n",
              "      <td>0.000000</td>\n",
              "      <td>0.000000</td>\n",
              "      <td>0.000000</td>\n",
              "      <td>0.000000</td>\n",
              "      <td>0.000000</td>\n",
              "      <td>0.000000</td>\n",
              "      <td>0.000000</td>\n",
              "      <td>0.000000</td>\n",
              "    </tr>\n",
              "    <tr>\n",
              "      <th>50%</th>\n",
              "      <td>1.000000</td>\n",
              "      <td>26.000000</td>\n",
              "      <td>0.230769</td>\n",
              "      <td>2.000000</td>\n",
              "      <td>3.000000</td>\n",
              "      <td>1.000000</td>\n",
              "      <td>0.402985</td>\n",
              "      <td>0.709091</td>\n",
              "      <td>0.288703</td>\n",
              "      <td>0.451275</td>\n",
              "      <td>...</td>\n",
              "      <td>0.000000</td>\n",
              "      <td>0.000000</td>\n",
              "      <td>0.000000</td>\n",
              "      <td>0.000000</td>\n",
              "      <td>0.000000</td>\n",
              "      <td>0.000000</td>\n",
              "      <td>0.000000</td>\n",
              "      <td>0.000000</td>\n",
              "      <td>0.000000</td>\n",
              "      <td>0.000000</td>\n",
              "    </tr>\n",
              "    <tr>\n",
              "      <th>75%</th>\n",
              "      <td>1.000000</td>\n",
              "      <td>26.000000</td>\n",
              "      <td>0.487179</td>\n",
              "      <td>2.000000</td>\n",
              "      <td>3.000000</td>\n",
              "      <td>1.000000</td>\n",
              "      <td>0.567164</td>\n",
              "      <td>0.763636</td>\n",
              "      <td>0.346757</td>\n",
              "      <td>0.532772</td>\n",
              "      <td>...</td>\n",
              "      <td>0.000000</td>\n",
              "      <td>0.000000</td>\n",
              "      <td>0.000000</td>\n",
              "      <td>0.000000</td>\n",
              "      <td>0.000000</td>\n",
              "      <td>0.000000</td>\n",
              "      <td>0.000000</td>\n",
              "      <td>0.000000</td>\n",
              "      <td>0.000000</td>\n",
              "      <td>1.000000</td>\n",
              "    </tr>\n",
              "    <tr>\n",
              "      <th>max</th>\n",
              "      <td>2.000000</td>\n",
              "      <td>38.000000</td>\n",
              "      <td>1.000000</td>\n",
              "      <td>3.000000</td>\n",
              "      <td>3.000000</td>\n",
              "      <td>3.000000</td>\n",
              "      <td>0.970149</td>\n",
              "      <td>1.000000</td>\n",
              "      <td>1.000000</td>\n",
              "      <td>1.000000</td>\n",
              "      <td>...</td>\n",
              "      <td>1.000000</td>\n",
              "      <td>1.000000</td>\n",
              "      <td>1.000000</td>\n",
              "      <td>1.000000</td>\n",
              "      <td>1.000000</td>\n",
              "      <td>1.000000</td>\n",
              "      <td>1.000000</td>\n",
              "      <td>1.000000</td>\n",
              "      <td>1.000000</td>\n",
              "      <td>1.000000</td>\n",
              "    </tr>\n",
              "  </tbody>\n",
              "</table>\n",
              "<p>8 rows × 137 columns</p>\n",
              "</div>\n",
              "      <button class=\"colab-df-convert\" onclick=\"convertToInteractive('df-e51b6f29-7e12-44ee-af2e-3e54ad57e827')\"\n",
              "              title=\"Convert this dataframe to an interactive table.\"\n",
              "              style=\"display:none;\">\n",
              "        \n",
              "  <svg xmlns=\"http://www.w3.org/2000/svg\" height=\"24px\"viewBox=\"0 0 24 24\"\n",
              "       width=\"24px\">\n",
              "    <path d=\"M0 0h24v24H0V0z\" fill=\"none\"/>\n",
              "    <path d=\"M18.56 5.44l.94 2.06.94-2.06 2.06-.94-2.06-.94-.94-2.06-.94 2.06-2.06.94zm-11 1L8.5 8.5l.94-2.06 2.06-.94-2.06-.94L8.5 2.5l-.94 2.06-2.06.94zm10 10l.94 2.06.94-2.06 2.06-.94-2.06-.94-.94-2.06-.94 2.06-2.06.94z\"/><path d=\"M17.41 7.96l-1.37-1.37c-.4-.4-.92-.59-1.43-.59-.52 0-1.04.2-1.43.59L10.3 9.45l-7.72 7.72c-.78.78-.78 2.05 0 2.83L4 21.41c.39.39.9.59 1.41.59.51 0 1.02-.2 1.41-.59l7.78-7.78 2.81-2.81c.8-.78.8-2.07 0-2.86zM5.41 20L4 18.59l7.72-7.72 1.47 1.35L5.41 20z\"/>\n",
              "  </svg>\n",
              "      </button>\n",
              "      \n",
              "  <style>\n",
              "    .colab-df-container {\n",
              "      display:flex;\n",
              "      flex-wrap:wrap;\n",
              "      gap: 12px;\n",
              "    }\n",
              "\n",
              "    .colab-df-convert {\n",
              "      background-color: #E8F0FE;\n",
              "      border: none;\n",
              "      border-radius: 50%;\n",
              "      cursor: pointer;\n",
              "      display: none;\n",
              "      fill: #1967D2;\n",
              "      height: 32px;\n",
              "      padding: 0 0 0 0;\n",
              "      width: 32px;\n",
              "    }\n",
              "\n",
              "    .colab-df-convert:hover {\n",
              "      background-color: #E2EBFA;\n",
              "      box-shadow: 0px 1px 2px rgba(60, 64, 67, 0.3), 0px 1px 3px 1px rgba(60, 64, 67, 0.15);\n",
              "      fill: #174EA6;\n",
              "    }\n",
              "\n",
              "    [theme=dark] .colab-df-convert {\n",
              "      background-color: #3B4455;\n",
              "      fill: #D2E3FC;\n",
              "    }\n",
              "\n",
              "    [theme=dark] .colab-df-convert:hover {\n",
              "      background-color: #434B5C;\n",
              "      box-shadow: 0px 1px 3px 1px rgba(0, 0, 0, 0.15);\n",
              "      filter: drop-shadow(0px 1px 2px rgba(0, 0, 0, 0.3));\n",
              "      fill: #FFFFFF;\n",
              "    }\n",
              "  </style>\n",
              "\n",
              "      <script>\n",
              "        const buttonEl =\n",
              "          document.querySelector('#df-e51b6f29-7e12-44ee-af2e-3e54ad57e827 button.colab-df-convert');\n",
              "        buttonEl.style.display =\n",
              "          google.colab.kernel.accessAllowed ? 'block' : 'none';\n",
              "\n",
              "        async function convertToInteractive(key) {\n",
              "          const element = document.querySelector('#df-e51b6f29-7e12-44ee-af2e-3e54ad57e827');\n",
              "          const dataTable =\n",
              "            await google.colab.kernel.invokeFunction('convertToInteractive',\n",
              "                                                     [key], {});\n",
              "          if (!dataTable) return;\n",
              "\n",
              "          const docLinkHtml = 'Like what you see? Visit the ' +\n",
              "            '<a target=\"_blank\" href=https://colab.research.google.com/notebooks/data_table.ipynb>data table notebook</a>'\n",
              "            + ' to learn more about interactive tables.';\n",
              "          element.innerHTML = '';\n",
              "          dataTable['output_type'] = 'display_data';\n",
              "          await google.colab.output.renderOutput(dataTable, element);\n",
              "          const docLink = document.createElement('div');\n",
              "          docLink.innerHTML = docLinkHtml;\n",
              "          element.appendChild(docLink);\n",
              "        }\n",
              "      </script>\n",
              "    </div>\n",
              "  </div>\n",
              "  "
            ]
          },
          "metadata": {},
          "execution_count": 36
        }
      ]
    },
    {
      "cell_type": "code",
      "source": [
        "#Defining the dependent and independ variable\n",
        "x = df.drop('Modified_Response', axis=1)\n",
        "y = df['Modified_Response']"
      ],
      "metadata": {
        "id": "LrRXyS-3dHbU"
      },
      "execution_count": 37,
      "outputs": []
    },
    {
      "cell_type": "code",
      "source": [
        "#Spliting the data into traning and testing dataset\n",
        "xtrain, xtest, ytrain, ytest = train_test_split(x,y, test_size=0.2, random_state=42)"
      ],
      "metadata": {
        "id": "AMUNT_yLeEM9"
      },
      "execution_count": 38,
      "outputs": []
    },
    {
      "cell_type": "code",
      "source": [
        "#Importing the required model for traning the datasets\n",
        "from sklearn.linear_model import LogisticRegression\n",
        "from sklearn.ensemble import RandomForestClassifier\n",
        "from xgboost import XGBClassifier"
      ],
      "metadata": {
        "id": "p_0cfTZ0eerv"
      },
      "execution_count": 39,
      "outputs": []
    },
    {
      "cell_type": "code",
      "source": [
        "#Importing required libraries for evaluating model\n",
        "from sklearn.metrics import accuracy_score, confusion_matrix\n",
        "from sklearn.metrics import precision_score\n",
        "from sklearn.metrics import f1_score\n",
        "from sklearn.metrics import roc_auc_score\n",
        "from sklearn.metrics import roc_curve\n",
        "from sklearn.metrics import auc"
      ],
      "metadata": {
        "id": "Z79Nz4uwiUog"
      },
      "execution_count": 40,
      "outputs": []
    },
    {
      "cell_type": "code",
      "source": [
        "#Intializing model on object\n",
        "lr = LogisticRegression()\n",
        "rf = RandomForestClassifier()\n",
        "xg = XGBClassifier()"
      ],
      "metadata": {
        "id": "lDP9yQKIq_4s"
      },
      "execution_count": 41,
      "outputs": []
    },
    {
      "cell_type": "code",
      "source": [
        "param_dict_lr = {\n",
        "    'C':[1e-3,1e-2,1e-1,1,10,100,1e+3]\n",
        "}\n",
        "\n",
        "param_dict_rf = {\n",
        "    'max_depth':[4,6,8],\n",
        "    'min_samples_leaf':[40, 60],\n",
        "    'min_samples_split':[50,100,150],\n",
        "    'n_estimators':[50, 80, 100]\n",
        "}\n",
        "\n",
        "param_dict_xgb = {\n",
        "    'max_depth':[2,10,1],\n",
        "    'n_estimators':range(60,220,40),\n",
        "    'learning_rate' : [0.1, 0.05, 0.005,0.0005]\n",
        "}"
      ],
      "metadata": {
        "id": "neA72oFNrkvq"
      },
      "execution_count": 42,
      "outputs": []
    },
    {
      "cell_type": "code",
      "source": [
        "#Implimenting Gridsearch with defined parameter\n",
        "lr_gridsearch = GridSearchCV(estimator = lr,\n",
        "                             param_grid = param_dict_lr,\n",
        "                             cv=5, verbose = 2, scoring = 'roc_auc')\n",
        "lr_gridsearch.fit(xtrain,ytrain)"
      ],
      "metadata": {
        "colab": {
          "base_uri": "https://localhost:8080/",
          "height": 1000
        },
        "id": "2o2TCD8xG_uI",
        "outputId": "23240149-7b73-4931-c14e-7a933fea2ab6"
      },
      "execution_count": 45,
      "outputs": [
        {
          "output_type": "stream",
          "name": "stdout",
          "text": [
            "Fitting 5 folds for each of 7 candidates, totalling 35 fits\n",
            "[CV] END ............................................C=0.001; total time=   0.1s\n",
            "[CV] END ............................................C=0.001; total time=   0.0s\n"
          ]
        },
        {
          "output_type": "stream",
          "name": "stderr",
          "text": [
            "/usr/local/lib/python3.7/dist-packages/sklearn/model_selection/_split.py:680: UserWarning: The least populated class in y has only 1 members, which is less than n_splits=5.\n",
            "  UserWarning,\n",
            "/usr/local/lib/python3.7/dist-packages/sklearn/linear_model/_logistic.py:818: ConvergenceWarning: lbfgs failed to converge (status=1):\n",
            "STOP: TOTAL NO. of ITERATIONS REACHED LIMIT.\n",
            "\n",
            "Increase the number of iterations (max_iter) or scale the data as shown in:\n",
            "    https://scikit-learn.org/stable/modules/preprocessing.html\n",
            "Please also refer to the documentation for alternative solver options:\n",
            "    https://scikit-learn.org/stable/modules/linear_model.html#logistic-regression\n",
            "  extra_warning_msg=_LOGISTIC_SOLVER_CONVERGENCE_MSG,\n",
            "/usr/local/lib/python3.7/dist-packages/sklearn/model_selection/_validation.py:774: UserWarning: Scoring failed. The score on this train-test partition for these parameters will be set to nan. Details: \n",
            "Traceback (most recent call last):\n",
            "  File \"/usr/local/lib/python3.7/dist-packages/sklearn/model_selection/_validation.py\", line 761, in _score\n",
            "    scores = scorer(estimator, X_test, y_test)\n",
            "  File \"/usr/local/lib/python3.7/dist-packages/sklearn/metrics/_scorer.py\", line 221, in __call__\n",
            "    sample_weight=sample_weight,\n",
            "  File \"/usr/local/lib/python3.7/dist-packages/sklearn/metrics/_scorer.py\", line 349, in _score\n",
            "    raise ValueError(\"{0} format is not supported\".format(y_type))\n",
            "ValueError: multiclass format is not supported\n",
            "\n",
            "  UserWarning,\n"
          ]
        },
        {
          "output_type": "stream",
          "name": "stdout",
          "text": [
            "[CV] END ............................................C=0.001; total time=   1.2s\n",
            "[CV] END ............................................C=0.001; total time=   0.1s\n",
            "[CV] END ............................................C=0.001; total time=   0.1s\n",
            "[CV] END .............................................C=0.01; total time=   0.0s\n",
            "[CV] END .............................................C=0.01; total time=   0.1s\n"
          ]
        },
        {
          "output_type": "stream",
          "name": "stderr",
          "text": [
            "/usr/local/lib/python3.7/dist-packages/sklearn/linear_model/_logistic.py:818: ConvergenceWarning: lbfgs failed to converge (status=1):\n",
            "STOP: TOTAL NO. of ITERATIONS REACHED LIMIT.\n",
            "\n",
            "Increase the number of iterations (max_iter) or scale the data as shown in:\n",
            "    https://scikit-learn.org/stable/modules/preprocessing.html\n",
            "Please also refer to the documentation for alternative solver options:\n",
            "    https://scikit-learn.org/stable/modules/linear_model.html#logistic-regression\n",
            "  extra_warning_msg=_LOGISTIC_SOLVER_CONVERGENCE_MSG,\n",
            "/usr/local/lib/python3.7/dist-packages/sklearn/model_selection/_validation.py:774: UserWarning: Scoring failed. The score on this train-test partition for these parameters will be set to nan. Details: \n",
            "Traceback (most recent call last):\n",
            "  File \"/usr/local/lib/python3.7/dist-packages/sklearn/model_selection/_validation.py\", line 761, in _score\n",
            "    scores = scorer(estimator, X_test, y_test)\n",
            "  File \"/usr/local/lib/python3.7/dist-packages/sklearn/metrics/_scorer.py\", line 221, in __call__\n",
            "    sample_weight=sample_weight,\n",
            "  File \"/usr/local/lib/python3.7/dist-packages/sklearn/metrics/_scorer.py\", line 349, in _score\n",
            "    raise ValueError(\"{0} format is not supported\".format(y_type))\n",
            "ValueError: multiclass format is not supported\n",
            "\n",
            "  UserWarning,\n"
          ]
        },
        {
          "output_type": "stream",
          "name": "stdout",
          "text": [
            "[CV] END .............................................C=0.01; total time=   1.1s\n",
            "[CV] END .............................................C=0.01; total time=   0.1s\n",
            "[CV] END .............................................C=0.01; total time=   0.1s\n",
            "[CV] END ..............................................C=0.1; total time=   0.0s\n",
            "[CV] END ..............................................C=0.1; total time=   0.1s\n"
          ]
        },
        {
          "output_type": "stream",
          "name": "stderr",
          "text": [
            "/usr/local/lib/python3.7/dist-packages/sklearn/linear_model/_logistic.py:818: ConvergenceWarning: lbfgs failed to converge (status=1):\n",
            "STOP: TOTAL NO. of ITERATIONS REACHED LIMIT.\n",
            "\n",
            "Increase the number of iterations (max_iter) or scale the data as shown in:\n",
            "    https://scikit-learn.org/stable/modules/preprocessing.html\n",
            "Please also refer to the documentation for alternative solver options:\n",
            "    https://scikit-learn.org/stable/modules/linear_model.html#logistic-regression\n",
            "  extra_warning_msg=_LOGISTIC_SOLVER_CONVERGENCE_MSG,\n",
            "/usr/local/lib/python3.7/dist-packages/sklearn/model_selection/_validation.py:774: UserWarning: Scoring failed. The score on this train-test partition for these parameters will be set to nan. Details: \n",
            "Traceback (most recent call last):\n",
            "  File \"/usr/local/lib/python3.7/dist-packages/sklearn/model_selection/_validation.py\", line 761, in _score\n",
            "    scores = scorer(estimator, X_test, y_test)\n",
            "  File \"/usr/local/lib/python3.7/dist-packages/sklearn/metrics/_scorer.py\", line 221, in __call__\n",
            "    sample_weight=sample_weight,\n",
            "  File \"/usr/local/lib/python3.7/dist-packages/sklearn/metrics/_scorer.py\", line 349, in _score\n",
            "    raise ValueError(\"{0} format is not supported\".format(y_type))\n",
            "ValueError: multiclass format is not supported\n",
            "\n",
            "  UserWarning,\n"
          ]
        },
        {
          "output_type": "stream",
          "name": "stdout",
          "text": [
            "[CV] END ..............................................C=0.1; total time=   1.1s\n",
            "[CV] END ..............................................C=0.1; total time=   0.1s\n",
            "[CV] END ..............................................C=0.1; total time=   0.1s\n",
            "[CV] END ................................................C=1; total time=   0.1s\n",
            "[CV] END ................................................C=1; total time=   0.1s\n"
          ]
        },
        {
          "output_type": "stream",
          "name": "stderr",
          "text": [
            "/usr/local/lib/python3.7/dist-packages/sklearn/linear_model/_logistic.py:818: ConvergenceWarning: lbfgs failed to converge (status=1):\n",
            "STOP: TOTAL NO. of ITERATIONS REACHED LIMIT.\n",
            "\n",
            "Increase the number of iterations (max_iter) or scale the data as shown in:\n",
            "    https://scikit-learn.org/stable/modules/preprocessing.html\n",
            "Please also refer to the documentation for alternative solver options:\n",
            "    https://scikit-learn.org/stable/modules/linear_model.html#logistic-regression\n",
            "  extra_warning_msg=_LOGISTIC_SOLVER_CONVERGENCE_MSG,\n",
            "/usr/local/lib/python3.7/dist-packages/sklearn/model_selection/_validation.py:774: UserWarning: Scoring failed. The score on this train-test partition for these parameters will be set to nan. Details: \n",
            "Traceback (most recent call last):\n",
            "  File \"/usr/local/lib/python3.7/dist-packages/sklearn/model_selection/_validation.py\", line 761, in _score\n",
            "    scores = scorer(estimator, X_test, y_test)\n",
            "  File \"/usr/local/lib/python3.7/dist-packages/sklearn/metrics/_scorer.py\", line 221, in __call__\n",
            "    sample_weight=sample_weight,\n",
            "  File \"/usr/local/lib/python3.7/dist-packages/sklearn/metrics/_scorer.py\", line 349, in _score\n",
            "    raise ValueError(\"{0} format is not supported\".format(y_type))\n",
            "ValueError: multiclass format is not supported\n",
            "\n",
            "  UserWarning,\n"
          ]
        },
        {
          "output_type": "stream",
          "name": "stdout",
          "text": [
            "[CV] END ................................................C=1; total time=   1.1s\n",
            "[CV] END ................................................C=1; total time=   0.1s\n",
            "[CV] END ................................................C=1; total time=   0.1s\n",
            "[CV] END ...............................................C=10; total time=   0.0s\n",
            "[CV] END ...............................................C=10; total time=   0.1s\n"
          ]
        },
        {
          "output_type": "stream",
          "name": "stderr",
          "text": [
            "/usr/local/lib/python3.7/dist-packages/sklearn/linear_model/_logistic.py:818: ConvergenceWarning: lbfgs failed to converge (status=1):\n",
            "STOP: TOTAL NO. of ITERATIONS REACHED LIMIT.\n",
            "\n",
            "Increase the number of iterations (max_iter) or scale the data as shown in:\n",
            "    https://scikit-learn.org/stable/modules/preprocessing.html\n",
            "Please also refer to the documentation for alternative solver options:\n",
            "    https://scikit-learn.org/stable/modules/linear_model.html#logistic-regression\n",
            "  extra_warning_msg=_LOGISTIC_SOLVER_CONVERGENCE_MSG,\n",
            "/usr/local/lib/python3.7/dist-packages/sklearn/model_selection/_validation.py:774: UserWarning: Scoring failed. The score on this train-test partition for these parameters will be set to nan. Details: \n",
            "Traceback (most recent call last):\n",
            "  File \"/usr/local/lib/python3.7/dist-packages/sklearn/model_selection/_validation.py\", line 761, in _score\n",
            "    scores = scorer(estimator, X_test, y_test)\n",
            "  File \"/usr/local/lib/python3.7/dist-packages/sklearn/metrics/_scorer.py\", line 221, in __call__\n",
            "    sample_weight=sample_weight,\n",
            "  File \"/usr/local/lib/python3.7/dist-packages/sklearn/metrics/_scorer.py\", line 349, in _score\n",
            "    raise ValueError(\"{0} format is not supported\".format(y_type))\n",
            "ValueError: multiclass format is not supported\n",
            "\n",
            "  UserWarning,\n"
          ]
        },
        {
          "output_type": "stream",
          "name": "stdout",
          "text": [
            "[CV] END ...............................................C=10; total time=   1.1s\n",
            "[CV] END ...............................................C=10; total time=   0.1s\n",
            "[CV] END ...............................................C=10; total time=   0.1s\n",
            "[CV] END ..............................................C=100; total time=   0.0s\n",
            "[CV] END ..............................................C=100; total time=   0.1s\n"
          ]
        },
        {
          "output_type": "stream",
          "name": "stderr",
          "text": [
            "/usr/local/lib/python3.7/dist-packages/sklearn/linear_model/_logistic.py:818: ConvergenceWarning: lbfgs failed to converge (status=1):\n",
            "STOP: TOTAL NO. of ITERATIONS REACHED LIMIT.\n",
            "\n",
            "Increase the number of iterations (max_iter) or scale the data as shown in:\n",
            "    https://scikit-learn.org/stable/modules/preprocessing.html\n",
            "Please also refer to the documentation for alternative solver options:\n",
            "    https://scikit-learn.org/stable/modules/linear_model.html#logistic-regression\n",
            "  extra_warning_msg=_LOGISTIC_SOLVER_CONVERGENCE_MSG,\n",
            "/usr/local/lib/python3.7/dist-packages/sklearn/model_selection/_validation.py:774: UserWarning: Scoring failed. The score on this train-test partition for these parameters will be set to nan. Details: \n",
            "Traceback (most recent call last):\n",
            "  File \"/usr/local/lib/python3.7/dist-packages/sklearn/model_selection/_validation.py\", line 761, in _score\n",
            "    scores = scorer(estimator, X_test, y_test)\n",
            "  File \"/usr/local/lib/python3.7/dist-packages/sklearn/metrics/_scorer.py\", line 221, in __call__\n",
            "    sample_weight=sample_weight,\n",
            "  File \"/usr/local/lib/python3.7/dist-packages/sklearn/metrics/_scorer.py\", line 349, in _score\n",
            "    raise ValueError(\"{0} format is not supported\".format(y_type))\n",
            "ValueError: multiclass format is not supported\n",
            "\n",
            "  UserWarning,\n"
          ]
        },
        {
          "output_type": "stream",
          "name": "stdout",
          "text": [
            "[CV] END ..............................................C=100; total time=   1.3s\n",
            "[CV] END ..............................................C=100; total time=   0.1s\n",
            "[CV] END ..............................................C=100; total time=   0.1s\n",
            "[CV] END ...........................................C=1000.0; total time=   0.0s\n",
            "[CV] END ...........................................C=1000.0; total time=   0.1s\n",
            "[CV] END ...........................................C=1000.0; total time=   1.3s\n",
            "[CV] END ...........................................C=1000.0; total time=   0.1s\n",
            "[CV] END ...........................................C=1000.0; total time=   0.1s\n"
          ]
        },
        {
          "output_type": "stream",
          "name": "stderr",
          "text": [
            "/usr/local/lib/python3.7/dist-packages/sklearn/linear_model/_logistic.py:818: ConvergenceWarning: lbfgs failed to converge (status=1):\n",
            "STOP: TOTAL NO. of ITERATIONS REACHED LIMIT.\n",
            "\n",
            "Increase the number of iterations (max_iter) or scale the data as shown in:\n",
            "    https://scikit-learn.org/stable/modules/preprocessing.html\n",
            "Please also refer to the documentation for alternative solver options:\n",
            "    https://scikit-learn.org/stable/modules/linear_model.html#logistic-regression\n",
            "  extra_warning_msg=_LOGISTIC_SOLVER_CONVERGENCE_MSG,\n",
            "/usr/local/lib/python3.7/dist-packages/sklearn/model_selection/_validation.py:774: UserWarning: Scoring failed. The score on this train-test partition for these parameters will be set to nan. Details: \n",
            "Traceback (most recent call last):\n",
            "  File \"/usr/local/lib/python3.7/dist-packages/sklearn/model_selection/_validation.py\", line 761, in _score\n",
            "    scores = scorer(estimator, X_test, y_test)\n",
            "  File \"/usr/local/lib/python3.7/dist-packages/sklearn/metrics/_scorer.py\", line 221, in __call__\n",
            "    sample_weight=sample_weight,\n",
            "  File \"/usr/local/lib/python3.7/dist-packages/sklearn/metrics/_scorer.py\", line 349, in _score\n",
            "    raise ValueError(\"{0} format is not supported\".format(y_type))\n",
            "ValueError: multiclass format is not supported\n",
            "\n",
            "  UserWarning,\n",
            "/usr/local/lib/python3.7/dist-packages/sklearn/model_selection/_validation.py:372: FitFailedWarning: \n",
            "28 fits failed out of a total of 35.\n",
            "The score on these train-test partitions for these parameters will be set to nan.\n",
            "If these failures are not expected, you can try to debug them by setting error_score='raise'.\n",
            "\n",
            "Below are more details about the failures:\n",
            "--------------------------------------------------------------------------------\n",
            "28 fits failed with the following error:\n",
            "Traceback (most recent call last):\n",
            "  File \"/usr/local/lib/python3.7/dist-packages/sklearn/model_selection/_validation.py\", line 680, in _fit_and_score\n",
            "    estimator.fit(X_train, y_train, **fit_params)\n",
            "  File \"/usr/local/lib/python3.7/dist-packages/sklearn/linear_model/_logistic.py\", line 1514, in fit\n",
            "    accept_large_sparse=solver not in [\"liblinear\", \"sag\", \"saga\"],\n",
            "  File \"/usr/local/lib/python3.7/dist-packages/sklearn/base.py\", line 581, in _validate_data\n",
            "    X, y = check_X_y(X, y, **check_params)\n",
            "  File \"/usr/local/lib/python3.7/dist-packages/sklearn/utils/validation.py\", line 976, in check_X_y\n",
            "    estimator=estimator,\n",
            "  File \"/usr/local/lib/python3.7/dist-packages/sklearn/utils/validation.py\", line 800, in check_array\n",
            "    _assert_all_finite(array, allow_nan=force_all_finite == \"allow-nan\")\n",
            "  File \"/usr/local/lib/python3.7/dist-packages/sklearn/utils/validation.py\", line 116, in _assert_all_finite\n",
            "    type_err, msg_dtype if msg_dtype is not None else X.dtype\n",
            "ValueError: Input contains NaN, infinity or a value too large for dtype('float64').\n",
            "\n",
            "  warnings.warn(some_fits_failed_message, FitFailedWarning)\n",
            "/usr/local/lib/python3.7/dist-packages/sklearn/model_selection/_search.py:972: UserWarning: One or more of the test scores are non-finite: [nan nan nan nan nan nan nan]\n",
            "  category=UserWarning,\n"
          ]
        },
        {
          "output_type": "error",
          "ename": "ValueError",
          "evalue": "ignored",
          "traceback": [
            "\u001b[0;31m---------------------------------------------------------------------------\u001b[0m",
            "\u001b[0;31mValueError\u001b[0m                                Traceback (most recent call last)",
            "\u001b[0;32m<ipython-input-45-cfb2a34fcf89>\u001b[0m in \u001b[0;36m<module>\u001b[0;34m()\u001b[0m\n\u001b[1;32m      3\u001b[0m                              \u001b[0mparam_grid\u001b[0m \u001b[0;34m=\u001b[0m \u001b[0mparam_dict_lr\u001b[0m\u001b[0;34m,\u001b[0m\u001b[0;34m\u001b[0m\u001b[0;34m\u001b[0m\u001b[0m\n\u001b[1;32m      4\u001b[0m                              cv=5, verbose = 2, scoring = 'roc_auc')\n\u001b[0;32m----> 5\u001b[0;31m \u001b[0mlr_gridsearch\u001b[0m\u001b[0;34m.\u001b[0m\u001b[0mfit\u001b[0m\u001b[0;34m(\u001b[0m\u001b[0mxtrain\u001b[0m\u001b[0;34m,\u001b[0m\u001b[0mytrain\u001b[0m\u001b[0;34m)\u001b[0m\u001b[0;34m\u001b[0m\u001b[0;34m\u001b[0m\u001b[0m\n\u001b[0m",
            "\u001b[0;32m/usr/local/lib/python3.7/dist-packages/sklearn/model_selection/_search.py\u001b[0m in \u001b[0;36mfit\u001b[0;34m(self, X, y, groups, **fit_params)\u001b[0m\n\u001b[1;32m    924\u001b[0m             \u001b[0mrefit_start_time\u001b[0m \u001b[0;34m=\u001b[0m \u001b[0mtime\u001b[0m\u001b[0;34m.\u001b[0m\u001b[0mtime\u001b[0m\u001b[0;34m(\u001b[0m\u001b[0;34m)\u001b[0m\u001b[0;34m\u001b[0m\u001b[0;34m\u001b[0m\u001b[0m\n\u001b[1;32m    925\u001b[0m             \u001b[0;32mif\u001b[0m \u001b[0my\u001b[0m \u001b[0;32mis\u001b[0m \u001b[0;32mnot\u001b[0m \u001b[0;32mNone\u001b[0m\u001b[0;34m:\u001b[0m\u001b[0;34m\u001b[0m\u001b[0;34m\u001b[0m\u001b[0m\n\u001b[0;32m--> 926\u001b[0;31m                 \u001b[0mself\u001b[0m\u001b[0;34m.\u001b[0m\u001b[0mbest_estimator_\u001b[0m\u001b[0;34m.\u001b[0m\u001b[0mfit\u001b[0m\u001b[0;34m(\u001b[0m\u001b[0mX\u001b[0m\u001b[0;34m,\u001b[0m \u001b[0my\u001b[0m\u001b[0;34m,\u001b[0m \u001b[0;34m**\u001b[0m\u001b[0mfit_params\u001b[0m\u001b[0;34m)\u001b[0m\u001b[0;34m\u001b[0m\u001b[0;34m\u001b[0m\u001b[0m\n\u001b[0m\u001b[1;32m    927\u001b[0m             \u001b[0;32melse\u001b[0m\u001b[0;34m:\u001b[0m\u001b[0;34m\u001b[0m\u001b[0;34m\u001b[0m\u001b[0m\n\u001b[1;32m    928\u001b[0m                 \u001b[0mself\u001b[0m\u001b[0;34m.\u001b[0m\u001b[0mbest_estimator_\u001b[0m\u001b[0;34m.\u001b[0m\u001b[0mfit\u001b[0m\u001b[0;34m(\u001b[0m\u001b[0mX\u001b[0m\u001b[0;34m,\u001b[0m \u001b[0;34m**\u001b[0m\u001b[0mfit_params\u001b[0m\u001b[0;34m)\u001b[0m\u001b[0;34m\u001b[0m\u001b[0;34m\u001b[0m\u001b[0m\n",
            "\u001b[0;32m/usr/local/lib/python3.7/dist-packages/sklearn/linear_model/_logistic.py\u001b[0m in \u001b[0;36mfit\u001b[0;34m(self, X, y, sample_weight)\u001b[0m\n\u001b[1;32m   1512\u001b[0m             \u001b[0mdtype\u001b[0m\u001b[0;34m=\u001b[0m\u001b[0m_dtype\u001b[0m\u001b[0;34m,\u001b[0m\u001b[0;34m\u001b[0m\u001b[0;34m\u001b[0m\u001b[0m\n\u001b[1;32m   1513\u001b[0m             \u001b[0morder\u001b[0m\u001b[0;34m=\u001b[0m\u001b[0;34m\"C\"\u001b[0m\u001b[0;34m,\u001b[0m\u001b[0;34m\u001b[0m\u001b[0;34m\u001b[0m\u001b[0m\n\u001b[0;32m-> 1514\u001b[0;31m             \u001b[0maccept_large_sparse\u001b[0m\u001b[0;34m=\u001b[0m\u001b[0msolver\u001b[0m \u001b[0;32mnot\u001b[0m \u001b[0;32min\u001b[0m \u001b[0;34m[\u001b[0m\u001b[0;34m\"liblinear\"\u001b[0m\u001b[0;34m,\u001b[0m \u001b[0;34m\"sag\"\u001b[0m\u001b[0;34m,\u001b[0m \u001b[0;34m\"saga\"\u001b[0m\u001b[0;34m]\u001b[0m\u001b[0;34m,\u001b[0m\u001b[0;34m\u001b[0m\u001b[0;34m\u001b[0m\u001b[0m\n\u001b[0m\u001b[1;32m   1515\u001b[0m         )\n\u001b[1;32m   1516\u001b[0m         \u001b[0mcheck_classification_targets\u001b[0m\u001b[0;34m(\u001b[0m\u001b[0my\u001b[0m\u001b[0;34m)\u001b[0m\u001b[0;34m\u001b[0m\u001b[0;34m\u001b[0m\u001b[0m\n",
            "\u001b[0;32m/usr/local/lib/python3.7/dist-packages/sklearn/base.py\u001b[0m in \u001b[0;36m_validate_data\u001b[0;34m(self, X, y, reset, validate_separately, **check_params)\u001b[0m\n\u001b[1;32m    579\u001b[0m                 \u001b[0my\u001b[0m \u001b[0;34m=\u001b[0m \u001b[0mcheck_array\u001b[0m\u001b[0;34m(\u001b[0m\u001b[0my\u001b[0m\u001b[0;34m,\u001b[0m \u001b[0;34m**\u001b[0m\u001b[0mcheck_y_params\u001b[0m\u001b[0;34m)\u001b[0m\u001b[0;34m\u001b[0m\u001b[0;34m\u001b[0m\u001b[0m\n\u001b[1;32m    580\u001b[0m             \u001b[0;32melse\u001b[0m\u001b[0;34m:\u001b[0m\u001b[0;34m\u001b[0m\u001b[0;34m\u001b[0m\u001b[0m\n\u001b[0;32m--> 581\u001b[0;31m                 \u001b[0mX\u001b[0m\u001b[0;34m,\u001b[0m \u001b[0my\u001b[0m \u001b[0;34m=\u001b[0m \u001b[0mcheck_X_y\u001b[0m\u001b[0;34m(\u001b[0m\u001b[0mX\u001b[0m\u001b[0;34m,\u001b[0m \u001b[0my\u001b[0m\u001b[0;34m,\u001b[0m \u001b[0;34m**\u001b[0m\u001b[0mcheck_params\u001b[0m\u001b[0;34m)\u001b[0m\u001b[0;34m\u001b[0m\u001b[0;34m\u001b[0m\u001b[0m\n\u001b[0m\u001b[1;32m    582\u001b[0m             \u001b[0mout\u001b[0m \u001b[0;34m=\u001b[0m \u001b[0mX\u001b[0m\u001b[0;34m,\u001b[0m \u001b[0my\u001b[0m\u001b[0;34m\u001b[0m\u001b[0;34m\u001b[0m\u001b[0m\n\u001b[1;32m    583\u001b[0m \u001b[0;34m\u001b[0m\u001b[0m\n",
            "\u001b[0;32m/usr/local/lib/python3.7/dist-packages/sklearn/utils/validation.py\u001b[0m in \u001b[0;36mcheck_X_y\u001b[0;34m(X, y, accept_sparse, accept_large_sparse, dtype, order, copy, force_all_finite, ensure_2d, allow_nd, multi_output, ensure_min_samples, ensure_min_features, y_numeric, estimator)\u001b[0m\n\u001b[1;32m    974\u001b[0m         \u001b[0mensure_min_samples\u001b[0m\u001b[0;34m=\u001b[0m\u001b[0mensure_min_samples\u001b[0m\u001b[0;34m,\u001b[0m\u001b[0;34m\u001b[0m\u001b[0;34m\u001b[0m\u001b[0m\n\u001b[1;32m    975\u001b[0m         \u001b[0mensure_min_features\u001b[0m\u001b[0;34m=\u001b[0m\u001b[0mensure_min_features\u001b[0m\u001b[0;34m,\u001b[0m\u001b[0;34m\u001b[0m\u001b[0;34m\u001b[0m\u001b[0m\n\u001b[0;32m--> 976\u001b[0;31m         \u001b[0mestimator\u001b[0m\u001b[0;34m=\u001b[0m\u001b[0mestimator\u001b[0m\u001b[0;34m,\u001b[0m\u001b[0;34m\u001b[0m\u001b[0;34m\u001b[0m\u001b[0m\n\u001b[0m\u001b[1;32m    977\u001b[0m     )\n\u001b[1;32m    978\u001b[0m \u001b[0;34m\u001b[0m\u001b[0m\n",
            "\u001b[0;32m/usr/local/lib/python3.7/dist-packages/sklearn/utils/validation.py\u001b[0m in \u001b[0;36mcheck_array\u001b[0;34m(array, accept_sparse, accept_large_sparse, dtype, order, copy, force_all_finite, ensure_2d, allow_nd, ensure_min_samples, ensure_min_features, estimator)\u001b[0m\n\u001b[1;32m    798\u001b[0m \u001b[0;34m\u001b[0m\u001b[0m\n\u001b[1;32m    799\u001b[0m         \u001b[0;32mif\u001b[0m \u001b[0mforce_all_finite\u001b[0m\u001b[0;34m:\u001b[0m\u001b[0;34m\u001b[0m\u001b[0;34m\u001b[0m\u001b[0m\n\u001b[0;32m--> 800\u001b[0;31m             \u001b[0m_assert_all_finite\u001b[0m\u001b[0;34m(\u001b[0m\u001b[0marray\u001b[0m\u001b[0;34m,\u001b[0m \u001b[0mallow_nan\u001b[0m\u001b[0;34m=\u001b[0m\u001b[0mforce_all_finite\u001b[0m \u001b[0;34m==\u001b[0m \u001b[0;34m\"allow-nan\"\u001b[0m\u001b[0;34m)\u001b[0m\u001b[0;34m\u001b[0m\u001b[0;34m\u001b[0m\u001b[0m\n\u001b[0m\u001b[1;32m    801\u001b[0m \u001b[0;34m\u001b[0m\u001b[0m\n\u001b[1;32m    802\u001b[0m     \u001b[0;32mif\u001b[0m \u001b[0mensure_min_samples\u001b[0m \u001b[0;34m>\u001b[0m \u001b[0;36m0\u001b[0m\u001b[0;34m:\u001b[0m\u001b[0;34m\u001b[0m\u001b[0;34m\u001b[0m\u001b[0m\n",
            "\u001b[0;32m/usr/local/lib/python3.7/dist-packages/sklearn/utils/validation.py\u001b[0m in \u001b[0;36m_assert_all_finite\u001b[0;34m(X, allow_nan, msg_dtype)\u001b[0m\n\u001b[1;32m    114\u001b[0m             raise ValueError(\n\u001b[1;32m    115\u001b[0m                 msg_err.format(\n\u001b[0;32m--> 116\u001b[0;31m                     \u001b[0mtype_err\u001b[0m\u001b[0;34m,\u001b[0m \u001b[0mmsg_dtype\u001b[0m \u001b[0;32mif\u001b[0m \u001b[0mmsg_dtype\u001b[0m \u001b[0;32mis\u001b[0m \u001b[0;32mnot\u001b[0m \u001b[0;32mNone\u001b[0m \u001b[0;32melse\u001b[0m \u001b[0mX\u001b[0m\u001b[0;34m.\u001b[0m\u001b[0mdtype\u001b[0m\u001b[0;34m\u001b[0m\u001b[0;34m\u001b[0m\u001b[0m\n\u001b[0m\u001b[1;32m    117\u001b[0m                 )\n\u001b[1;32m    118\u001b[0m             )\n",
            "\u001b[0;31mValueError\u001b[0m: Input contains NaN, infinity or a value too large for dtype('float64')."
          ]
        }
      ]
    },
    {
      "cell_type": "code",
      "source": [
        "#Evaluating the model with train logisticregression\n",
        "print('Train ROC-AUC Score:', lr_gridsearch.best_estimator_.score(xtrain,ytrain))\n",
        "print('Test ROC-AUC Scores:', lr_gridsearch.best_estimator_.score(xtest,ytest))"
      ],
      "metadata": {
        "id": "fQ0nOQ4fRkY_"
      },
      "execution_count": null,
      "outputs": []
    },
    {
      "cell_type": "code",
      "source": [
        "#Hypertunig the logistic model with RandomsearchCV\n",
        "lr_randomsearch = RandomizedSearchCV(estimator=lr,\n",
        "                                     param_distributions= param_dict_lr,\n",
        "                                     cv=5, verbose=2, scoring='roc_auc')\n",
        "\n",
        "#Initializing with traning dataset\n",
        "lr_randomsearch.fit(xtrain,ytrain)\n"
      ],
      "metadata": {
        "id": "Y_CV_2EiAF2u"
      },
      "execution_count": null,
      "outputs": []
    },
    {
      "cell_type": "code",
      "source": [
        "print('Train ROC_AUC score:', lr_randomsearch.best_estimator_.score(xtrain,ytrain))\n",
        "print('Test ROC_AUC score:', lr_randomsearch.best_estimator_.score(xtest,ytest))"
      ],
      "metadata": {
        "id": "JO69MbDdi7kw"
      },
      "execution_count": null,
      "outputs": []
    },
    {
      "cell_type": "code",
      "source": [
        "#Implimenting the bayessearchcv with logistic regression\n",
        "lr_bayessearch = BayesSearchCV(estimator=lr,\n",
        "                               search_spaces={'C':Real(1e-6,1e+6)},\n",
        "                               cv = 5, verbose =2, scoring='roc_auc',n_iter=32)\n",
        "\n",
        "#Fitting defined model with traning dataset\n",
        "lr_bayessearch.fit(xtrain,ytrain)"
      ],
      "metadata": {
        "id": "AJDI6DBRtyvG"
      },
      "execution_count": null,
      "outputs": []
    },
    {
      "cell_type": "code",
      "source": [
        "#Printing the result of bayessearchcv\n",
        "print(\"Train ROC_AUC score :\", lr_bayessearch.best_estimator_.score(xtrain,ytrain))\n",
        "print(\"Test ROC_AUC score :\", lr_bayessearch.best_estimator_.score(xtest,ytest))"
      ],
      "metadata": {
        "id": "DTnbHDh3zX_K",
        "outputId": "50378374-0aeb-4a01-f650-c85df50d1055",
        "colab": {
          "base_uri": "https://localhost:8080/"
        }
      },
      "execution_count": 57,
      "outputs": [
        {
          "output_type": "stream",
          "name": "stdout",
          "text": [
            "Train ROC_AUC score : 0.7532628831256315\n",
            "Test ROC_AUC score : 0.7539782773427633\n"
          ]
        }
      ]
    },
    {
      "cell_type": "code",
      "source": [
        "lr_gridsearch"
      ],
      "metadata": {
        "id": "CvbwzClE0q2-",
        "outputId": "75d0a2da-5a03-4354-a73a-4aa63b24da89",
        "colab": {
          "base_uri": "https://localhost:8080/"
        }
      },
      "execution_count": 58,
      "outputs": [
        {
          "output_type": "execute_result",
          "data": {
            "text/plain": [
              "GridSearchCV(cv=5, estimator=LogisticRegression(),\n",
              "             param_grid={'C': [0.001, 0.01, 0.1, 1, 10, 100, 1000.0]},\n",
              "             scoring='roc_auc', verbose=2)"
            ]
          },
          "metadata": {},
          "execution_count": 58
        }
      ]
    },
    {
      "cell_type": "code",
      "source": [
        "lr_randomsearch.best_estimator_"
      ],
      "metadata": {
        "id": "Rv0QkS_H0lNV",
        "outputId": "5af681f1-bffb-4001-81e4-1fba2d600d66",
        "colab": {
          "base_uri": "https://localhost:8080/"
        }
      },
      "execution_count": 59,
      "outputs": [
        {
          "output_type": "execute_result",
          "data": {
            "text/plain": [
              "LogisticRegression(C=10)"
            ]
          },
          "metadata": {},
          "execution_count": 59
        }
      ]
    },
    {
      "cell_type": "code",
      "source": [
        "lr_bayessearch.best_estimator_"
      ],
      "metadata": {
        "id": "4P-dDq-i0LrR",
        "outputId": "d67b6c78-67ae-4de9-8015-53ff3473ea34",
        "colab": {
          "base_uri": "https://localhost:8080/"
        }
      },
      "execution_count": 60,
      "outputs": [
        {
          "output_type": "execute_result",
          "data": {
            "text/plain": [
              "LogisticRegression(C=390397.67437486054)"
            ]
          },
          "metadata": {},
          "execution_count": 60
        }
      ]
    },
    {
      "cell_type": "code",
      "source": [
        "#Implimenting the gridsearchcv with randomforest\n",
        "rf_gridsearch = GridSearchCV(estimator=rf,\n",
        "                             param_grid=  param_dict_rf,\n",
        "                             cv = 5, verbose=2, scoring='roc_auc')\n",
        "\n",
        "\n",
        "#Fitting defined model into train dataset\n",
        "rf_gridsearch.fit(xtrain,ytrain)"
      ],
      "metadata": {
        "id": "XoGhE_JHj1TH",
        "outputId": "d1c5cd8c-f5fa-4c97-ebb5-1376b3be8554",
        "colab": {
          "base_uri": "https://localhost:8080/"
        }
      },
      "execution_count": 46,
      "outputs": [
        {
          "output_type": "stream",
          "name": "stdout",
          "text": [
            "Fitting 5 folds for each of 54 candidates, totalling 270 fits\n",
            "[CV] END max_depth=4, min_samples_leaf=40, min_samples_split=50, n_estimators=50; total time=   0.9s\n",
            "[CV] END max_depth=4, min_samples_leaf=40, min_samples_split=50, n_estimators=50; total time=   0.9s\n",
            "[CV] END max_depth=4, min_samples_leaf=40, min_samples_split=50, n_estimators=50; total time=   0.9s\n",
            "[CV] END max_depth=4, min_samples_leaf=40, min_samples_split=50, n_estimators=50; total time=   0.9s\n",
            "[CV] END max_depth=4, min_samples_leaf=40, min_samples_split=50, n_estimators=50; total time=   0.9s\n",
            "[CV] END max_depth=4, min_samples_leaf=40, min_samples_split=50, n_estimators=80; total time=   1.4s\n",
            "[CV] END max_depth=4, min_samples_leaf=40, min_samples_split=50, n_estimators=80; total time=   1.4s\n",
            "[CV] END max_depth=4, min_samples_leaf=40, min_samples_split=50, n_estimators=80; total time=   1.4s\n",
            "[CV] END max_depth=4, min_samples_leaf=40, min_samples_split=50, n_estimators=80; total time=   1.4s\n",
            "[CV] END max_depth=4, min_samples_leaf=40, min_samples_split=50, n_estimators=80; total time=   1.4s\n",
            "[CV] END max_depth=4, min_samples_leaf=40, min_samples_split=50, n_estimators=100; total time=   1.7s\n",
            "[CV] END max_depth=4, min_samples_leaf=40, min_samples_split=50, n_estimators=100; total time=   1.8s\n",
            "[CV] END max_depth=4, min_samples_leaf=40, min_samples_split=50, n_estimators=100; total time=   1.7s\n",
            "[CV] END max_depth=4, min_samples_leaf=40, min_samples_split=50, n_estimators=100; total time=   1.7s\n",
            "[CV] END max_depth=4, min_samples_leaf=40, min_samples_split=50, n_estimators=100; total time=   1.8s\n",
            "[CV] END max_depth=4, min_samples_leaf=40, min_samples_split=100, n_estimators=50; total time=   0.9s\n",
            "[CV] END max_depth=4, min_samples_leaf=40, min_samples_split=100, n_estimators=50; total time=   0.9s\n",
            "[CV] END max_depth=4, min_samples_leaf=40, min_samples_split=100, n_estimators=50; total time=   0.9s\n",
            "[CV] END max_depth=4, min_samples_leaf=40, min_samples_split=100, n_estimators=50; total time=   0.9s\n",
            "[CV] END max_depth=4, min_samples_leaf=40, min_samples_split=100, n_estimators=50; total time=   0.9s\n",
            "[CV] END max_depth=4, min_samples_leaf=40, min_samples_split=100, n_estimators=80; total time=   1.4s\n",
            "[CV] END max_depth=4, min_samples_leaf=40, min_samples_split=100, n_estimators=80; total time=   1.4s\n",
            "[CV] END max_depth=4, min_samples_leaf=40, min_samples_split=100, n_estimators=80; total time=   1.4s\n",
            "[CV] END max_depth=4, min_samples_leaf=40, min_samples_split=100, n_estimators=80; total time=   1.4s\n",
            "[CV] END max_depth=4, min_samples_leaf=40, min_samples_split=100, n_estimators=80; total time=   1.5s\n",
            "[CV] END max_depth=4, min_samples_leaf=40, min_samples_split=100, n_estimators=100; total time=   1.8s\n",
            "[CV] END max_depth=4, min_samples_leaf=40, min_samples_split=100, n_estimators=100; total time=   1.8s\n",
            "[CV] END max_depth=4, min_samples_leaf=40, min_samples_split=100, n_estimators=100; total time=   1.8s\n",
            "[CV] END max_depth=4, min_samples_leaf=40, min_samples_split=100, n_estimators=100; total time=   1.8s\n",
            "[CV] END max_depth=4, min_samples_leaf=40, min_samples_split=100, n_estimators=100; total time=   1.7s\n",
            "[CV] END max_depth=4, min_samples_leaf=40, min_samples_split=150, n_estimators=50; total time=   0.9s\n",
            "[CV] END max_depth=4, min_samples_leaf=40, min_samples_split=150, n_estimators=50; total time=   0.9s\n",
            "[CV] END max_depth=4, min_samples_leaf=40, min_samples_split=150, n_estimators=50; total time=   0.9s\n",
            "[CV] END max_depth=4, min_samples_leaf=40, min_samples_split=150, n_estimators=50; total time=   0.9s\n",
            "[CV] END max_depth=4, min_samples_leaf=40, min_samples_split=150, n_estimators=50; total time=   0.9s\n",
            "[CV] END max_depth=4, min_samples_leaf=40, min_samples_split=150, n_estimators=80; total time=   1.4s\n",
            "[CV] END max_depth=4, min_samples_leaf=40, min_samples_split=150, n_estimators=80; total time=   1.4s\n",
            "[CV] END max_depth=4, min_samples_leaf=40, min_samples_split=150, n_estimators=80; total time=   1.4s\n",
            "[CV] END max_depth=4, min_samples_leaf=40, min_samples_split=150, n_estimators=80; total time=   1.4s\n",
            "[CV] END max_depth=4, min_samples_leaf=40, min_samples_split=150, n_estimators=80; total time=   1.4s\n",
            "[CV] END max_depth=4, min_samples_leaf=40, min_samples_split=150, n_estimators=100; total time=   1.8s\n",
            "[CV] END max_depth=4, min_samples_leaf=40, min_samples_split=150, n_estimators=100; total time=   1.7s\n",
            "[CV] END max_depth=4, min_samples_leaf=40, min_samples_split=150, n_estimators=100; total time=   1.7s\n",
            "[CV] END max_depth=4, min_samples_leaf=40, min_samples_split=150, n_estimators=100; total time=   1.7s\n",
            "[CV] END max_depth=4, min_samples_leaf=40, min_samples_split=150, n_estimators=100; total time=   1.8s\n",
            "[CV] END max_depth=4, min_samples_leaf=60, min_samples_split=50, n_estimators=50; total time=   0.9s\n",
            "[CV] END max_depth=4, min_samples_leaf=60, min_samples_split=50, n_estimators=50; total time=   0.9s\n",
            "[CV] END max_depth=4, min_samples_leaf=60, min_samples_split=50, n_estimators=50; total time=   0.9s\n",
            "[CV] END max_depth=4, min_samples_leaf=60, min_samples_split=50, n_estimators=50; total time=   0.9s\n",
            "[CV] END max_depth=4, min_samples_leaf=60, min_samples_split=50, n_estimators=50; total time=   0.9s\n",
            "[CV] END max_depth=4, min_samples_leaf=60, min_samples_split=50, n_estimators=80; total time=   1.4s\n",
            "[CV] END max_depth=4, min_samples_leaf=60, min_samples_split=50, n_estimators=80; total time=   1.4s\n",
            "[CV] END max_depth=4, min_samples_leaf=60, min_samples_split=50, n_estimators=80; total time=   1.4s\n",
            "[CV] END max_depth=4, min_samples_leaf=60, min_samples_split=50, n_estimators=80; total time=   1.6s\n",
            "[CV] END max_depth=4, min_samples_leaf=60, min_samples_split=50, n_estimators=80; total time=   2.0s\n",
            "[CV] END max_depth=4, min_samples_leaf=60, min_samples_split=50, n_estimators=100; total time=   1.8s\n",
            "[CV] END max_depth=4, min_samples_leaf=60, min_samples_split=50, n_estimators=100; total time=   2.0s\n",
            "[CV] END max_depth=4, min_samples_leaf=60, min_samples_split=50, n_estimators=100; total time=   3.5s\n",
            "[CV] END max_depth=4, min_samples_leaf=60, min_samples_split=50, n_estimators=100; total time=   2.9s\n",
            "[CV] END max_depth=4, min_samples_leaf=60, min_samples_split=50, n_estimators=100; total time=   2.9s\n",
            "[CV] END max_depth=4, min_samples_leaf=60, min_samples_split=100, n_estimators=50; total time=   1.2s\n",
            "[CV] END max_depth=4, min_samples_leaf=60, min_samples_split=100, n_estimators=50; total time=   1.4s\n",
            "[CV] END max_depth=4, min_samples_leaf=60, min_samples_split=100, n_estimators=50; total time=   1.1s\n",
            "[CV] END max_depth=4, min_samples_leaf=60, min_samples_split=100, n_estimators=50; total time=   1.2s\n",
            "[CV] END max_depth=4, min_samples_leaf=60, min_samples_split=100, n_estimators=50; total time=   1.2s\n",
            "[CV] END max_depth=4, min_samples_leaf=60, min_samples_split=100, n_estimators=80; total time=   1.8s\n",
            "[CV] END max_depth=4, min_samples_leaf=60, min_samples_split=100, n_estimators=80; total time=   2.2s\n",
            "[CV] END max_depth=4, min_samples_leaf=60, min_samples_split=100, n_estimators=80; total time=   1.8s\n",
            "[CV] END max_depth=4, min_samples_leaf=60, min_samples_split=100, n_estimators=80; total time=   2.0s\n",
            "[CV] END max_depth=4, min_samples_leaf=60, min_samples_split=100, n_estimators=80; total time=   2.0s\n",
            "[CV] END max_depth=4, min_samples_leaf=60, min_samples_split=100, n_estimators=100; total time=   2.6s\n",
            "[CV] END max_depth=4, min_samples_leaf=60, min_samples_split=100, n_estimators=100; total time=   2.1s\n",
            "[CV] END max_depth=4, min_samples_leaf=60, min_samples_split=100, n_estimators=100; total time=   2.7s\n",
            "[CV] END max_depth=4, min_samples_leaf=60, min_samples_split=100, n_estimators=100; total time=   1.7s\n",
            "[CV] END max_depth=4, min_samples_leaf=60, min_samples_split=100, n_estimators=100; total time=   1.7s\n",
            "[CV] END max_depth=4, min_samples_leaf=60, min_samples_split=150, n_estimators=50; total time=   0.9s\n",
            "[CV] END max_depth=4, min_samples_leaf=60, min_samples_split=150, n_estimators=50; total time=   0.9s\n",
            "[CV] END max_depth=4, min_samples_leaf=60, min_samples_split=150, n_estimators=50; total time=   0.9s\n",
            "[CV] END max_depth=4, min_samples_leaf=60, min_samples_split=150, n_estimators=50; total time=   1.2s\n",
            "[CV] END max_depth=4, min_samples_leaf=60, min_samples_split=150, n_estimators=50; total time=   1.4s\n",
            "[CV] END max_depth=4, min_samples_leaf=60, min_samples_split=150, n_estimators=80; total time=   1.9s\n",
            "[CV] END max_depth=4, min_samples_leaf=60, min_samples_split=150, n_estimators=80; total time=   2.2s\n",
            "[CV] END max_depth=4, min_samples_leaf=60, min_samples_split=150, n_estimators=80; total time=   1.4s\n",
            "[CV] END max_depth=4, min_samples_leaf=60, min_samples_split=150, n_estimators=80; total time=   1.5s\n",
            "[CV] END max_depth=4, min_samples_leaf=60, min_samples_split=150, n_estimators=80; total time=   2.1s\n",
            "[CV] END max_depth=4, min_samples_leaf=60, min_samples_split=150, n_estimators=100; total time=   2.5s\n",
            "[CV] END max_depth=4, min_samples_leaf=60, min_samples_split=150, n_estimators=100; total time=   3.2s\n",
            "[CV] END max_depth=4, min_samples_leaf=60, min_samples_split=150, n_estimators=100; total time=   2.9s\n",
            "[CV] END max_depth=4, min_samples_leaf=60, min_samples_split=150, n_estimators=100; total time=   3.0s\n",
            "[CV] END max_depth=4, min_samples_leaf=60, min_samples_split=150, n_estimators=100; total time=   2.5s\n",
            "[CV] END max_depth=6, min_samples_leaf=40, min_samples_split=50, n_estimators=50; total time=   1.8s\n",
            "[CV] END max_depth=6, min_samples_leaf=40, min_samples_split=50, n_estimators=50; total time=   1.8s\n",
            "[CV] END max_depth=6, min_samples_leaf=40, min_samples_split=50, n_estimators=50; total time=   1.9s\n",
            "[CV] END max_depth=6, min_samples_leaf=40, min_samples_split=50, n_estimators=50; total time=   2.2s\n",
            "[CV] END max_depth=6, min_samples_leaf=40, min_samples_split=50, n_estimators=50; total time=   2.1s\n",
            "[CV] END max_depth=6, min_samples_leaf=40, min_samples_split=50, n_estimators=80; total time=   3.0s\n",
            "[CV] END max_depth=6, min_samples_leaf=40, min_samples_split=50, n_estimators=80; total time=   2.9s\n",
            "[CV] END max_depth=6, min_samples_leaf=40, min_samples_split=50, n_estimators=80; total time=   3.6s\n",
            "[CV] END max_depth=6, min_samples_leaf=40, min_samples_split=50, n_estimators=80; total time=   3.2s\n",
            "[CV] END max_depth=6, min_samples_leaf=40, min_samples_split=50, n_estimators=80; total time=   3.0s\n",
            "[CV] END max_depth=6, min_samples_leaf=40, min_samples_split=50, n_estimators=100; total time=   3.6s\n",
            "[CV] END max_depth=6, min_samples_leaf=40, min_samples_split=50, n_estimators=100; total time=   3.3s\n",
            "[CV] END max_depth=6, min_samples_leaf=40, min_samples_split=50, n_estimators=100; total time=   4.1s\n",
            "[CV] END max_depth=6, min_samples_leaf=40, min_samples_split=50, n_estimators=100; total time=   3.4s\n",
            "[CV] END max_depth=6, min_samples_leaf=40, min_samples_split=50, n_estimators=100; total time=   3.1s\n",
            "[CV] END max_depth=6, min_samples_leaf=40, min_samples_split=100, n_estimators=50; total time=   1.7s\n",
            "[CV] END max_depth=6, min_samples_leaf=40, min_samples_split=100, n_estimators=50; total time=   1.5s\n",
            "[CV] END max_depth=6, min_samples_leaf=40, min_samples_split=100, n_estimators=50; total time=   1.8s\n",
            "[CV] END max_depth=6, min_samples_leaf=40, min_samples_split=100, n_estimators=50; total time=   3.1s\n",
            "[CV] END max_depth=6, min_samples_leaf=40, min_samples_split=100, n_estimators=50; total time=   1.5s\n",
            "[CV] END max_depth=6, min_samples_leaf=40, min_samples_split=100, n_estimators=80; total time=   3.3s\n",
            "[CV] END max_depth=6, min_samples_leaf=40, min_samples_split=100, n_estimators=80; total time=   3.3s\n",
            "[CV] END max_depth=6, min_samples_leaf=40, min_samples_split=100, n_estimators=80; total time=   2.8s\n",
            "[CV] END max_depth=6, min_samples_leaf=40, min_samples_split=100, n_estimators=80; total time=   2.1s\n",
            "[CV] END max_depth=6, min_samples_leaf=40, min_samples_split=100, n_estimators=80; total time=   1.9s\n",
            "[CV] END max_depth=6, min_samples_leaf=40, min_samples_split=100, n_estimators=100; total time=   2.3s\n",
            "[CV] END max_depth=6, min_samples_leaf=40, min_samples_split=100, n_estimators=100; total time=   2.4s\n",
            "[CV] END max_depth=6, min_samples_leaf=40, min_samples_split=100, n_estimators=100; total time=   3.1s\n",
            "[CV] END max_depth=6, min_samples_leaf=40, min_samples_split=100, n_estimators=100; total time=   3.1s\n",
            "[CV] END max_depth=6, min_samples_leaf=40, min_samples_split=100, n_estimators=100; total time=   2.7s\n",
            "[CV] END max_depth=6, min_samples_leaf=40, min_samples_split=150, n_estimators=50; total time=   1.7s\n",
            "[CV] END max_depth=6, min_samples_leaf=40, min_samples_split=150, n_estimators=50; total time=   1.8s\n",
            "[CV] END max_depth=6, min_samples_leaf=40, min_samples_split=150, n_estimators=50; total time=   1.8s\n",
            "[CV] END max_depth=6, min_samples_leaf=40, min_samples_split=150, n_estimators=50; total time=   1.8s\n",
            "[CV] END max_depth=6, min_samples_leaf=40, min_samples_split=150, n_estimators=50; total time=   2.1s\n",
            "[CV] END max_depth=6, min_samples_leaf=40, min_samples_split=150, n_estimators=80; total time=   2.5s\n",
            "[CV] END max_depth=6, min_samples_leaf=40, min_samples_split=150, n_estimators=80; total time=   2.8s\n",
            "[CV] END max_depth=6, min_samples_leaf=40, min_samples_split=150, n_estimators=80; total time=   2.5s\n",
            "[CV] END max_depth=6, min_samples_leaf=40, min_samples_split=150, n_estimators=80; total time=   3.0s\n",
            "[CV] END max_depth=6, min_samples_leaf=40, min_samples_split=150, n_estimators=80; total time=   2.5s\n",
            "[CV] END max_depth=6, min_samples_leaf=40, min_samples_split=150, n_estimators=100; total time=   4.0s\n",
            "[CV] END max_depth=6, min_samples_leaf=40, min_samples_split=150, n_estimators=100; total time=   4.2s\n",
            "[CV] END max_depth=6, min_samples_leaf=40, min_samples_split=150, n_estimators=100; total time=   2.6s\n",
            "[CV] END max_depth=6, min_samples_leaf=40, min_samples_split=150, n_estimators=100; total time=   3.3s\n",
            "[CV] END max_depth=6, min_samples_leaf=40, min_samples_split=150, n_estimators=100; total time=   3.4s\n",
            "[CV] END max_depth=6, min_samples_leaf=60, min_samples_split=50, n_estimators=50; total time=   2.5s\n",
            "[CV] END max_depth=6, min_samples_leaf=60, min_samples_split=50, n_estimators=50; total time=   2.3s\n",
            "[CV] END max_depth=6, min_samples_leaf=60, min_samples_split=50, n_estimators=50; total time=   1.8s\n",
            "[CV] END max_depth=6, min_samples_leaf=60, min_samples_split=50, n_estimators=50; total time=   1.9s\n",
            "[CV] END max_depth=6, min_samples_leaf=60, min_samples_split=50, n_estimators=50; total time=   1.8s\n",
            "[CV] END max_depth=6, min_samples_leaf=60, min_samples_split=50, n_estimators=80; total time=   2.9s\n",
            "[CV] END max_depth=6, min_samples_leaf=60, min_samples_split=50, n_estimators=80; total time=   3.4s\n",
            "[CV] END max_depth=6, min_samples_leaf=60, min_samples_split=50, n_estimators=80; total time=   2.7s\n",
            "[CV] END max_depth=6, min_samples_leaf=60, min_samples_split=50, n_estimators=80; total time=   2.2s\n",
            "[CV] END max_depth=6, min_samples_leaf=60, min_samples_split=50, n_estimators=80; total time=   1.8s\n",
            "[CV] END max_depth=6, min_samples_leaf=60, min_samples_split=50, n_estimators=100; total time=   2.2s\n",
            "[CV] END max_depth=6, min_samples_leaf=60, min_samples_split=50, n_estimators=100; total time=   2.2s\n",
            "[CV] END max_depth=6, min_samples_leaf=60, min_samples_split=50, n_estimators=100; total time=   2.2s\n",
            "[CV] END max_depth=6, min_samples_leaf=60, min_samples_split=50, n_estimators=100; total time=   2.2s\n",
            "[CV] END max_depth=6, min_samples_leaf=60, min_samples_split=50, n_estimators=100; total time=   2.2s\n",
            "[CV] END max_depth=6, min_samples_leaf=60, min_samples_split=100, n_estimators=50; total time=   1.1s\n",
            "[CV] END max_depth=6, min_samples_leaf=60, min_samples_split=100, n_estimators=50; total time=   1.2s\n",
            "[CV] END max_depth=6, min_samples_leaf=60, min_samples_split=100, n_estimators=50; total time=   1.1s\n",
            "[CV] END max_depth=6, min_samples_leaf=60, min_samples_split=100, n_estimators=50; total time=   1.2s\n",
            "[CV] END max_depth=6, min_samples_leaf=60, min_samples_split=100, n_estimators=50; total time=   1.2s\n",
            "[CV] END max_depth=6, min_samples_leaf=60, min_samples_split=100, n_estimators=80; total time=   1.8s\n",
            "[CV] END max_depth=6, min_samples_leaf=60, min_samples_split=100, n_estimators=80; total time=   1.9s\n",
            "[CV] END max_depth=6, min_samples_leaf=60, min_samples_split=100, n_estimators=80; total time=   1.9s\n",
            "[CV] END max_depth=6, min_samples_leaf=60, min_samples_split=100, n_estimators=80; total time=   1.9s\n",
            "[CV] END max_depth=6, min_samples_leaf=60, min_samples_split=100, n_estimators=80; total time=   1.9s\n",
            "[CV] END max_depth=6, min_samples_leaf=60, min_samples_split=100, n_estimators=100; total time=   2.4s\n",
            "[CV] END max_depth=6, min_samples_leaf=60, min_samples_split=100, n_estimators=100; total time=   2.3s\n",
            "[CV] END max_depth=6, min_samples_leaf=60, min_samples_split=100, n_estimators=100; total time=   2.4s\n",
            "[CV] END max_depth=6, min_samples_leaf=60, min_samples_split=100, n_estimators=100; total time=   2.3s\n",
            "[CV] END max_depth=6, min_samples_leaf=60, min_samples_split=100, n_estimators=100; total time=   2.4s\n",
            "[CV] END max_depth=6, min_samples_leaf=60, min_samples_split=150, n_estimators=50; total time=   1.2s\n",
            "[CV] END max_depth=6, min_samples_leaf=60, min_samples_split=150, n_estimators=50; total time=   1.2s\n",
            "[CV] END max_depth=6, min_samples_leaf=60, min_samples_split=150, n_estimators=50; total time=   1.2s\n",
            "[CV] END max_depth=6, min_samples_leaf=60, min_samples_split=150, n_estimators=50; total time=   1.2s\n",
            "[CV] END max_depth=6, min_samples_leaf=60, min_samples_split=150, n_estimators=50; total time=   1.2s\n",
            "[CV] END max_depth=6, min_samples_leaf=60, min_samples_split=150, n_estimators=80; total time=   1.9s\n",
            "[CV] END max_depth=6, min_samples_leaf=60, min_samples_split=150, n_estimators=80; total time=   1.9s\n",
            "[CV] END max_depth=6, min_samples_leaf=60, min_samples_split=150, n_estimators=80; total time=   1.9s\n",
            "[CV] END max_depth=6, min_samples_leaf=60, min_samples_split=150, n_estimators=80; total time=   1.9s\n",
            "[CV] END max_depth=6, min_samples_leaf=60, min_samples_split=150, n_estimators=80; total time=   1.9s\n",
            "[CV] END max_depth=6, min_samples_leaf=60, min_samples_split=150, n_estimators=100; total time=   2.4s\n",
            "[CV] END max_depth=6, min_samples_leaf=60, min_samples_split=150, n_estimators=100; total time=   2.3s\n",
            "[CV] END max_depth=6, min_samples_leaf=60, min_samples_split=150, n_estimators=100; total time=   2.2s\n",
            "[CV] END max_depth=6, min_samples_leaf=60, min_samples_split=150, n_estimators=100; total time=   2.3s\n",
            "[CV] END max_depth=6, min_samples_leaf=60, min_samples_split=150, n_estimators=100; total time=   2.3s\n",
            "[CV] END max_depth=8, min_samples_leaf=40, min_samples_split=50, n_estimators=50; total time=   1.5s\n",
            "[CV] END max_depth=8, min_samples_leaf=40, min_samples_split=50, n_estimators=50; total time=   2.2s\n",
            "[CV] END max_depth=8, min_samples_leaf=40, min_samples_split=50, n_estimators=50; total time=   2.7s\n",
            "[CV] END max_depth=8, min_samples_leaf=40, min_samples_split=50, n_estimators=50; total time=   1.7s\n",
            "[CV] END max_depth=8, min_samples_leaf=40, min_samples_split=50, n_estimators=50; total time=   1.9s\n",
            "[CV] END max_depth=8, min_samples_leaf=40, min_samples_split=50, n_estimators=80; total time=   3.0s\n",
            "[CV] END max_depth=8, min_samples_leaf=40, min_samples_split=50, n_estimators=80; total time=   3.0s\n",
            "[CV] END max_depth=8, min_samples_leaf=40, min_samples_split=50, n_estimators=80; total time=   3.2s\n",
            "[CV] END max_depth=8, min_samples_leaf=40, min_samples_split=50, n_estimators=80; total time=   4.2s\n",
            "[CV] END max_depth=8, min_samples_leaf=40, min_samples_split=50, n_estimators=80; total time=   3.1s\n",
            "[CV] END max_depth=8, min_samples_leaf=40, min_samples_split=50, n_estimators=100; total time=   4.5s\n",
            "[CV] END max_depth=8, min_samples_leaf=40, min_samples_split=50, n_estimators=100; total time=   3.8s\n",
            "[CV] END max_depth=8, min_samples_leaf=40, min_samples_split=50, n_estimators=100; total time=   3.8s\n",
            "[CV] END max_depth=8, min_samples_leaf=40, min_samples_split=50, n_estimators=100; total time=   2.8s\n",
            "[CV] END max_depth=8, min_samples_leaf=40, min_samples_split=50, n_estimators=100; total time=   2.7s\n",
            "[CV] END max_depth=8, min_samples_leaf=40, min_samples_split=100, n_estimators=50; total time=   1.4s\n",
            "[CV] END max_depth=8, min_samples_leaf=40, min_samples_split=100, n_estimators=50; total time=   1.4s\n",
            "[CV] END max_depth=8, min_samples_leaf=40, min_samples_split=100, n_estimators=50; total time=   1.4s\n",
            "[CV] END max_depth=8, min_samples_leaf=40, min_samples_split=100, n_estimators=50; total time=   1.4s\n",
            "[CV] END max_depth=8, min_samples_leaf=40, min_samples_split=100, n_estimators=50; total time=   1.4s\n",
            "[CV] END max_depth=8, min_samples_leaf=40, min_samples_split=100, n_estimators=80; total time=   2.2s\n",
            "[CV] END max_depth=8, min_samples_leaf=40, min_samples_split=100, n_estimators=80; total time=   2.2s\n",
            "[CV] END max_depth=8, min_samples_leaf=40, min_samples_split=100, n_estimators=80; total time=   2.2s\n",
            "[CV] END max_depth=8, min_samples_leaf=40, min_samples_split=100, n_estimators=80; total time=   2.2s\n",
            "[CV] END max_depth=8, min_samples_leaf=40, min_samples_split=100, n_estimators=80; total time=   2.2s\n",
            "[CV] END max_depth=8, min_samples_leaf=40, min_samples_split=100, n_estimators=100; total time=   2.7s\n",
            "[CV] END max_depth=8, min_samples_leaf=40, min_samples_split=100, n_estimators=100; total time=   2.7s\n",
            "[CV] END max_depth=8, min_samples_leaf=40, min_samples_split=100, n_estimators=100; total time=   2.7s\n",
            "[CV] END max_depth=8, min_samples_leaf=40, min_samples_split=100, n_estimators=100; total time=   2.7s\n",
            "[CV] END max_depth=8, min_samples_leaf=40, min_samples_split=100, n_estimators=100; total time=   2.7s\n",
            "[CV] END max_depth=8, min_samples_leaf=40, min_samples_split=150, n_estimators=50; total time=   1.4s\n",
            "[CV] END max_depth=8, min_samples_leaf=40, min_samples_split=150, n_estimators=50; total time=   1.4s\n",
            "[CV] END max_depth=8, min_samples_leaf=40, min_samples_split=150, n_estimators=50; total time=   1.4s\n",
            "[CV] END max_depth=8, min_samples_leaf=40, min_samples_split=150, n_estimators=50; total time=   1.4s\n",
            "[CV] END max_depth=8, min_samples_leaf=40, min_samples_split=150, n_estimators=50; total time=   1.4s\n",
            "[CV] END max_depth=8, min_samples_leaf=40, min_samples_split=150, n_estimators=80; total time=   2.2s\n",
            "[CV] END max_depth=8, min_samples_leaf=40, min_samples_split=150, n_estimators=80; total time=   2.2s\n",
            "[CV] END max_depth=8, min_samples_leaf=40, min_samples_split=150, n_estimators=80; total time=   2.2s\n",
            "[CV] END max_depth=8, min_samples_leaf=40, min_samples_split=150, n_estimators=80; total time=   2.2s\n",
            "[CV] END max_depth=8, min_samples_leaf=40, min_samples_split=150, n_estimators=80; total time=   2.3s\n",
            "[CV] END max_depth=8, min_samples_leaf=40, min_samples_split=150, n_estimators=100; total time=   2.8s\n",
            "[CV] END max_depth=8, min_samples_leaf=40, min_samples_split=150, n_estimators=100; total time=   2.8s\n",
            "[CV] END max_depth=8, min_samples_leaf=40, min_samples_split=150, n_estimators=100; total time=   2.8s\n",
            "[CV] END max_depth=8, min_samples_leaf=40, min_samples_split=150, n_estimators=100; total time=   2.8s\n",
            "[CV] END max_depth=8, min_samples_leaf=40, min_samples_split=150, n_estimators=100; total time=   2.8s\n",
            "[CV] END max_depth=8, min_samples_leaf=60, min_samples_split=50, n_estimators=50; total time=   1.5s\n",
            "[CV] END max_depth=8, min_samples_leaf=60, min_samples_split=50, n_estimators=50; total time=   1.5s\n",
            "[CV] END max_depth=8, min_samples_leaf=60, min_samples_split=50, n_estimators=50; total time=   1.5s\n",
            "[CV] END max_depth=8, min_samples_leaf=60, min_samples_split=50, n_estimators=50; total time=   1.5s\n",
            "[CV] END max_depth=8, min_samples_leaf=60, min_samples_split=50, n_estimators=50; total time=   1.4s\n",
            "[CV] END max_depth=8, min_samples_leaf=60, min_samples_split=50, n_estimators=80; total time=   2.2s\n",
            "[CV] END max_depth=8, min_samples_leaf=60, min_samples_split=50, n_estimators=80; total time=   2.3s\n",
            "[CV] END max_depth=8, min_samples_leaf=60, min_samples_split=50, n_estimators=80; total time=   2.2s\n",
            "[CV] END max_depth=8, min_samples_leaf=60, min_samples_split=50, n_estimators=80; total time=   2.3s\n",
            "[CV] END max_depth=8, min_samples_leaf=60, min_samples_split=50, n_estimators=80; total time=   2.3s\n",
            "[CV] END max_depth=8, min_samples_leaf=60, min_samples_split=50, n_estimators=100; total time=   2.8s\n",
            "[CV] END max_depth=8, min_samples_leaf=60, min_samples_split=50, n_estimators=100; total time=   2.8s\n",
            "[CV] END max_depth=8, min_samples_leaf=60, min_samples_split=50, n_estimators=100; total time=   2.8s\n",
            "[CV] END max_depth=8, min_samples_leaf=60, min_samples_split=50, n_estimators=100; total time=   2.8s\n",
            "[CV] END max_depth=8, min_samples_leaf=60, min_samples_split=50, n_estimators=100; total time=   2.8s\n",
            "[CV] END max_depth=8, min_samples_leaf=60, min_samples_split=100, n_estimators=50; total time=   1.5s\n",
            "[CV] END max_depth=8, min_samples_leaf=60, min_samples_split=100, n_estimators=50; total time=   1.5s\n",
            "[CV] END max_depth=8, min_samples_leaf=60, min_samples_split=100, n_estimators=50; total time=   1.5s\n",
            "[CV] END max_depth=8, min_samples_leaf=60, min_samples_split=100, n_estimators=50; total time=   1.4s\n",
            "[CV] END max_depth=8, min_samples_leaf=60, min_samples_split=100, n_estimators=50; total time=   1.4s\n",
            "[CV] END max_depth=8, min_samples_leaf=60, min_samples_split=100, n_estimators=80; total time=   2.2s\n",
            "[CV] END max_depth=8, min_samples_leaf=60, min_samples_split=100, n_estimators=80; total time=   2.3s\n",
            "[CV] END max_depth=8, min_samples_leaf=60, min_samples_split=100, n_estimators=80; total time=   2.2s\n",
            "[CV] END max_depth=8, min_samples_leaf=60, min_samples_split=100, n_estimators=80; total time=   2.3s\n",
            "[CV] END max_depth=8, min_samples_leaf=60, min_samples_split=100, n_estimators=80; total time=   2.2s\n",
            "[CV] END max_depth=8, min_samples_leaf=60, min_samples_split=100, n_estimators=100; total time=   2.8s\n",
            "[CV] END max_depth=8, min_samples_leaf=60, min_samples_split=100, n_estimators=100; total time=   2.8s\n",
            "[CV] END max_depth=8, min_samples_leaf=60, min_samples_split=100, n_estimators=100; total time=   2.8s\n",
            "[CV] END max_depth=8, min_samples_leaf=60, min_samples_split=100, n_estimators=100; total time=   2.9s\n",
            "[CV] END max_depth=8, min_samples_leaf=60, min_samples_split=100, n_estimators=100; total time=   2.9s\n",
            "[CV] END max_depth=8, min_samples_leaf=60, min_samples_split=150, n_estimators=50; total time=   1.4s\n",
            "[CV] END max_depth=8, min_samples_leaf=60, min_samples_split=150, n_estimators=50; total time=   1.4s\n",
            "[CV] END max_depth=8, min_samples_leaf=60, min_samples_split=150, n_estimators=50; total time=   1.4s\n",
            "[CV] END max_depth=8, min_samples_leaf=60, min_samples_split=150, n_estimators=50; total time=   1.4s\n",
            "[CV] END max_depth=8, min_samples_leaf=60, min_samples_split=150, n_estimators=50; total time=   1.4s\n",
            "[CV] END max_depth=8, min_samples_leaf=60, min_samples_split=150, n_estimators=80; total time=   2.1s\n",
            "[CV] END max_depth=8, min_samples_leaf=60, min_samples_split=150, n_estimators=80; total time=   2.2s\n",
            "[CV] END max_depth=8, min_samples_leaf=60, min_samples_split=150, n_estimators=80; total time=   2.2s\n",
            "[CV] END max_depth=8, min_samples_leaf=60, min_samples_split=150, n_estimators=80; total time=   2.1s\n",
            "[CV] END max_depth=8, min_samples_leaf=60, min_samples_split=150, n_estimators=80; total time=   2.2s\n",
            "[CV] END max_depth=8, min_samples_leaf=60, min_samples_split=150, n_estimators=100; total time=   2.7s\n",
            "[CV] END max_depth=8, min_samples_leaf=60, min_samples_split=150, n_estimators=100; total time=   2.7s\n",
            "[CV] END max_depth=8, min_samples_leaf=60, min_samples_split=150, n_estimators=100; total time=   2.8s\n",
            "[CV] END max_depth=8, min_samples_leaf=60, min_samples_split=150, n_estimators=100; total time=   2.7s\n",
            "[CV] END max_depth=8, min_samples_leaf=60, min_samples_split=150, n_estimators=100; total time=   2.7s\n"
          ]
        },
        {
          "output_type": "execute_result",
          "data": {
            "text/plain": [
              "GridSearchCV(cv=5, estimator=RandomForestClassifier(),\n",
              "             param_grid={'max_depth': [4, 6, 8], 'min_samples_leaf': [40, 60],\n",
              "                         'min_samples_split': [50, 100, 150],\n",
              "                         'n_estimators': [50, 80, 100]},\n",
              "             scoring='roc_auc', verbose=2)"
            ]
          },
          "metadata": {},
          "execution_count": 46
        }
      ]
    },
    {
      "cell_type": "code",
      "source": [
        "#Printing the score on trained model on roc_auc\n",
        "print('Train ROC_AUC score :', rf_gridsearch.best_estimator_.score(xtrain, ytrain))\n",
        "print('Test ROC_AUC score :', rf_gridsearch.best_estimator_.score(xtest,ytest))"
      ],
      "metadata": {
        "id": "XENvZBMolDNj",
        "outputId": "e2b902bd-f54c-4e86-8191-601d64507dcf",
        "colab": {
          "base_uri": "https://localhost:8080/"
        }
      },
      "execution_count": 47,
      "outputs": [
        {
          "output_type": "stream",
          "name": "stdout",
          "text": [
            "Train ROC_AUC score : 0.8109001347254968\n",
            "Test ROC_AUC score : 0.810979203502568\n"
          ]
        }
      ]
    },
    {
      "cell_type": "code",
      "source": [
        "#Hyper tuning the model with randomsearch on random forest\n",
        "rf_randomsearch = RandomizedSearchCV(estimator=rf,\n",
        "                                     param_distributions= param_dict_rf,\n",
        "                                     cv = 5, verbose=2, scoring='roc_auc')\n",
        "\n",
        "#Initializing the defined random forest model\n",
        "rf_randomsearch.fit(xtrain,ytrain)"
      ],
      "metadata": {
        "id": "iVgJ4U_ooP-3",
        "outputId": "77bd5f15-cac8-4115-ef61-8651409e98e2",
        "colab": {
          "base_uri": "https://localhost:8080/"
        }
      },
      "execution_count": 52,
      "outputs": [
        {
          "output_type": "stream",
          "name": "stdout",
          "text": [
            "Fitting 5 folds for each of 10 candidates, totalling 50 fits\n",
            "[CV] END max_depth=4, min_samples_leaf=40, min_samples_split=50, n_estimators=50; total time=   1.4s\n",
            "[CV] END max_depth=4, min_samples_leaf=40, min_samples_split=50, n_estimators=50; total time=   1.9s\n",
            "[CV] END max_depth=4, min_samples_leaf=40, min_samples_split=50, n_estimators=50; total time=   1.4s\n",
            "[CV] END max_depth=4, min_samples_leaf=40, min_samples_split=50, n_estimators=50; total time=   1.4s\n",
            "[CV] END max_depth=4, min_samples_leaf=40, min_samples_split=50, n_estimators=50; total time=   0.9s\n",
            "[CV] END max_depth=6, min_samples_leaf=40, min_samples_split=50, n_estimators=50; total time=   1.2s\n",
            "[CV] END max_depth=6, min_samples_leaf=40, min_samples_split=50, n_estimators=50; total time=   1.1s\n",
            "[CV] END max_depth=6, min_samples_leaf=40, min_samples_split=50, n_estimators=50; total time=   1.4s\n",
            "[CV] END max_depth=6, min_samples_leaf=40, min_samples_split=50, n_estimators=50; total time=   1.8s\n",
            "[CV] END max_depth=6, min_samples_leaf=40, min_samples_split=50, n_estimators=50; total time=   1.1s\n",
            "[CV] END max_depth=4, min_samples_leaf=60, min_samples_split=150, n_estimators=100; total time=   1.7s\n",
            "[CV] END max_depth=4, min_samples_leaf=60, min_samples_split=150, n_estimators=100; total time=   1.7s\n",
            "[CV] END max_depth=4, min_samples_leaf=60, min_samples_split=150, n_estimators=100; total time=   1.7s\n",
            "[CV] END max_depth=4, min_samples_leaf=60, min_samples_split=150, n_estimators=100; total time=   2.1s\n",
            "[CV] END max_depth=4, min_samples_leaf=60, min_samples_split=150, n_estimators=100; total time=   2.0s\n",
            "[CV] END max_depth=6, min_samples_leaf=60, min_samples_split=100, n_estimators=100; total time=   2.7s\n",
            "[CV] END max_depth=6, min_samples_leaf=60, min_samples_split=100, n_estimators=100; total time=   3.9s\n",
            "[CV] END max_depth=6, min_samples_leaf=60, min_samples_split=100, n_estimators=100; total time=   3.0s\n",
            "[CV] END max_depth=6, min_samples_leaf=60, min_samples_split=100, n_estimators=100; total time=   2.9s\n",
            "[CV] END max_depth=6, min_samples_leaf=60, min_samples_split=100, n_estimators=100; total time=   2.9s\n",
            "[CV] END max_depth=8, min_samples_leaf=40, min_samples_split=100, n_estimators=80; total time=   3.1s\n",
            "[CV] END max_depth=8, min_samples_leaf=40, min_samples_split=100, n_estimators=80; total time=   3.5s\n",
            "[CV] END max_depth=8, min_samples_leaf=40, min_samples_split=100, n_estimators=80; total time=   3.2s\n",
            "[CV] END max_depth=8, min_samples_leaf=40, min_samples_split=100, n_estimators=80; total time=   3.0s\n",
            "[CV] END max_depth=8, min_samples_leaf=40, min_samples_split=100, n_estimators=80; total time=   2.2s\n",
            "[CV] END max_depth=6, min_samples_leaf=60, min_samples_split=100, n_estimators=50; total time=   1.1s\n",
            "[CV] END max_depth=6, min_samples_leaf=60, min_samples_split=100, n_estimators=50; total time=   1.2s\n",
            "[CV] END max_depth=6, min_samples_leaf=60, min_samples_split=100, n_estimators=50; total time=   1.2s\n",
            "[CV] END max_depth=6, min_samples_leaf=60, min_samples_split=100, n_estimators=50; total time=   1.9s\n",
            "[CV] END max_depth=6, min_samples_leaf=60, min_samples_split=100, n_estimators=50; total time=   1.4s\n",
            "[CV] END max_depth=4, min_samples_leaf=60, min_samples_split=50, n_estimators=80; total time=   1.3s\n",
            "[CV] END max_depth=4, min_samples_leaf=60, min_samples_split=50, n_estimators=80; total time=   1.4s\n",
            "[CV] END max_depth=4, min_samples_leaf=60, min_samples_split=50, n_estimators=80; total time=   1.4s\n",
            "[CV] END max_depth=4, min_samples_leaf=60, min_samples_split=50, n_estimators=80; total time=   1.4s\n",
            "[CV] END max_depth=4, min_samples_leaf=60, min_samples_split=50, n_estimators=80; total time=   2.1s\n",
            "[CV] END max_depth=6, min_samples_leaf=40, min_samples_split=150, n_estimators=80; total time=   1.8s\n",
            "[CV] END max_depth=6, min_samples_leaf=40, min_samples_split=150, n_estimators=80; total time=   1.8s\n",
            "[CV] END max_depth=6, min_samples_leaf=40, min_samples_split=150, n_estimators=80; total time=   1.9s\n",
            "[CV] END max_depth=6, min_samples_leaf=40, min_samples_split=150, n_estimators=80; total time=   1.9s\n",
            "[CV] END max_depth=6, min_samples_leaf=40, min_samples_split=150, n_estimators=80; total time=   1.9s\n",
            "[CV] END max_depth=6, min_samples_leaf=60, min_samples_split=50, n_estimators=100; total time=   2.3s\n",
            "[CV] END max_depth=6, min_samples_leaf=60, min_samples_split=50, n_estimators=100; total time=   2.3s\n",
            "[CV] END max_depth=6, min_samples_leaf=60, min_samples_split=50, n_estimators=100; total time=   2.3s\n",
            "[CV] END max_depth=6, min_samples_leaf=60, min_samples_split=50, n_estimators=100; total time=   2.3s\n",
            "[CV] END max_depth=6, min_samples_leaf=60, min_samples_split=50, n_estimators=100; total time=   2.3s\n",
            "[CV] END max_depth=6, min_samples_leaf=40, min_samples_split=150, n_estimators=100; total time=   2.3s\n",
            "[CV] END max_depth=6, min_samples_leaf=40, min_samples_split=150, n_estimators=100; total time=   2.4s\n",
            "[CV] END max_depth=6, min_samples_leaf=40, min_samples_split=150, n_estimators=100; total time=   2.3s\n",
            "[CV] END max_depth=6, min_samples_leaf=40, min_samples_split=150, n_estimators=100; total time=   2.3s\n",
            "[CV] END max_depth=6, min_samples_leaf=40, min_samples_split=150, n_estimators=100; total time=   2.3s\n"
          ]
        },
        {
          "output_type": "execute_result",
          "data": {
            "text/plain": [
              "RandomizedSearchCV(cv=5, estimator=RandomForestClassifier(),\n",
              "                   param_distributions={'max_depth': [4, 6, 8],\n",
              "                                        'min_samples_leaf': [40, 60],\n",
              "                                        'min_samples_split': [50, 100, 150],\n",
              "                                        'n_estimators': [50, 80, 100]},\n",
              "                   scoring='roc_auc', verbose=2)"
            ]
          },
          "metadata": {},
          "execution_count": 52
        }
      ]
    },
    {
      "cell_type": "code",
      "source": [
        "print('Train ROC_AUC score :',rf_randomsearch.best_estimator_.score(xtrain,ytrain))\n",
        "print('Test ROC_AUC score :', rf_randomsearch.best_estimator_.score(xtest, ytest))"
      ],
      "metadata": {
        "id": "p_S2ragWsAPQ",
        "outputId": "13550413-55e0-4dc2-b002-d79473c9f5bd",
        "colab": {
          "base_uri": "https://localhost:8080/"
        }
      },
      "execution_count": 53,
      "outputs": [
        {
          "output_type": "stream",
          "name": "stdout",
          "text": [
            "Train ROC_AUC score : 0.8076162007409903\n",
            "Test ROC_AUC score : 0.8082849204344531\n"
          ]
        }
      ]
    },
    {
      "cell_type": "code",
      "source": [
        "#Initializing GridsearchCV with XGBoosting\n",
        "xgb_gridsearch = GridSearchCV(estimator=xg,\n",
        "                              param_grid=param_dict_xgb,\n",
        "                              cv=5, verbose=2, scoring='roc_auc')\n",
        "\n",
        "#Implimenting train dataset with gridsearch xgboost\n",
        "xgb_gridsearch.fit(xtrain,ytrain)"
      ],
      "metadata": {
        "id": "Tf1dldBetpRj",
        "outputId": "ceba4c3c-6ea4-43f9-f0aa-c0e75df2f2c0",
        "colab": {
          "base_uri": "https://localhost:8080/"
        }
      },
      "execution_count": 61,
      "outputs": [
        {
          "output_type": "stream",
          "name": "stdout",
          "text": [
            "Fitting 5 folds for each of 48 candidates, totalling 240 fits\n",
            "[CV] END ....learning_rate=0.1, max_depth=2, n_estimators=60; total time=   7.2s\n",
            "[CV] END ....learning_rate=0.1, max_depth=2, n_estimators=60; total time=   5.1s\n",
            "[CV] END ....learning_rate=0.1, max_depth=2, n_estimators=60; total time=   5.0s\n",
            "[CV] END ....learning_rate=0.1, max_depth=2, n_estimators=60; total time=   6.8s\n",
            "[CV] END ....learning_rate=0.1, max_depth=2, n_estimators=60; total time=   7.4s\n",
            "[CV] END ...learning_rate=0.1, max_depth=2, n_estimators=100; total time=  10.0s\n",
            "[CV] END ...learning_rate=0.1, max_depth=2, n_estimators=100; total time=   9.8s\n",
            "[CV] END ...learning_rate=0.1, max_depth=2, n_estimators=100; total time=   7.5s\n",
            "[CV] END ...learning_rate=0.1, max_depth=2, n_estimators=100; total time=   7.5s\n",
            "[CV] END ...learning_rate=0.1, max_depth=2, n_estimators=100; total time=   7.4s\n",
            "[CV] END ...learning_rate=0.1, max_depth=2, n_estimators=140; total time=  10.3s\n",
            "[CV] END ...learning_rate=0.1, max_depth=2, n_estimators=140; total time=  10.7s\n",
            "[CV] END ...learning_rate=0.1, max_depth=2, n_estimators=140; total time=  10.4s\n",
            "[CV] END ...learning_rate=0.1, max_depth=2, n_estimators=140; total time=  10.4s\n",
            "[CV] END ...learning_rate=0.1, max_depth=2, n_estimators=140; total time=  10.3s\n",
            "[CV] END ...learning_rate=0.1, max_depth=2, n_estimators=180; total time=  13.3s\n",
            "[CV] END ...learning_rate=0.1, max_depth=2, n_estimators=180; total time=  13.4s\n",
            "[CV] END ...learning_rate=0.1, max_depth=2, n_estimators=180; total time=  16.9s\n",
            "[CV] END ...learning_rate=0.1, max_depth=2, n_estimators=180; total time=  20.2s\n",
            "[CV] END ...learning_rate=0.1, max_depth=2, n_estimators=180; total time=  20.1s\n",
            "[CV] END ...learning_rate=0.1, max_depth=10, n_estimators=60; total time=  31.5s\n",
            "[CV] END ...learning_rate=0.1, max_depth=10, n_estimators=60; total time=  31.2s\n",
            "[CV] END ...learning_rate=0.1, max_depth=10, n_estimators=60; total time=  28.5s\n",
            "[CV] END ...learning_rate=0.1, max_depth=10, n_estimators=60; total time=  26.3s\n",
            "[CV] END ...learning_rate=0.1, max_depth=10, n_estimators=60; total time=  23.4s\n",
            "[CV] END ..learning_rate=0.1, max_depth=10, n_estimators=100; total time=  35.7s\n",
            "[CV] END ..learning_rate=0.1, max_depth=10, n_estimators=100; total time=  35.6s\n",
            "[CV] END ..learning_rate=0.1, max_depth=10, n_estimators=100; total time=  38.9s\n",
            "[CV] END ..learning_rate=0.1, max_depth=10, n_estimators=100; total time=  48.9s\n",
            "[CV] END ..learning_rate=0.1, max_depth=10, n_estimators=100; total time=  50.1s\n",
            "[CV] END ..learning_rate=0.1, max_depth=10, n_estimators=140; total time= 1.0min\n",
            "[CV] END ..learning_rate=0.1, max_depth=10, n_estimators=140; total time= 1.1min\n",
            "[CV] END ..learning_rate=0.1, max_depth=10, n_estimators=140; total time= 1.1min\n",
            "[CV] END ..learning_rate=0.1, max_depth=10, n_estimators=140; total time= 1.2min\n",
            "[CV] END ..learning_rate=0.1, max_depth=10, n_estimators=140; total time= 1.0min\n",
            "[CV] END ..learning_rate=0.1, max_depth=10, n_estimators=180; total time= 1.0min\n",
            "[CV] END ..learning_rate=0.1, max_depth=10, n_estimators=180; total time= 1.0min\n",
            "[CV] END ..learning_rate=0.1, max_depth=10, n_estimators=180; total time= 1.0min\n",
            "[CV] END ..learning_rate=0.1, max_depth=10, n_estimators=180; total time= 1.0min\n",
            "[CV] END ..learning_rate=0.1, max_depth=10, n_estimators=180; total time= 1.0min\n",
            "[CV] END ....learning_rate=0.1, max_depth=1, n_estimators=60; total time=   3.1s\n",
            "[CV] END ....learning_rate=0.1, max_depth=1, n_estimators=60; total time=   3.1s\n",
            "[CV] END ....learning_rate=0.1, max_depth=1, n_estimators=60; total time=   3.1s\n",
            "[CV] END ....learning_rate=0.1, max_depth=1, n_estimators=60; total time=   3.1s\n",
            "[CV] END ....learning_rate=0.1, max_depth=1, n_estimators=60; total time=   3.1s\n",
            "[CV] END ...learning_rate=0.1, max_depth=1, n_estimators=100; total time=   4.9s\n",
            "[CV] END ...learning_rate=0.1, max_depth=1, n_estimators=100; total time=   4.9s\n",
            "[CV] END ...learning_rate=0.1, max_depth=1, n_estimators=100; total time=   4.9s\n",
            "[CV] END ...learning_rate=0.1, max_depth=1, n_estimators=100; total time=   4.9s\n",
            "[CV] END ...learning_rate=0.1, max_depth=1, n_estimators=100; total time=   4.9s\n",
            "[CV] END ...learning_rate=0.1, max_depth=1, n_estimators=140; total time=   6.6s\n",
            "[CV] END ...learning_rate=0.1, max_depth=1, n_estimators=140; total time=   6.7s\n",
            "[CV] END ...learning_rate=0.1, max_depth=1, n_estimators=140; total time=   6.6s\n",
            "[CV] END ...learning_rate=0.1, max_depth=1, n_estimators=140; total time=   6.6s\n",
            "[CV] END ...learning_rate=0.1, max_depth=1, n_estimators=140; total time=   6.6s\n",
            "[CV] END ...learning_rate=0.1, max_depth=1, n_estimators=180; total time=   8.5s\n",
            "[CV] END ...learning_rate=0.1, max_depth=1, n_estimators=180; total time=   8.5s\n",
            "[CV] END ...learning_rate=0.1, max_depth=1, n_estimators=180; total time=   8.4s\n",
            "[CV] END ...learning_rate=0.1, max_depth=1, n_estimators=180; total time=   8.5s\n",
            "[CV] END ...learning_rate=0.1, max_depth=1, n_estimators=180; total time=   8.5s\n",
            "[CV] END ...learning_rate=0.05, max_depth=2, n_estimators=60; total time=   4.6s\n",
            "[CV] END ...learning_rate=0.05, max_depth=2, n_estimators=60; total time=   4.7s\n",
            "[CV] END ...learning_rate=0.05, max_depth=2, n_estimators=60; total time=   4.6s\n",
            "[CV] END ...learning_rate=0.05, max_depth=2, n_estimators=60; total time=   4.7s\n",
            "[CV] END ...learning_rate=0.05, max_depth=2, n_estimators=60; total time=   4.6s\n",
            "[CV] END ..learning_rate=0.05, max_depth=2, n_estimators=100; total time=   7.5s\n",
            "[CV] END ..learning_rate=0.05, max_depth=2, n_estimators=100; total time=   7.5s\n",
            "[CV] END ..learning_rate=0.05, max_depth=2, n_estimators=100; total time=   7.5s\n",
            "[CV] END ..learning_rate=0.05, max_depth=2, n_estimators=100; total time=   7.5s\n",
            "[CV] END ..learning_rate=0.05, max_depth=2, n_estimators=100; total time=   7.5s\n",
            "[CV] END ..learning_rate=0.05, max_depth=2, n_estimators=140; total time=  10.2s\n",
            "[CV] END ..learning_rate=0.05, max_depth=2, n_estimators=140; total time=  10.2s\n",
            "[CV] END ..learning_rate=0.05, max_depth=2, n_estimators=140; total time=  10.3s\n",
            "[CV] END ..learning_rate=0.05, max_depth=2, n_estimators=140; total time=  10.2s\n",
            "[CV] END ..learning_rate=0.05, max_depth=2, n_estimators=140; total time=  10.2s\n",
            "[CV] END ..learning_rate=0.05, max_depth=2, n_estimators=180; total time=  13.1s\n",
            "[CV] END ..learning_rate=0.05, max_depth=2, n_estimators=180; total time=  13.1s\n",
            "[CV] END ..learning_rate=0.05, max_depth=2, n_estimators=180; total time=  13.1s\n",
            "[CV] END ..learning_rate=0.05, max_depth=2, n_estimators=180; total time=  13.1s\n",
            "[CV] END ..learning_rate=0.05, max_depth=2, n_estimators=180; total time=  13.1s\n",
            "[CV] END ..learning_rate=0.05, max_depth=10, n_estimators=60; total time=  23.3s\n",
            "[CV] END ..learning_rate=0.05, max_depth=10, n_estimators=60; total time=  23.3s\n",
            "[CV] END ..learning_rate=0.05, max_depth=10, n_estimators=60; total time=  23.1s\n",
            "[CV] END ..learning_rate=0.05, max_depth=10, n_estimators=60; total time=  23.2s\n",
            "[CV] END ..learning_rate=0.05, max_depth=10, n_estimators=60; total time=  23.2s\n",
            "[CV] END .learning_rate=0.05, max_depth=10, n_estimators=100; total time=  37.4s\n",
            "[CV] END .learning_rate=0.05, max_depth=10, n_estimators=100; total time=  37.6s\n",
            "[CV] END .learning_rate=0.05, max_depth=10, n_estimators=100; total time=  37.2s\n",
            "[CV] END .learning_rate=0.05, max_depth=10, n_estimators=100; total time=  37.4s\n",
            "[CV] END .learning_rate=0.05, max_depth=10, n_estimators=100; total time=  37.3s\n",
            "[CV] END .learning_rate=0.05, max_depth=10, n_estimators=140; total time=  51.1s\n",
            "[CV] END .learning_rate=0.05, max_depth=10, n_estimators=140; total time=  50.9s\n",
            "[CV] END .learning_rate=0.05, max_depth=10, n_estimators=140; total time=  50.5s\n",
            "[CV] END .learning_rate=0.05, max_depth=10, n_estimators=140; total time=  50.8s\n",
            "[CV] END .learning_rate=0.05, max_depth=10, n_estimators=140; total time=  50.6s\n",
            "[CV] END .learning_rate=0.05, max_depth=10, n_estimators=180; total time= 1.1min\n",
            "[CV] END .learning_rate=0.05, max_depth=10, n_estimators=180; total time= 1.1min\n",
            "[CV] END .learning_rate=0.05, max_depth=10, n_estimators=180; total time= 1.1min\n",
            "[CV] END .learning_rate=0.05, max_depth=10, n_estimators=180; total time= 1.1min\n",
            "[CV] END .learning_rate=0.05, max_depth=10, n_estimators=180; total time= 1.1min\n",
            "[CV] END ...learning_rate=0.05, max_depth=1, n_estimators=60; total time=   3.1s\n",
            "[CV] END ...learning_rate=0.05, max_depth=1, n_estimators=60; total time=   3.1s\n",
            "[CV] END ...learning_rate=0.05, max_depth=1, n_estimators=60; total time=   3.1s\n",
            "[CV] END ...learning_rate=0.05, max_depth=1, n_estimators=60; total time=   3.1s\n",
            "[CV] END ...learning_rate=0.05, max_depth=1, n_estimators=60; total time=   3.1s\n",
            "[CV] END ..learning_rate=0.05, max_depth=1, n_estimators=100; total time=   4.9s\n",
            "[CV] END ..learning_rate=0.05, max_depth=1, n_estimators=100; total time=   4.9s\n",
            "[CV] END ..learning_rate=0.05, max_depth=1, n_estimators=100; total time=   4.9s\n",
            "[CV] END ..learning_rate=0.05, max_depth=1, n_estimators=100; total time=   4.9s\n",
            "[CV] END ..learning_rate=0.05, max_depth=1, n_estimators=100; total time=   4.8s\n",
            "[CV] END ..learning_rate=0.05, max_depth=1, n_estimators=140; total time=   6.6s\n",
            "[CV] END ..learning_rate=0.05, max_depth=1, n_estimators=140; total time=   6.6s\n",
            "[CV] END ..learning_rate=0.05, max_depth=1, n_estimators=140; total time=   6.7s\n",
            "[CV] END ..learning_rate=0.05, max_depth=1, n_estimators=140; total time=   6.7s\n",
            "[CV] END ..learning_rate=0.05, max_depth=1, n_estimators=140; total time=   6.6s\n",
            "[CV] END ..learning_rate=0.05, max_depth=1, n_estimators=180; total time=   8.4s\n",
            "[CV] END ..learning_rate=0.05, max_depth=1, n_estimators=180; total time=   8.4s\n",
            "[CV] END ..learning_rate=0.05, max_depth=1, n_estimators=180; total time=   8.4s\n",
            "[CV] END ..learning_rate=0.05, max_depth=1, n_estimators=180; total time=   8.4s\n",
            "[CV] END ..learning_rate=0.05, max_depth=1, n_estimators=180; total time=   8.4s\n",
            "[CV] END ..learning_rate=0.005, max_depth=2, n_estimators=60; total time=   4.6s\n",
            "[CV] END ..learning_rate=0.005, max_depth=2, n_estimators=60; total time=   4.6s\n",
            "[CV] END ..learning_rate=0.005, max_depth=2, n_estimators=60; total time=   4.6s\n",
            "[CV] END ..learning_rate=0.005, max_depth=2, n_estimators=60; total time=   4.6s\n",
            "[CV] END ..learning_rate=0.005, max_depth=2, n_estimators=60; total time=   4.6s\n",
            "[CV] END .learning_rate=0.005, max_depth=2, n_estimators=100; total time=   7.4s\n",
            "[CV] END .learning_rate=0.005, max_depth=2, n_estimators=100; total time=   7.5s\n",
            "[CV] END .learning_rate=0.005, max_depth=2, n_estimators=100; total time=   7.4s\n",
            "[CV] END .learning_rate=0.005, max_depth=2, n_estimators=100; total time=   7.4s\n",
            "[CV] END .learning_rate=0.005, max_depth=2, n_estimators=100; total time=   7.4s\n",
            "[CV] END .learning_rate=0.005, max_depth=2, n_estimators=140; total time=  10.2s\n",
            "[CV] END .learning_rate=0.005, max_depth=2, n_estimators=140; total time=  10.2s\n",
            "[CV] END .learning_rate=0.005, max_depth=2, n_estimators=140; total time=  10.2s\n",
            "[CV] END .learning_rate=0.005, max_depth=2, n_estimators=140; total time=  10.2s\n",
            "[CV] END .learning_rate=0.005, max_depth=2, n_estimators=140; total time=  10.2s\n",
            "[CV] END .learning_rate=0.005, max_depth=2, n_estimators=180; total time=  13.0s\n",
            "[CV] END .learning_rate=0.005, max_depth=2, n_estimators=180; total time=  13.0s\n",
            "[CV] END .learning_rate=0.005, max_depth=2, n_estimators=180; total time=  13.0s\n",
            "[CV] END .learning_rate=0.005, max_depth=2, n_estimators=180; total time=  13.0s\n",
            "[CV] END .learning_rate=0.005, max_depth=2, n_estimators=180; total time=  13.0s\n",
            "[CV] END .learning_rate=0.005, max_depth=10, n_estimators=60; total time=  23.9s\n",
            "[CV] END .learning_rate=0.005, max_depth=10, n_estimators=60; total time=  24.6s\n",
            "[CV] END .learning_rate=0.005, max_depth=10, n_estimators=60; total time=  24.1s\n",
            "[CV] END .learning_rate=0.005, max_depth=10, n_estimators=60; total time=  24.3s\n",
            "[CV] END .learning_rate=0.005, max_depth=10, n_estimators=60; total time=  24.1s\n",
            "[CV] END learning_rate=0.005, max_depth=10, n_estimators=100; total time=  39.4s\n",
            "[CV] END learning_rate=0.005, max_depth=10, n_estimators=100; total time=  40.3s\n",
            "[CV] END learning_rate=0.005, max_depth=10, n_estimators=100; total time=  39.8s\n",
            "[CV] END learning_rate=0.005, max_depth=10, n_estimators=100; total time=  39.7s\n",
            "[CV] END learning_rate=0.005, max_depth=10, n_estimators=100; total time=  39.5s\n",
            "[CV] END learning_rate=0.005, max_depth=10, n_estimators=140; total time=  55.3s\n",
            "[CV] END learning_rate=0.005, max_depth=10, n_estimators=140; total time=  55.7s\n",
            "[CV] END learning_rate=0.005, max_depth=10, n_estimators=140; total time=  55.6s\n",
            "[CV] END learning_rate=0.005, max_depth=10, n_estimators=140; total time=  55.2s\n",
            "[CV] END learning_rate=0.005, max_depth=10, n_estimators=140; total time=  55.1s\n",
            "[CV] END learning_rate=0.005, max_depth=10, n_estimators=180; total time= 1.2min\n",
            "[CV] END learning_rate=0.005, max_depth=10, n_estimators=180; total time= 1.2min\n",
            "[CV] END learning_rate=0.005, max_depth=10, n_estimators=180; total time= 1.2min\n",
            "[CV] END learning_rate=0.005, max_depth=10, n_estimators=180; total time= 1.2min\n",
            "[CV] END learning_rate=0.005, max_depth=10, n_estimators=180; total time= 1.2min\n",
            "[CV] END ..learning_rate=0.005, max_depth=1, n_estimators=60; total time=   3.1s\n",
            "[CV] END ..learning_rate=0.005, max_depth=1, n_estimators=60; total time=   3.1s\n",
            "[CV] END ..learning_rate=0.005, max_depth=1, n_estimators=60; total time=   3.1s\n",
            "[CV] END ..learning_rate=0.005, max_depth=1, n_estimators=60; total time=   3.1s\n",
            "[CV] END ..learning_rate=0.005, max_depth=1, n_estimators=60; total time=   3.1s\n",
            "[CV] END .learning_rate=0.005, max_depth=1, n_estimators=100; total time=   4.9s\n",
            "[CV] END .learning_rate=0.005, max_depth=1, n_estimators=100; total time=   4.9s\n",
            "[CV] END .learning_rate=0.005, max_depth=1, n_estimators=100; total time=   4.9s\n",
            "[CV] END .learning_rate=0.005, max_depth=1, n_estimators=100; total time=   4.8s\n",
            "[CV] END .learning_rate=0.005, max_depth=1, n_estimators=100; total time=   4.8s\n",
            "[CV] END .learning_rate=0.005, max_depth=1, n_estimators=140; total time=   6.6s\n",
            "[CV] END .learning_rate=0.005, max_depth=1, n_estimators=140; total time=   6.6s\n",
            "[CV] END .learning_rate=0.005, max_depth=1, n_estimators=140; total time=   6.6s\n",
            "[CV] END .learning_rate=0.005, max_depth=1, n_estimators=140; total time=   6.6s\n",
            "[CV] END .learning_rate=0.005, max_depth=1, n_estimators=140; total time=   6.6s\n",
            "[CV] END .learning_rate=0.005, max_depth=1, n_estimators=180; total time=   8.4s\n",
            "[CV] END .learning_rate=0.005, max_depth=1, n_estimators=180; total time=   8.4s\n",
            "[CV] END .learning_rate=0.005, max_depth=1, n_estimators=180; total time=   8.4s\n",
            "[CV] END .learning_rate=0.005, max_depth=1, n_estimators=180; total time=   8.4s\n",
            "[CV] END .learning_rate=0.005, max_depth=1, n_estimators=180; total time=   8.4s\n",
            "[CV] END .learning_rate=0.0005, max_depth=2, n_estimators=60; total time=   4.6s\n",
            "[CV] END .learning_rate=0.0005, max_depth=2, n_estimators=60; total time=   4.6s\n",
            "[CV] END .learning_rate=0.0005, max_depth=2, n_estimators=60; total time=   4.6s\n",
            "[CV] END .learning_rate=0.0005, max_depth=2, n_estimators=60; total time=   4.6s\n",
            "[CV] END .learning_rate=0.0005, max_depth=2, n_estimators=60; total time=   4.6s\n",
            "[CV] END learning_rate=0.0005, max_depth=2, n_estimators=100; total time=   7.4s\n",
            "[CV] END learning_rate=0.0005, max_depth=2, n_estimators=100; total time=   7.4s\n",
            "[CV] END learning_rate=0.0005, max_depth=2, n_estimators=100; total time=   7.4s\n",
            "[CV] END learning_rate=0.0005, max_depth=2, n_estimators=100; total time=   7.4s\n",
            "[CV] END learning_rate=0.0005, max_depth=2, n_estimators=100; total time=   7.4s\n",
            "[CV] END learning_rate=0.0005, max_depth=2, n_estimators=140; total time=  10.2s\n",
            "[CV] END learning_rate=0.0005, max_depth=2, n_estimators=140; total time=  10.2s\n",
            "[CV] END learning_rate=0.0005, max_depth=2, n_estimators=140; total time=  10.2s\n",
            "[CV] END learning_rate=0.0005, max_depth=2, n_estimators=140; total time=  10.2s\n",
            "[CV] END learning_rate=0.0005, max_depth=2, n_estimators=140; total time=  10.2s\n",
            "[CV] END learning_rate=0.0005, max_depth=2, n_estimators=180; total time=  13.0s\n",
            "[CV] END learning_rate=0.0005, max_depth=2, n_estimators=180; total time=  13.0s\n",
            "[CV] END learning_rate=0.0005, max_depth=2, n_estimators=180; total time=  13.0s\n",
            "[CV] END learning_rate=0.0005, max_depth=2, n_estimators=180; total time=  13.0s\n",
            "[CV] END learning_rate=0.0005, max_depth=2, n_estimators=180; total time=  12.9s\n",
            "[CV] END learning_rate=0.0005, max_depth=10, n_estimators=60; total time=  24.4s\n",
            "[CV] END learning_rate=0.0005, max_depth=10, n_estimators=60; total time=  24.9s\n",
            "[CV] END learning_rate=0.0005, max_depth=10, n_estimators=60; total time=  24.8s\n",
            "[CV] END learning_rate=0.0005, max_depth=10, n_estimators=60; total time=  24.5s\n",
            "[CV] END learning_rate=0.0005, max_depth=10, n_estimators=60; total time=  24.4s\n",
            "[CV] END learning_rate=0.0005, max_depth=10, n_estimators=100; total time=  40.5s\n",
            "[CV] END learning_rate=0.0005, max_depth=10, n_estimators=100; total time=  41.1s\n",
            "[CV] END learning_rate=0.0005, max_depth=10, n_estimators=100; total time=  41.0s\n",
            "[CV] END learning_rate=0.0005, max_depth=10, n_estimators=100; total time=  40.7s\n",
            "[CV] END learning_rate=0.0005, max_depth=10, n_estimators=100; total time=  40.5s\n",
            "[CV] END learning_rate=0.0005, max_depth=10, n_estimators=140; total time=  56.5s\n",
            "[CV] END learning_rate=0.0005, max_depth=10, n_estimators=140; total time=  57.3s\n",
            "[CV] END learning_rate=0.0005, max_depth=10, n_estimators=140; total time=  57.1s\n",
            "[CV] END learning_rate=0.0005, max_depth=10, n_estimators=140; total time=  56.8s\n",
            "[CV] END learning_rate=0.0005, max_depth=10, n_estimators=140; total time=  56.4s\n",
            "[CV] END learning_rate=0.0005, max_depth=10, n_estimators=180; total time= 1.2min\n",
            "[CV] END learning_rate=0.0005, max_depth=10, n_estimators=180; total time= 1.2min\n",
            "[CV] END learning_rate=0.0005, max_depth=10, n_estimators=180; total time= 1.2min\n",
            "[CV] END learning_rate=0.0005, max_depth=10, n_estimators=180; total time= 1.2min\n",
            "[CV] END learning_rate=0.0005, max_depth=10, n_estimators=180; total time= 1.2min\n",
            "[CV] END .learning_rate=0.0005, max_depth=1, n_estimators=60; total time=   3.1s\n",
            "[CV] END .learning_rate=0.0005, max_depth=1, n_estimators=60; total time=   3.1s\n",
            "[CV] END .learning_rate=0.0005, max_depth=1, n_estimators=60; total time=   3.1s\n",
            "[CV] END .learning_rate=0.0005, max_depth=1, n_estimators=60; total time=   3.1s\n",
            "[CV] END .learning_rate=0.0005, max_depth=1, n_estimators=60; total time=   3.1s\n",
            "[CV] END learning_rate=0.0005, max_depth=1, n_estimators=100; total time=   4.9s\n",
            "[CV] END learning_rate=0.0005, max_depth=1, n_estimators=100; total time=   4.9s\n",
            "[CV] END learning_rate=0.0005, max_depth=1, n_estimators=100; total time=   4.9s\n",
            "[CV] END learning_rate=0.0005, max_depth=1, n_estimators=100; total time=   4.9s\n",
            "[CV] END learning_rate=0.0005, max_depth=1, n_estimators=100; total time=   4.8s\n",
            "[CV] END learning_rate=0.0005, max_depth=1, n_estimators=140; total time=   6.7s\n",
            "[CV] END learning_rate=0.0005, max_depth=1, n_estimators=140; total time=   6.7s\n",
            "[CV] END learning_rate=0.0005, max_depth=1, n_estimators=140; total time=   6.6s\n",
            "[CV] END learning_rate=0.0005, max_depth=1, n_estimators=140; total time=   6.6s\n",
            "[CV] END learning_rate=0.0005, max_depth=1, n_estimators=140; total time=   6.7s\n",
            "[CV] END learning_rate=0.0005, max_depth=1, n_estimators=180; total time=   8.4s\n",
            "[CV] END learning_rate=0.0005, max_depth=1, n_estimators=180; total time=   8.4s\n",
            "[CV] END learning_rate=0.0005, max_depth=1, n_estimators=180; total time=   8.4s\n",
            "[CV] END learning_rate=0.0005, max_depth=1, n_estimators=180; total time=   8.4s\n",
            "[CV] END learning_rate=0.0005, max_depth=1, n_estimators=180; total time=   8.4s\n"
          ]
        },
        {
          "output_type": "execute_result",
          "data": {
            "text/plain": [
              "GridSearchCV(cv=5, estimator=XGBClassifier(),\n",
              "             param_grid={'learning_rate': [0.1, 0.05, 0.005, 0.0005],\n",
              "                         'max_depth': [2, 10, 1],\n",
              "                         'n_estimators': range(60, 220, 40)},\n",
              "             scoring='roc_auc', verbose=2)"
            ]
          },
          "metadata": {},
          "execution_count": 61
        }
      ]
    },
    {
      "cell_type": "code",
      "source": [
        "print('Train ROC_AUC score :', xgb_gridsearch.best_estimator_.score(xtrain,ytrain))\n",
        "print('Test ROC_AUC score :', xgb_gridsearch.best_estimator_.score(xtest,ytest))"
      ],
      "metadata": {
        "id": "qluMpe8i3TpK",
        "outputId": "b9bfdd39-b429-414b-dc4a-c59b34894dda",
        "colab": {
          "base_uri": "https://localhost:8080/"
        }
      },
      "execution_count": 62,
      "outputs": [
        {
          "output_type": "stream",
          "name": "stdout",
          "text": [
            "Train ROC_AUC score : 0.8841781744695184\n",
            "Test ROC_AUC score : 0.8343857876568157\n"
          ]
        }
      ]
    },
    {
      "cell_type": "code",
      "source": [
        "#Initializing the randomsearch with XGBoost\n",
        "xgb_randomsearch = RandomizedSearchCV(estimator=xg,\n",
        "                                      param_distributions=param_dict_xgb,\n",
        "                                      cv=5, verbose=2, scoring='roc_auc') \n",
        "\n",
        "#Implimenting the defined randomsearch with XGBoost\n",
        "xgb_randomsearch.fit(xtrain,ytrain)"
      ],
      "metadata": {
        "id": "CCXsxzbK4jTB",
        "outputId": "d983b24f-f253-4964-9a32-40e0d3a74dc4",
        "colab": {
          "base_uri": "https://localhost:8080/",
          "height": 236
        }
      },
      "execution_count": 1,
      "outputs": [
        {
          "output_type": "error",
          "ename": "NameError",
          "evalue": "ignored",
          "traceback": [
            "\u001b[0;31m---------------------------------------------------------------------------\u001b[0m",
            "\u001b[0;31mNameError\u001b[0m                                 Traceback (most recent call last)",
            "\u001b[0;32m<ipython-input-1-cd73118776ec>\u001b[0m in \u001b[0;36m<module>\u001b[0;34m()\u001b[0m\n\u001b[1;32m      1\u001b[0m \u001b[0;31m#Initializing the randomsearch with XGBoost\u001b[0m\u001b[0;34m\u001b[0m\u001b[0;34m\u001b[0m\u001b[0;34m\u001b[0m\u001b[0m\n\u001b[0;32m----> 2\u001b[0;31m xgb_randomsearch = RandomizedSearchCV(estimator=xg,\n\u001b[0m\u001b[1;32m      3\u001b[0m                                       \u001b[0mparam_distributions\u001b[0m\u001b[0;34m=\u001b[0m\u001b[0mparam_dict_xgb\u001b[0m\u001b[0;34m,\u001b[0m\u001b[0;34m\u001b[0m\u001b[0;34m\u001b[0m\u001b[0m\n\u001b[1;32m      4\u001b[0m                                       cv=5, verbose=2, scoring='roc_auc') \n\u001b[1;32m      5\u001b[0m \u001b[0;34m\u001b[0m\u001b[0m\n",
            "\u001b[0;31mNameError\u001b[0m: name 'RandomizedSearchCV' is not defined"
          ]
        }
      ]
    },
    {
      "cell_type": "code",
      "source": [
        "print('train ROC_AUC score :', xgb_randomsearch.best_estimator_.score(xtrain,ytrain))\n",
        "print('Test ROC_AUC score :', xgb_randomsearch.best_estimator_.score(xtest,ytest))"
      ],
      "metadata": {
        "id": "yNw1lReO5wyF"
      },
      "execution_count": null,
      "outputs": []
    }
  ]
}